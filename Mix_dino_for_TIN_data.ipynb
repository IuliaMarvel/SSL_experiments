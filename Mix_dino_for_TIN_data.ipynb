{
 "cells": [
  {
   "cell_type": "markdown",
   "metadata": {
    "id": "OSRpwcmEa5l2"
   },
   "source": [
    "#Necessary imports"
   ]
  },
  {
   "cell_type": "code",
   "execution_count": 27,
   "metadata": {
    "execution": {
     "iopub.execute_input": "2023-08-17T09:18:02.534173Z",
     "iopub.status.busy": "2023-08-17T09:18:02.533384Z",
     "iopub.status.idle": "2023-08-17T09:18:02.581519Z",
     "shell.execute_reply": "2023-08-17T09:18:02.580791Z",
     "shell.execute_reply.started": "2023-08-17T09:18:02.534150Z"
    }
   },
   "outputs": [
    {
     "name": "stdout",
     "output_type": "stream",
     "text": [
      "The autoreload extension is already loaded. To reload it, use:\n",
      "  %reload_ext autoreload\n"
     ]
    }
   ],
   "source": [
    "%load_ext autoreload\n",
    "%autoreload 2"
   ]
  },
  {
   "cell_type": "code",
   "execution_count": 28,
   "metadata": {
    "execution": {
     "iopub.execute_input": "2023-08-17T09:18:02.582772Z",
     "iopub.status.busy": "2023-08-17T09:18:02.582578Z",
     "iopub.status.idle": "2023-08-17T09:18:02.622707Z",
     "shell.execute_reply": "2023-08-17T09:18:02.621792Z",
     "shell.execute_reply.started": "2023-08-17T09:18:02.582761Z"
    },
    "id": "qX9vHI95Zgli"
   },
   "outputs": [],
   "source": [
    "import warnings\n",
    "warnings.filterwarnings(\"ignore\")"
   ]
  },
  {
   "cell_type": "code",
   "execution_count": 29,
   "metadata": {
    "execution": {
     "iopub.execute_input": "2023-08-17T09:18:02.624370Z",
     "iopub.status.busy": "2023-08-17T09:18:02.624112Z",
     "iopub.status.idle": "2023-08-17T09:18:06.162522Z",
     "shell.execute_reply": "2023-08-17T09:18:06.161710Z",
     "shell.execute_reply.started": "2023-08-17T09:18:02.624347Z"
    }
   },
   "outputs": [
    {
     "name": "stdout",
     "output_type": "stream",
     "text": [
      "\u001b[33mWARNING: Running pip as the 'root' user can result in broken permissions and conflicting behaviour with the system package manager. It is recommended to use a virtual environment instead: https://pip.pypa.io/warnings/venv\u001b[0m\u001b[33m\n",
      "\u001b[0m"
     ]
    }
   ],
   "source": [
    "!pip install -q lightly"
   ]
  },
  {
   "cell_type": "code",
   "execution_count": 30,
   "metadata": {
    "execution": {
     "iopub.execute_input": "2023-08-17T09:18:06.165506Z",
     "iopub.status.busy": "2023-08-17T09:18:06.164999Z",
     "iopub.status.idle": "2023-08-17T09:18:09.198162Z",
     "shell.execute_reply": "2023-08-17T09:18:09.197453Z",
     "shell.execute_reply.started": "2023-08-17T09:18:06.165429Z"
    }
   },
   "outputs": [
    {
     "name": "stdout",
     "output_type": "stream",
     "text": [
      "\u001b[33mWARNING: Running pip as the 'root' user can result in broken permissions and conflicting behaviour with the system package manager. It is recommended to use a virtual environment instead: https://pip.pypa.io/warnings/venv\u001b[0m\u001b[33m\n",
      "\u001b[0m"
     ]
    }
   ],
   "source": [
    "!pip install wandb -Uq"
   ]
  },
  {
   "cell_type": "code",
   "execution_count": 31,
   "metadata": {
    "execution": {
     "iopub.execute_input": "2023-08-17T09:18:09.199657Z",
     "iopub.status.busy": "2023-08-17T09:18:09.199314Z",
     "iopub.status.idle": "2023-08-17T09:18:16.959382Z",
     "shell.execute_reply": "2023-08-17T09:18:16.953064Z",
     "shell.execute_reply.started": "2023-08-17T09:18:09.199637Z"
    },
    "id": "HS8-QCmDWIXN"
   },
   "outputs": [
    {
     "name": "stdout",
     "output_type": "stream",
     "text": [
      "Requirement already satisfied: openmim in /usr/local/lib/python3.9/dist-packages (0.3.9)\n",
      "Requirement already satisfied: pip>=19.3 in /usr/local/lib/python3.9/dist-packages (from openmim) (22.3.1)\n",
      "Requirement already satisfied: pandas in /usr/local/lib/python3.9/dist-packages (from openmim) (1.5.0)\n",
      "Requirement already satisfied: Click in /usr/local/lib/python3.9/dist-packages (from openmim) (8.1.3)\n",
      "Requirement already satisfied: requests in /usr/local/lib/python3.9/dist-packages (from openmim) (2.28.2)\n",
      "Requirement already satisfied: tabulate in /usr/local/lib/python3.9/dist-packages (from openmim) (0.9.0)\n",
      "Requirement already satisfied: colorama in /usr/local/lib/python3.9/dist-packages (from openmim) (0.4.3)\n",
      "Requirement already satisfied: model-index in /usr/local/lib/python3.9/dist-packages (from openmim) (0.1.11)\n",
      "Requirement already satisfied: rich in /usr/local/lib/python3.9/dist-packages (from openmim) (13.4.2)\n",
      "Requirement already satisfied: opendatalab in /usr/local/lib/python3.9/dist-packages (from openmim) (0.0.10)\n",
      "Requirement already satisfied: markdown in /usr/local/lib/python3.9/dist-packages (from model-index->openmim) (3.4.1)\n",
      "Requirement already satisfied: pyyaml in /usr/local/lib/python3.9/dist-packages (from model-index->openmim) (6.0.1)\n",
      "Requirement already satisfied: ordered-set in /usr/local/lib/python3.9/dist-packages (from model-index->openmim) (4.1.0)\n",
      "Requirement already satisfied: openxlab in /usr/local/lib/python3.9/dist-packages (from opendatalab->openmim) (0.0.17)\n",
      "Requirement already satisfied: tqdm in /usr/local/lib/python3.9/dist-packages (from opendatalab->openmim) (4.65.2)\n",
      "Requirement already satisfied: pycryptodome in /usr/local/lib/python3.9/dist-packages (from opendatalab->openmim) (3.18.0)\n",
      "Requirement already satisfied: charset-normalizer<4,>=2 in /usr/local/lib/python3.9/dist-packages (from requests->openmim) (2.1.1)\n",
      "Requirement already satisfied: urllib3<1.27,>=1.21.1 in /usr/local/lib/python3.9/dist-packages (from requests->openmim) (1.26.14)\n",
      "Requirement already satisfied: certifi>=2017.4.17 in /usr/lib/python3/dist-packages (from requests->openmim) (2019.11.28)\n",
      "Requirement already satisfied: idna<4,>=2.5 in /usr/lib/python3/dist-packages (from requests->openmim) (2.8)\n",
      "Requirement already satisfied: numpy>=1.20.3 in /usr/local/lib/python3.9/dist-packages (from pandas->openmim) (1.23.4)\n",
      "Requirement already satisfied: python-dateutil>=2.8.1 in /usr/local/lib/python3.9/dist-packages (from pandas->openmim) (2.8.2)\n",
      "Requirement already satisfied: pytz>=2020.1 in /usr/local/lib/python3.9/dist-packages (from pandas->openmim) (2023.3)\n",
      "Requirement already satisfied: markdown-it-py>=2.2.0 in /usr/local/lib/python3.9/dist-packages (from rich->openmim) (2.2.0)\n",
      "Requirement already satisfied: pygments<3.0.0,>=2.13.0 in /usr/local/lib/python3.9/dist-packages (from rich->openmim) (2.14.0)\n",
      "Requirement already satisfied: mdurl~=0.1 in /usr/local/lib/python3.9/dist-packages (from markdown-it-py>=2.2.0->rich->openmim) (0.1.2)\n",
      "Requirement already satisfied: six>=1.5 in /usr/lib/python3/dist-packages (from python-dateutil>=2.8.1->pandas->openmim) (1.14.0)\n",
      "Requirement already satisfied: importlib-metadata>=4.4 in /usr/local/lib/python3.9/dist-packages (from markdown->model-index->openmim) (6.8.0)\n",
      "Requirement already satisfied: setuptools~=60.2.0 in /usr/local/lib/python3.9/dist-packages (from openxlab->opendatalab->openmim) (60.2.0)\n",
      "Requirement already satisfied: oss2~=2.17.0 in /usr/local/lib/python3.9/dist-packages (from openxlab->opendatalab->openmim) (2.17.0)\n",
      "Requirement already satisfied: zipp>=0.5 in /usr/local/lib/python3.9/dist-packages (from importlib-metadata>=4.4->markdown->model-index->openmim) (3.11.0)\n",
      "Requirement already satisfied: aliyun-python-sdk-core>=2.13.12 in /usr/local/lib/python3.9/dist-packages (from oss2~=2.17.0->openxlab->opendatalab->openmim) (2.13.36)\n",
      "Requirement already satisfied: aliyun-python-sdk-kms>=2.4.1 in /usr/local/lib/python3.9/dist-packages (from oss2~=2.17.0->openxlab->opendatalab->openmim) (2.16.1)\n",
      "Requirement already satisfied: crcmod>=1.7 in /usr/local/lib/python3.9/dist-packages (from oss2~=2.17.0->openxlab->opendatalab->openmim) (1.7)\n",
      "Requirement already satisfied: cryptography>=2.6.0 in /usr/local/lib/python3.9/dist-packages (from aliyun-python-sdk-core>=2.13.12->oss2~=2.17.0->openxlab->opendatalab->openmim) (41.0.3)\n",
      "Requirement already satisfied: jmespath<1.0.0,>=0.9.3 in /usr/local/lib/python3.9/dist-packages (from aliyun-python-sdk-core>=2.13.12->oss2~=2.17.0->openxlab->opendatalab->openmim) (0.10.0)\n",
      "Requirement already satisfied: cffi>=1.12 in /usr/local/lib/python3.9/dist-packages (from cryptography>=2.6.0->aliyun-python-sdk-core>=2.13.12->oss2~=2.17.0->openxlab->opendatalab->openmim) (1.15.1)\n",
      "Requirement already satisfied: pycparser in /usr/local/lib/python3.9/dist-packages (from cffi>=1.12->cryptography>=2.6.0->aliyun-python-sdk-core>=2.13.12->oss2~=2.17.0->openxlab->opendatalab->openmim) (2.21)\n",
      "\u001b[33mWARNING: Running pip as the 'root' user can result in broken permissions and conflicting behaviour with the system package manager. It is recommended to use a virtual environment instead: https://pip.pypa.io/warnings/venv\u001b[0m\u001b[33m\n",
      "\u001b[0mLooking in links: https://download.openmmlab.com/mmcv/dist/cu116/torch1.12.0/index.html\n",
      "Requirement already satisfied: mmpretrain>=1.0.0rc8 in /usr/local/lib/python3.9/dist-packages (1.0.2)\n",
      "Requirement already satisfied: einops in /usr/local/lib/python3.9/dist-packages (from mmpretrain>=1.0.0rc8) (0.6.1)\n",
      "Requirement already satisfied: modelindex in /usr/local/lib/python3.9/dist-packages (from mmpretrain>=1.0.0rc8) (0.0.2)\n",
      "Requirement already satisfied: matplotlib in /usr/local/lib/python3.9/dist-packages (from mmpretrain>=1.0.0rc8) (3.6.1)\n",
      "Requirement already satisfied: rich in /usr/local/lib/python3.9/dist-packages (from mmpretrain>=1.0.0rc8) (13.4.2)\n",
      "Requirement already satisfied: mat4py in /usr/local/lib/python3.9/dist-packages (from mmpretrain>=1.0.0rc8) (0.5.0)\n",
      "Requirement already satisfied: importlib-metadata in /usr/local/lib/python3.9/dist-packages (from mmpretrain>=1.0.0rc8) (6.8.0)\n",
      "Requirement already satisfied: numpy in /usr/local/lib/python3.9/dist-packages (from mmpretrain>=1.0.0rc8) (1.23.4)\n",
      "Requirement already satisfied: mmengine<1.0.0,>=0.8.3 in /usr/local/lib/python3.9/dist-packages (from mmpretrain>=1.0.0rc8) (0.8.4)\n",
      "Requirement already satisfied: mmcv<2.1.0,>=2.0.0 in /usr/local/lib/python3.9/dist-packages (from mmpretrain>=1.0.0rc8) (2.0.1)\n",
      "Requirement already satisfied: packaging in /usr/local/lib/python3.9/dist-packages (from mmcv<2.1.0,>=2.0.0->mmpretrain>=1.0.0rc8) (23.0)\n",
      "Requirement already satisfied: yapf in /usr/local/lib/python3.9/dist-packages (from mmcv<2.1.0,>=2.0.0->mmpretrain>=1.0.0rc8) (0.40.1)\n",
      "Requirement already satisfied: addict in /usr/local/lib/python3.9/dist-packages (from mmcv<2.1.0,>=2.0.0->mmpretrain>=1.0.0rc8) (2.4.0)\n",
      "Requirement already satisfied: pyyaml in /usr/local/lib/python3.9/dist-packages (from mmcv<2.1.0,>=2.0.0->mmpretrain>=1.0.0rc8) (6.0.1)\n",
      "Requirement already satisfied: opencv-python>=3 in /usr/local/lib/python3.9/dist-packages (from mmcv<2.1.0,>=2.0.0->mmpretrain>=1.0.0rc8) (4.6.0.66)\n",
      "Requirement already satisfied: Pillow in /usr/local/lib/python3.9/dist-packages (from mmcv<2.1.0,>=2.0.0->mmpretrain>=1.0.0rc8) (9.2.0)\n",
      "Requirement already satisfied: termcolor in /usr/local/lib/python3.9/dist-packages (from mmengine<1.0.0,>=0.8.3->mmpretrain>=1.0.0rc8) (2.2.0)\n",
      "Requirement already satisfied: zipp>=0.5 in /usr/local/lib/python3.9/dist-packages (from importlib-metadata->mmpretrain>=1.0.0rc8) (3.11.0)\n",
      "Requirement already satisfied: cycler>=0.10 in /usr/local/lib/python3.9/dist-packages (from matplotlib->mmpretrain>=1.0.0rc8) (0.11.0)\n",
      "Requirement already satisfied: python-dateutil>=2.7 in /usr/local/lib/python3.9/dist-packages (from matplotlib->mmpretrain>=1.0.0rc8) (2.8.2)\n",
      "Requirement already satisfied: fonttools>=4.22.0 in /usr/local/lib/python3.9/dist-packages (from matplotlib->mmpretrain>=1.0.0rc8) (4.38.0)\n",
      "Requirement already satisfied: pyparsing>=2.2.1 in /usr/local/lib/python3.9/dist-packages (from matplotlib->mmpretrain>=1.0.0rc8) (3.0.9)\n",
      "Requirement already satisfied: contourpy>=1.0.1 in /usr/local/lib/python3.9/dist-packages (from matplotlib->mmpretrain>=1.0.0rc8) (1.0.7)\n",
      "Requirement already satisfied: kiwisolver>=1.0.1 in /usr/local/lib/python3.9/dist-packages (from matplotlib->mmpretrain>=1.0.0rc8) (1.4.4)\n",
      "Requirement already satisfied: model-index in /usr/local/lib/python3.9/dist-packages (from modelindex->mmpretrain>=1.0.0rc8) (0.1.11)\n",
      "Requirement already satisfied: pygments<3.0.0,>=2.13.0 in /usr/local/lib/python3.9/dist-packages (from rich->mmpretrain>=1.0.0rc8) (2.14.0)\n",
      "Requirement already satisfied: markdown-it-py>=2.2.0 in /usr/local/lib/python3.9/dist-packages (from rich->mmpretrain>=1.0.0rc8) (2.2.0)\n",
      "Requirement already satisfied: mdurl~=0.1 in /usr/local/lib/python3.9/dist-packages (from markdown-it-py>=2.2.0->rich->mmpretrain>=1.0.0rc8) (0.1.2)\n",
      "Requirement already satisfied: six>=1.5 in /usr/lib/python3/dist-packages (from python-dateutil>=2.7->matplotlib->mmpretrain>=1.0.0rc8) (1.14.0)\n",
      "Requirement already satisfied: ordered-set in /usr/local/lib/python3.9/dist-packages (from model-index->modelindex->mmpretrain>=1.0.0rc8) (4.1.0)\n",
      "Requirement already satisfied: click in /usr/local/lib/python3.9/dist-packages (from model-index->modelindex->mmpretrain>=1.0.0rc8) (8.1.3)\n",
      "Requirement already satisfied: markdown in /usr/local/lib/python3.9/dist-packages (from model-index->modelindex->mmpretrain>=1.0.0rc8) (3.4.1)\n",
      "Requirement already satisfied: platformdirs>=3.5.1 in /usr/local/lib/python3.9/dist-packages (from yapf->mmcv<2.1.0,>=2.0.0->mmpretrain>=1.0.0rc8) (3.10.0)\n",
      "Requirement already satisfied: tomli>=2.0.1 in /usr/local/lib/python3.9/dist-packages (from yapf->mmcv<2.1.0,>=2.0.0->mmpretrain>=1.0.0rc8) (2.0.1)\n",
      "\u001b[33mWARNING: Running pip as the 'root' user can result in broken permissions and conflicting behaviour with the system package manager. It is recommended to use a virtual environment instead: https://pip.pypa.io/warnings/venv\u001b[0m\u001b[33m\n",
      "\u001b[0m"
     ]
    }
   ],
   "source": [
    "!pip install -U openmim && mim install \"mmpretrain>=1.0.0rc8\""
   ]
  },
  {
   "cell_type": "code",
   "execution_count": 32,
   "metadata": {
    "execution": {
     "iopub.execute_input": "2023-08-17T09:18:16.960843Z",
     "iopub.status.busy": "2023-08-17T09:18:16.960568Z",
     "iopub.status.idle": "2023-08-17T09:18:17.006969Z",
     "shell.execute_reply": "2023-08-17T09:18:17.006121Z",
     "shell.execute_reply.started": "2023-08-17T09:18:16.960816Z"
    }
   },
   "outputs": [],
   "source": [
    "N_EPOCHS = 20"
   ]
  },
  {
   "cell_type": "code",
   "execution_count": 33,
   "metadata": {
    "execution": {
     "iopub.execute_input": "2023-08-17T09:18:17.007839Z",
     "iopub.status.busy": "2023-08-17T09:18:17.007666Z",
     "iopub.status.idle": "2023-08-17T09:18:17.052934Z",
     "shell.execute_reply": "2023-08-17T09:18:17.052184Z",
     "shell.execute_reply.started": "2023-08-17T09:18:17.007823Z"
    }
   },
   "outputs": [
    {
     "name": "stderr",
     "output_type": "stream",
     "text": [
      "\u001b[34m\u001b[1mwandb\u001b[0m: \u001b[33mWARNING\u001b[0m Calling wandb.login() after wandb.init() has no effect.\n"
     ]
    },
    {
     "data": {
      "text/plain": [
       "True"
      ]
     },
     "execution_count": 33,
     "metadata": {},
     "output_type": "execute_result"
    }
   ],
   "source": [
    "import wandb\n",
    "\n",
    "wandb.login()"
   ]
  },
  {
   "cell_type": "code",
   "execution_count": 34,
   "metadata": {
    "colab": {
     "base_uri": "https://localhost:8080/"
    },
    "execution": {
     "iopub.execute_input": "2023-08-17T09:18:17.053951Z",
     "iopub.status.busy": "2023-08-17T09:18:17.053779Z",
     "iopub.status.idle": "2023-08-17T09:18:17.099942Z",
     "shell.execute_reply": "2023-08-17T09:18:17.099260Z",
     "shell.execute_reply.started": "2023-08-17T09:18:17.053935Z"
    },
    "id": "ui1LUgCFZhlA",
    "outputId": "c1163bbe-071c-46ce-9c4e-db9dcd20a65c"
   },
   "outputs": [
    {
     "data": {
      "text/plain": [
       "device(type='cuda', index=0)"
      ]
     },
     "execution_count": 34,
     "metadata": {},
     "output_type": "execute_result"
    }
   ],
   "source": [
    "import numpy as np\n",
    "import pandas as pd\n",
    "import copy\n",
    "import torch\n",
    "from sklearn.model_selection import cross_val_score\n",
    "from sklearn.neighbors import KNeighborsClassifier\n",
    "from torch import nn\n",
    "import matplotlib.pyplot as plt\n",
    "from PIL import Image\n",
    "\n",
    "from tqdm import tqdm\n",
    "\n",
    "import torch\n",
    "import torchvision\n",
    "\n",
    "from torch import nn\n",
    "from torchvision import transforms\n",
    "\n",
    "from lightly.loss import NTXentLoss\n",
    "from lightly.models.modules import SimCLRProjectionHead\n",
    "from lightly.transforms.simclr_transform import SimCLRTransform\n",
    "\n",
    "from lightly.data import LightlyDataset\n",
    "from sklearn.neighbors import NearestNeighbors\n",
    "from sklearn.preprocessing import normalize\n",
    "\n",
    "DEVICE = torch.device('cuda:0' if torch.cuda.is_available() else 'cpu')\n",
    "DEVICE"
   ]
  },
  {
   "cell_type": "code",
   "execution_count": 35,
   "metadata": {
    "execution": {
     "iopub.execute_input": "2023-08-17T09:18:17.100847Z",
     "iopub.status.busy": "2023-08-17T09:18:17.100675Z",
     "iopub.status.idle": "2023-08-17T09:18:17.140321Z",
     "shell.execute_reply": "2023-08-17T09:18:17.139526Z",
     "shell.execute_reply.started": "2023-08-17T09:18:17.100831Z"
    },
    "id": "CYu_FwP1o6rq"
   },
   "outputs": [],
   "source": [
    "from knn import KNN, reproducibility\n",
    "reproducibility(1000)"
   ]
  },
  {
   "cell_type": "markdown",
   "metadata": {
    "id": "MLw6hsHLa9rs"
   },
   "source": [
    "#Define model"
   ]
  },
  {
   "cell_type": "code",
   "execution_count": 36,
   "metadata": {
    "colab": {
     "base_uri": "https://localhost:8080/"
    },
    "execution": {
     "iopub.execute_input": "2023-08-17T09:18:17.143237Z",
     "iopub.status.busy": "2023-08-17T09:18:17.143027Z",
     "iopub.status.idle": "2023-08-17T09:18:17.360557Z",
     "shell.execute_reply": "2023-08-17T09:18:17.359975Z",
     "shell.execute_reply.started": "2023-08-17T09:18:17.143221Z"
    },
    "id": "J80S2t2naX9Y",
    "outputId": "6ed7f543-ca53-438e-a020-8e2f8a7efcb7"
   },
   "outputs": [],
   "source": [
    "from mmpretrain import get_model\n",
    "\n",
    "model = get_model('vit-small-p14_dinov2-pre_3rdparty', pretrained=False)\n",
    "model = model.to(DEVICE)"
   ]
  },
  {
   "cell_type": "code",
   "execution_count": 37,
   "metadata": {
    "execution": {
     "iopub.execute_input": "2023-08-17T09:18:17.361706Z",
     "iopub.status.busy": "2023-08-17T09:18:17.361514Z",
     "iopub.status.idle": "2023-08-17T09:18:17.402581Z",
     "shell.execute_reply": "2023-08-17T09:18:17.401580Z",
     "shell.execute_reply.started": "2023-08-17T09:18:17.361690Z"
    }
   },
   "outputs": [],
   "source": [
    "# model.load_state_dict(torch.load('dino_TIN_acc10.00_epoch30.pt'))"
   ]
  },
  {
   "cell_type": "markdown",
   "metadata": {
    "id": "8Pz8GFLvpBs6"
   },
   "source": [
    "#Data (cifar10 or cifar100)"
   ]
  },
  {
   "cell_type": "code",
   "execution_count": 38,
   "metadata": {
    "execution": {
     "iopub.execute_input": "2023-08-17T09:18:17.403615Z",
     "iopub.status.busy": "2023-08-17T09:18:17.403413Z",
     "iopub.status.idle": "2023-08-17T09:18:17.443124Z",
     "shell.execute_reply": "2023-08-17T09:18:17.442365Z",
     "shell.execute_reply.started": "2023-08-17T09:18:17.403597Z"
    },
    "id": "jkPE1GwCaD1L"
   },
   "outputs": [],
   "source": [
    "from lightly.transforms.dino_transform import DINOTransform"
   ]
  },
  {
   "cell_type": "code",
   "execution_count": 39,
   "metadata": {
    "colab": {
     "base_uri": "https://localhost:8080/"
    },
    "execution": {
     "iopub.execute_input": "2023-08-17T09:18:17.444197Z",
     "iopub.status.busy": "2023-08-17T09:18:17.443962Z",
     "iopub.status.idle": "2023-08-17T09:18:22.062844Z",
     "shell.execute_reply": "2023-08-17T09:18:22.062155Z",
     "shell.execute_reply.started": "2023-08-17T09:18:17.444173Z"
    },
    "id": "X-AHB_PdrlI_",
    "outputId": "037e1315-76fb-4bba-bafe-42ddf16cab89"
   },
   "outputs": [],
   "source": [
    "from torchvision import datasets\n",
    "import os\n",
    "\n",
    "transform = SimCLRTransform(input_size=32, gaussian_blur=0.0)\n",
    "dst_train = datasets.ImageFolder(root='datasets/tiny-imagenet-200/train', transform=transform)\n",
    "\n",
    "# data_mean, data_std = get_input_stats(DATASET)\n",
    "# normalize_dict = {'mean': data_mean, 'std': data_std}\n",
    "\n",
    "dataset = LightlyDataset.from_torch_dataset(dst_train, transform=transform)\n",
    "\n",
    "dataloader = torch.utils.data.DataLoader(\n",
    "    dataset,\n",
    "    batch_size=128,\n",
    "    shuffle=True,\n",
    "    drop_last=True,\n",
    "    num_workers=2,\n",
    "    pin_memory=True\n",
    ")"
   ]
  },
  {
   "cell_type": "markdown",
   "metadata": {
    "id": "qt_x8uWapvpz"
   },
   "source": [
    "#Optimizer and Scheduler"
   ]
  },
  {
   "cell_type": "code",
   "execution_count": 40,
   "metadata": {
    "execution": {
     "iopub.execute_input": "2023-08-17T09:18:22.064467Z",
     "iopub.status.busy": "2023-08-17T09:18:22.064220Z",
     "iopub.status.idle": "2023-08-17T09:18:22.104607Z",
     "shell.execute_reply": "2023-08-17T09:18:22.103558Z",
     "shell.execute_reply.started": "2023-08-17T09:18:22.064444Z"
    },
    "id": "eolzz2Yjpsiy"
   },
   "outputs": [],
   "source": [
    "criterion = NTXentLoss()\n",
    "optimizer = torch.optim.Adam(model.parameters(), lr=3e-4)\n",
    "# scheduler = torch.optim.lr_scheduler.ExponentialLR(optimizer,gamma=0.999)\n",
    "# scheduler = torch.optim.lr_scheduler.CyclicLR(optimizer,base_lr=0.001, max_lr=0.01)"
   ]
  },
  {
   "cell_type": "markdown",
   "metadata": {
    "id": "6mWUxvzNqMhL"
   },
   "source": [
    "#KNN and dataloaders for evaluation"
   ]
  },
  {
   "cell_type": "code",
   "execution_count": 41,
   "metadata": {
    "colab": {
     "base_uri": "https://localhost:8080/"
    },
    "execution": {
     "iopub.execute_input": "2023-08-17T09:18:22.105614Z",
     "iopub.status.busy": "2023-08-17T09:18:22.105433Z",
     "iopub.status.idle": "2023-08-17T09:18:30.438585Z",
     "shell.execute_reply": "2023-08-17T09:18:30.437846Z",
     "shell.execute_reply.started": "2023-08-17T09:18:22.105598Z"
    },
    "id": "-1MgDzsMqTv3",
    "outputId": "f32ac544-c55b-4e4f-df15-a4c30e351497"
   },
   "outputs": [],
   "source": [
    "from torchvision import transforms as T\n",
    "from torch.utils.data import DataLoader\n",
    "from sklearn.model_selection import train_test_split\n",
    "\n",
    "BATCH_SIZE = 32\n",
    "\n",
    "test_transform = T.Compose([\n",
    "            T.ToTensor(),\n",
    "            T.Normalize(mean=[0.485, 0.456, 0.406], std=[0.229, 0.224, 0.225]) ])\n",
    "\n",
    "def get_loaders( batch_size, transform=test_transform,data_path='./'):\n",
    "    dst_train = datasets.ImageFolder(root=os.path.join(data_path,'datasets/tiny-imagenet-200/train'), transform=test_transform)\n",
    "    dst_test = datasets.ImageFolder(root=os.path.join(data_path, 'datasets/tiny-imagenet-200/val'), transform=test_transform)\n",
    "    train_loader = DataLoader(dataset=dst_train, batch_size=batch_size, num_workers=2, drop_last=True)\n",
    "    test_loader = DataLoader(dataset=dst_test, batch_size=batch_size, num_workers=2, drop_last=True)\n",
    "    return train_loader, test_loader\n",
    "\n",
    "train_loader, test_loader = get_loaders(batch_size=BATCH_SIZE)"
   ]
  },
  {
   "cell_type": "code",
   "execution_count": 42,
   "metadata": {
    "execution": {
     "iopub.execute_input": "2023-08-17T09:18:30.439644Z",
     "iopub.status.busy": "2023-08-17T09:18:30.439453Z",
     "iopub.status.idle": "2023-08-17T09:18:30.478339Z",
     "shell.execute_reply": "2023-08-17T09:18:30.477376Z",
     "shell.execute_reply.started": "2023-08-17T09:18:30.439628Z"
    }
   },
   "outputs": [],
   "source": [
    "# import time\n",
    "# model.eval()\n",
    "# start_time = time.time()\n",
    "# ssl_evaluator = KNN(model=model, k=1, device='cuda', transformer=True)\n",
    "# train_acc, val_acc = ssl_evaluator.fit(train_loader, test_loader)\n",
    "# print(train_acc, val_acc)\n",
    "# print(time.time() - start_time, 'seconds')"
   ]
  },
  {
   "cell_type": "markdown",
   "metadata": {
    "id": "m4XouXdG-L7Q"
   },
   "source": [
    "#Make directory for saving models & Training"
   ]
  },
  {
   "cell_type": "code",
   "execution_count": 43,
   "metadata": {
    "execution": {
     "iopub.execute_input": "2023-08-17T09:18:30.479695Z",
     "iopub.status.busy": "2023-08-17T09:18:30.479503Z",
     "iopub.status.idle": "2023-08-17T09:18:30.519520Z",
     "shell.execute_reply": "2023-08-17T09:18:30.518602Z",
     "shell.execute_reply.started": "2023-08-17T09:18:30.479678Z"
    },
    "id": "qurfgzmihYwF"
   },
   "outputs": [],
   "source": [
    "device = \"cuda\" if torch.cuda.is_available() else \"cpu\""
   ]
  },
  {
   "cell_type": "code",
   "execution_count": 44,
   "metadata": {
    "execution": {
     "iopub.execute_input": "2023-08-17T09:18:30.521245Z",
     "iopub.status.busy": "2023-08-17T09:18:30.520607Z",
     "iopub.status.idle": "2023-08-17T09:18:30.564803Z",
     "shell.execute_reply": "2023-08-17T09:18:30.564199Z",
     "shell.execute_reply.started": "2023-08-17T09:18:30.521219Z"
    }
   },
   "outputs": [],
   "source": [
    "config = dict(\n",
    "    epochs=N_EPOCHS,\n",
    "    classes=200,\n",
    "    learning_rate=3e-4,\n",
    "    dataset=\"TinyImageNet\",\n",
    "    model=\"BarlowTwins\")"
   ]
  },
  {
   "cell_type": "code",
   "execution_count": 45,
   "metadata": {
    "execution": {
     "iopub.execute_input": "2023-08-17T09:18:30.566471Z",
     "iopub.status.busy": "2023-08-17T09:18:30.565820Z",
     "iopub.status.idle": "2023-08-17T09:18:37.044282Z",
     "shell.execute_reply": "2023-08-17T09:18:37.043054Z",
     "shell.execute_reply.started": "2023-08-17T09:18:30.566450Z"
    }
   },
   "outputs": [
    {
     "data": {
      "text/html": [
       "Finishing last run (ID:9qtvtb9j) before initializing another..."
      ],
      "text/plain": [
       "<IPython.core.display.HTML object>"
      ]
     },
     "metadata": {},
     "output_type": "display_data"
    },
    {
     "data": {
      "text/html": [
       "Waiting for W&B process to finish... <strong style=\"color:green\">(success).</strong>"
      ],
      "text/plain": [
       "<IPython.core.display.HTML object>"
      ]
     },
     "metadata": {},
     "output_type": "display_data"
    },
    {
     "data": {
      "application/vnd.jupyter.widget-view+json": {
       "model_id": "b3a8ae324cd64656a9713af4a1aa02ad",
       "version_major": 2,
       "version_minor": 0
      },
      "text/plain": [
       "VBox(children=(Label(value='0.002 MB of 0.002 MB uploaded (0.000 MB deduped)\\r'), FloatProgress(value=1.0, max…"
      ]
     },
     "metadata": {},
     "output_type": "display_data"
    },
    {
     "data": {
      "text/html": [
       "<style>\n",
       "    table.wandb td:nth-child(1) { padding: 0 10px; text-align: left ; width: auto;} td:nth-child(2) {text-align: left ; width: 100%}\n",
       "    .wandb-row { display: flex; flex-direction: row; flex-wrap: wrap; justify-content: flex-start; width: 100% }\n",
       "    .wandb-col { display: flex; flex-direction: column; flex-basis: 100%; flex: 1; padding: 10px; }\n",
       "    </style>\n",
       "<div class=\"wandb-row\"><div class=\"wandb-col\"><h3>Run history:</h3><br/><table class=\"wandb\"><tr><td>epoch</td><td>▁▁▂▂▂▃▃▄▄▄▅▅▅▆▆▇▇▇██▁▁▂▂</td></tr><tr><td>loss</td><td>▇▆▆▅▅▅▅▄▄▄▃▃▃▃▂▂▂▂▁▁██▇▇</td></tr></table><br/></div><div class=\"wandb-col\"><h3>Run summary:</h3><br/><table class=\"wandb\"><tr><td>epoch</td><td>3</td></tr><tr><td>loss</td><td>4.45504</td></tr></table><br/></div></div>"
      ],
      "text/plain": [
       "<IPython.core.display.HTML object>"
      ]
     },
     "metadata": {},
     "output_type": "display_data"
    },
    {
     "data": {
      "text/html": [
       " View run <strong style=\"color:#cdcd00\">worthy-blaze-1</strong> at: <a href='https://wandb.ai/ivanova3581321/Dino_TIN_20epochs/runs/9qtvtb9j' target=\"_blank\">https://wandb.ai/ivanova3581321/Dino_TIN_20epochs/runs/9qtvtb9j</a><br/> View job at <a href='https://wandb.ai/ivanova3581321/Dino_TIN_20epochs/jobs/QXJ0aWZhY3RDb2xsZWN0aW9uOjkxMDU4MDU3/version_details/v0' target=\"_blank\">https://wandb.ai/ivanova3581321/Dino_TIN_20epochs/jobs/QXJ0aWZhY3RDb2xsZWN0aW9uOjkxMDU4MDU3/version_details/v0</a><br/>Synced 5 W&B file(s), 0 media file(s), 2 artifact file(s) and 0 other file(s)"
      ],
      "text/plain": [
       "<IPython.core.display.HTML object>"
      ]
     },
     "metadata": {},
     "output_type": "display_data"
    },
    {
     "data": {
      "text/html": [
       "Find logs at: <code>./wandb/run-20230817_063738-9qtvtb9j/logs</code>"
      ],
      "text/plain": [
       "<IPython.core.display.HTML object>"
      ]
     },
     "metadata": {},
     "output_type": "display_data"
    },
    {
     "data": {
      "text/html": [
       "Successfully finished last run (ID:9qtvtb9j). Initializing new run:<br/>"
      ],
      "text/plain": [
       "<IPython.core.display.HTML object>"
      ]
     },
     "metadata": {},
     "output_type": "display_data"
    },
    {
     "data": {
      "text/html": [
       "Tracking run with wandb version 0.15.8"
      ],
      "text/plain": [
       "<IPython.core.display.HTML object>"
      ]
     },
     "metadata": {},
     "output_type": "display_data"
    },
    {
     "data": {
      "text/html": [
       "Run data is saved locally in <code>/notebooks/wandb/run-20230817_091830-l6clxs6e</code>"
      ],
      "text/plain": [
       "<IPython.core.display.HTML object>"
      ]
     },
     "metadata": {},
     "output_type": "display_data"
    },
    {
     "data": {
      "text/html": [
       "Syncing run <strong><a href='https://wandb.ai/ivanova3581321/Dino_TIN_20%28early_finish%29epochs/runs/l6clxs6e' target=\"_blank\">fiery-water-1</a></strong> to <a href='https://wandb.ai/ivanova3581321/Dino_TIN_20%28early_finish%29epochs' target=\"_blank\">Weights & Biases</a> (<a href='https://wandb.me/run' target=\"_blank\">docs</a>)<br/>"
      ],
      "text/plain": [
       "<IPython.core.display.HTML object>"
      ]
     },
     "metadata": {},
     "output_type": "display_data"
    },
    {
     "data": {
      "text/html": [
       " View project at <a href='https://wandb.ai/ivanova3581321/Dino_TIN_20%28early_finish%29epochs' target=\"_blank\">https://wandb.ai/ivanova3581321/Dino_TIN_20%28early_finish%29epochs</a>"
      ],
      "text/plain": [
       "<IPython.core.display.HTML object>"
      ]
     },
     "metadata": {},
     "output_type": "display_data"
    },
    {
     "data": {
      "text/html": [
       " View run at <a href='https://wandb.ai/ivanova3581321/Dino_TIN_20%28early_finish%29epochs/runs/l6clxs6e' target=\"_blank\">https://wandb.ai/ivanova3581321/Dino_TIN_20%28early_finish%29epochs/runs/l6clxs6e</a>"
      ],
      "text/plain": [
       "<IPython.core.display.HTML object>"
      ]
     },
     "metadata": {},
     "output_type": "display_data"
    },
    {
     "data": {
      "text/html": [
       "<button onClick=\"this.nextSibling.style.display='block';this.style.display='none';\">Display W&B run</button><iframe src='https://wandb.ai/ivanova3581321/Dino_TIN_20%28early_finish%29epochs/runs/l6clxs6e?jupyter=true' style='border:none;width:100%;height:420px;display:none;'></iframe>"
      ],
      "text/plain": [
       "<wandb.sdk.wandb_run.Run at 0x7f0de4e382e0>"
      ]
     },
     "execution_count": 45,
     "metadata": {},
     "output_type": "execute_result"
    }
   ],
   "source": [
    "wandb.init(project=\"Dino_TIN_20(early_finish)epochs\", config=config)"
   ]
  },
  {
   "cell_type": "code",
   "execution_count": 46,
   "metadata": {
    "colab": {
     "base_uri": "https://localhost:8080/"
    },
    "execution": {
     "iopub.execute_input": "2023-08-17T09:18:37.045581Z",
     "iopub.status.busy": "2023-08-17T09:18:37.045382Z",
     "iopub.status.idle": "2023-08-17T11:10:40.349752Z",
     "shell.execute_reply": "2023-08-17T11:10:40.349160Z",
     "shell.execute_reply.started": "2023-08-17T09:18:37.045563Z"
    },
    "id": "yVQTGYZC-GRA",
    "outputId": "c98e1f41-9011-42a9-deec-2438b55895c3"
   },
   "outputs": [
    {
     "name": "stdout",
     "output_type": "stream",
     "text": [
      "Starting Training\n"
     ]
    },
    {
     "name": "stderr",
     "output_type": "stream",
     "text": [
      "  5%|▌         | 1/20 [05:33<1:45:32, 333.27s/it]"
     ]
    },
    {
     "name": "stdout",
     "output_type": "stream",
     "text": [
      " epoch: 00, loss: 5.05278\n"
     ]
    },
    {
     "name": "stderr",
     "output_type": "stream",
     "text": [
      " 10%|█         | 2/20 [11:03<1:39:30, 331.70s/it]"
     ]
    },
    {
     "name": "stdout",
     "output_type": "stream",
     "text": [
      " epoch: 01, loss: 4.83692\n"
     ]
    },
    {
     "name": "stderr",
     "output_type": "stream",
     "text": [
      " 15%|█▌        | 3/20 [16:35<1:34:00, 331.81s/it]"
     ]
    },
    {
     "name": "stdout",
     "output_type": "stream",
     "text": [
      " epoch: 02, loss: 4.76562\n"
     ]
    },
    {
     "name": "stderr",
     "output_type": "stream",
     "text": [
      " 20%|██        | 4/20 [22:04<1:28:11, 330.71s/it]"
     ]
    },
    {
     "name": "stdout",
     "output_type": "stream",
     "text": [
      " epoch: 03, loss: 4.72386\n"
     ]
    },
    {
     "name": "stderr",
     "output_type": "stream",
     "text": [
      " 25%|██▌       | 5/20 [27:44<1:23:29, 333.96s/it]"
     ]
    },
    {
     "name": "stdout",
     "output_type": "stream",
     "text": [
      " epoch: 04, loss: 4.69494\n"
     ]
    },
    {
     "name": "stderr",
     "output_type": "stream",
     "text": [
      " 30%|███       | 6/20 [33:25<1:18:27, 336.22s/it]"
     ]
    },
    {
     "name": "stdout",
     "output_type": "stream",
     "text": [
      " epoch: 05, loss: 4.68237\n"
     ]
    },
    {
     "name": "stderr",
     "output_type": "stream",
     "text": [
      " 35%|███▌      | 7/20 [39:02<1:12:55, 336.54s/it]"
     ]
    },
    {
     "name": "stdout",
     "output_type": "stream",
     "text": [
      " epoch: 06, loss: 4.66544\n"
     ]
    },
    {
     "name": "stderr",
     "output_type": "stream",
     "text": [
      " 40%|████      | 8/20 [44:37<1:07:13, 336.09s/it]"
     ]
    },
    {
     "name": "stdout",
     "output_type": "stream",
     "text": [
      " epoch: 07, loss: 4.65405\n"
     ]
    },
    {
     "name": "stderr",
     "output_type": "stream",
     "text": [
      " 45%|████▌     | 9/20 [50:09<1:01:22, 334.80s/it]"
     ]
    },
    {
     "name": "stdout",
     "output_type": "stream",
     "text": [
      " epoch: 08, loss: 4.64095\n"
     ]
    },
    {
     "name": "stderr",
     "output_type": "stream",
     "text": [
      " 50%|█████     | 10/20 [55:42<55:41, 334.17s/it] "
     ]
    },
    {
     "name": "stdout",
     "output_type": "stream",
     "text": [
      " epoch: 09, loss: 4.62451\n"
     ]
    },
    {
     "name": "stderr",
     "output_type": "stream",
     "text": [
      " 55%|█████▌    | 11/20 [1:01:25<50:33, 337.08s/it]"
     ]
    },
    {
     "name": "stdout",
     "output_type": "stream",
     "text": [
      " epoch: 10, loss: 4.61847\n"
     ]
    },
    {
     "name": "stderr",
     "output_type": "stream",
     "text": [
      " 60%|██████    | 12/20 [1:06:57<44:43, 335.45s/it]"
     ]
    },
    {
     "name": "stdout",
     "output_type": "stream",
     "text": [
      " epoch: 11, loss: 4.60477\n"
     ]
    },
    {
     "name": "stderr",
     "output_type": "stream",
     "text": [
      " 65%|██████▌   | 13/20 [1:12:43<39:29, 338.55s/it]"
     ]
    },
    {
     "name": "stdout",
     "output_type": "stream",
     "text": [
      " epoch: 12, loss: 4.59437\n"
     ]
    },
    {
     "name": "stderr",
     "output_type": "stream",
     "text": [
      " 70%|███████   | 14/20 [1:18:21<33:50, 338.47s/it]"
     ]
    },
    {
     "name": "stdout",
     "output_type": "stream",
     "text": [
      " epoch: 13, loss: 4.58584\n"
     ]
    },
    {
     "name": "stderr",
     "output_type": "stream",
     "text": [
      " 75%|███████▌  | 15/20 [1:23:56<28:06, 337.38s/it]"
     ]
    },
    {
     "name": "stdout",
     "output_type": "stream",
     "text": [
      " epoch: 14, loss: 4.57737\n"
     ]
    },
    {
     "name": "stderr",
     "output_type": "stream",
     "text": [
      " 80%|████████  | 16/20 [1:29:37<22:33, 338.46s/it]"
     ]
    },
    {
     "name": "stdout",
     "output_type": "stream",
     "text": [
      " epoch: 15, loss: 4.56701\n"
     ]
    },
    {
     "name": "stderr",
     "output_type": "stream",
     "text": [
      " 85%|████████▌ | 17/20 [1:35:07<16:48, 336.09s/it]"
     ]
    },
    {
     "name": "stdout",
     "output_type": "stream",
     "text": [
      " epoch: 16, loss: 4.55582\n"
     ]
    },
    {
     "name": "stderr",
     "output_type": "stream",
     "text": [
      " 90%|█████████ | 18/20 [1:40:45<11:13, 336.64s/it]"
     ]
    },
    {
     "name": "stdout",
     "output_type": "stream",
     "text": [
      " epoch: 17, loss: 4.54815\n"
     ]
    },
    {
     "name": "stderr",
     "output_type": "stream",
     "text": [
      " 95%|█████████▌| 19/20 [1:46:21<05:36, 336.30s/it]"
     ]
    },
    {
     "name": "stdout",
     "output_type": "stream",
     "text": [
      " epoch: 18, loss: 4.53579\n"
     ]
    },
    {
     "name": "stderr",
     "output_type": "stream",
     "text": [
      "100%|██████████| 20/20 [1:52:03<00:00, 336.16s/it]"
     ]
    },
    {
     "name": "stdout",
     "output_type": "stream",
     "text": [
      " epoch: 19, loss: 4.53066\n"
     ]
    },
    {
     "name": "stderr",
     "output_type": "stream",
     "text": [
      "\n"
     ]
    }
   ],
   "source": [
    "best_val_acc = 0\n",
    "\n",
    "print(\"Starting Training\")\n",
    "for epoch in tqdm(range(N_EPOCHS)):\n",
    "    total_loss = 0\n",
    "    for batch in dataloader:\n",
    "        x0, x1 = batch[0]\n",
    "        x0 = x0.to(device)\n",
    "        x1 = x1.to(device)\n",
    "        z0 = model.extract_feat(x0)[0]\n",
    "        z1 = model.extract_feat(x1)[0]\n",
    "        loss = criterion(z0, z1)\n",
    "        total_loss += loss.detach()\n",
    "        loss.backward()\n",
    "        optimizer.step()\n",
    "        optimizer.zero_grad()\n",
    "    # scheduler.step()\n",
    "    avg_loss = total_loss / len(dataloader)\n",
    "    print(f\" epoch: {epoch:>02}, loss: {avg_loss:.5f}\")\n",
    "    wandb.log({'epoch': epoch, 'loss': avg_loss})\n",
    "    # if epoch % 10 == 0:\n",
    "    #     ssl_evaluator = KNN(model=model, k=1, device='cuda')\n",
    "    #     train_acc, val_acc = ssl_evaluator.fit(loader_train_plain, loader_test)\n",
    "    #     if val_acc > best_val_acc:\n",
    "    #         torch.save(model.state_dict(),f'dino_{DATASET}_acc{val_acc:.2f}.pt')\n",
    "    #         best_val_acc = val_acc\n",
    "    #     print(f' Train Accuracy:{train_acc:.1f}%',f' Val Accuracy:{val_acc:.1f}%')"
   ]
  },
  {
   "cell_type": "markdown",
   "metadata": {
    "id": "D7ET-5mTCNPK"
   },
   "source": [
    "#Load best model we have got"
   ]
  },
  {
   "cell_type": "code",
   "execution_count": 47,
   "metadata": {
    "colab": {
     "base_uri": "https://localhost:8080/"
    },
    "execution": {
     "iopub.execute_input": "2023-08-17T11:10:40.351665Z",
     "iopub.status.busy": "2023-08-17T11:10:40.350844Z",
     "iopub.status.idle": "2023-08-17T11:20:26.536135Z",
     "shell.execute_reply": "2023-08-17T11:20:26.535382Z",
     "shell.execute_reply.started": "2023-08-17T11:10:40.351640Z"
    },
    "id": "w-NUb_4LCR4K",
    "outputId": "418b9a69-a8e6-4afa-a755-5343ff5f3226"
   },
   "outputs": [
    {
     "name": "stdout",
     "output_type": "stream",
     "text": [
      "!\n",
      "Evaluate on train data...\n",
      "Evaluate on test data...\n",
      "4.1579999999999995 3.5456340823861043\n"
     ]
    }
   ],
   "source": [
    "print('!')\n",
    "ssl_evaluator = KNN(model=model, k=1, device='cuda', transformer=True)\n",
    "train_acc, val_acc = ssl_evaluator.fit(train_loader, test_loader)\n",
    "print(train_acc, val_acc)"
   ]
  },
  {
   "cell_type": "markdown",
   "metadata": {
    "id": "76Ol8vO7CYdq"
   },
   "source": [
    "#Visual evaluation"
   ]
  },
  {
   "cell_type": "markdown",
   "metadata": {
    "id": "13v4MkndDDBe"
   },
   "source": [
    "#Save backbone model"
   ]
  },
  {
   "cell_type": "code",
   "execution_count": 48,
   "metadata": {
    "execution": {
     "iopub.execute_input": "2023-08-17T11:20:26.539015Z",
     "iopub.status.busy": "2023-08-17T11:20:26.538815Z",
     "iopub.status.idle": "2023-08-17T11:20:26.722765Z",
     "shell.execute_reply": "2023-08-17T11:20:26.722117Z",
     "shell.execute_reply.started": "2023-08-17T11:20:26.538998Z"
    },
    "id": "NCMzWTgzC9iu",
    "tags": []
   },
   "outputs": [],
   "source": [
    "backbone = model.backbone\n",
    "torch.save(backbone.state_dict(), f'dino_TIN_acc{val_acc:.2f}_epoch20.pt')"
   ]
  }
 ],
 "metadata": {
  "accelerator": "GPU",
  "colab": {
   "gpuType": "T4",
   "provenance": [],
   "toc_visible": true
  },
  "kernelspec": {
   "display_name": "Python 3 (ipykernel)",
   "language": "python",
   "name": "python3"
  },
  "language_info": {
   "codemirror_mode": {
    "name": "ipython",
    "version": 3
   },
   "file_extension": ".py",
   "mimetype": "text/x-python",
   "name": "python",
   "nbconvert_exporter": "python",
   "pygments_lexer": "ipython3",
   "version": "3.9.16"
  }
 },
 "nbformat": 4,
 "nbformat_minor": 4
}
