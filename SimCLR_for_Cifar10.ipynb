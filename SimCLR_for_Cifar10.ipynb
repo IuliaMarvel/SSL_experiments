{
 "cells": [
  {
   "cell_type": "markdown",
   "metadata": {
    "id": "OSRpwcmEa5l2"
   },
   "source": [
    "#Necessary imports"
   ]
  },
  {
   "cell_type": "code",
   "execution_count": 1,
   "metadata": {
    "execution": {
     "iopub.execute_input": "2023-08-15T08:03:29.343398Z",
     "iopub.status.busy": "2023-08-15T08:03:29.343046Z",
     "iopub.status.idle": "2023-08-15T08:03:36.003958Z",
     "shell.execute_reply": "2023-08-15T08:03:36.002602Z",
     "shell.execute_reply.started": "2023-08-15T08:03:29.343371Z"
    }
   },
   "outputs": [
    {
     "name": "stdout",
     "output_type": "stream",
     "text": [
      "--2023-08-15 08:03:29--  https://dl.fbaipublicfiles.com/vissl/model_zoo/simclr_rn50_100ep_simclr_8node_resnet_16_07_20.8edb093e/model_final_checkpoint_phase99.torch\n",
      "Resolving dl.fbaipublicfiles.com (dl.fbaipublicfiles.com)... 13.226.34.83, 13.226.34.7, 13.226.34.53, ...\n",
      "Connecting to dl.fbaipublicfiles.com (dl.fbaipublicfiles.com)|13.226.34.83|:443... connected.\n",
      "HTTP request sent, awaiting response... 200 OK\n",
      "Length: 224123169 (214M) [application/zip]\n",
      "Saving to: ‘model_final_checkpoint_phase99.torch’\n",
      "\n",
      "model_final_checkpo 100%[===================>] 213.74M  39.4MB/s    in 5.5s    \n",
      "\n",
      "2023-08-15 08:03:35 (39.0 MB/s) - ‘model_final_checkpoint_phase99.torch’ saved [224123169/224123169]\n",
      "\n"
     ]
    }
   ],
   "source": [
    "!wget https://dl.fbaipublicfiles.com/vissl/model_zoo/simclr_rn50_100ep_simclr_8node_resnet_16_07_20.8edb093e/model_final_checkpoint_phase99.torch"
   ]
  },
  {
   "cell_type": "code",
   "execution_count": 4,
   "metadata": {
    "execution": {
     "iopub.execute_input": "2023-08-15T08:06:00.170445Z",
     "iopub.status.busy": "2023-08-15T08:06:00.170081Z",
     "iopub.status.idle": "2023-08-15T08:06:03.094611Z",
     "shell.execute_reply": "2023-08-15T08:06:03.093269Z",
     "shell.execute_reply.started": "2023-08-15T08:06:00.170419Z"
    }
   },
   "outputs": [
    {
     "ename": "RuntimeError",
     "evalue": "Error(s) in loading state_dict for ResNet:\n\tMissing key(s) in state_dict: \"conv1.weight\", \"bn1.weight\", \"bn1.bias\", \"bn1.running_mean\", \"bn1.running_var\", \"layer1.0.conv1.weight\", \"layer1.0.bn1.weight\", \"layer1.0.bn1.bias\", \"layer1.0.bn1.running_mean\", \"layer1.0.bn1.running_var\", \"layer1.0.conv2.weight\", \"layer1.0.bn2.weight\", \"layer1.0.bn2.bias\", \"layer1.0.bn2.running_mean\", \"layer1.0.bn2.running_var\", \"layer1.0.conv3.weight\", \"layer1.0.bn3.weight\", \"layer1.0.bn3.bias\", \"layer1.0.bn3.running_mean\", \"layer1.0.bn3.running_var\", \"layer1.0.downsample.0.weight\", \"layer1.0.downsample.1.weight\", \"layer1.0.downsample.1.bias\", \"layer1.0.downsample.1.running_mean\", \"layer1.0.downsample.1.running_var\", \"layer1.1.conv1.weight\", \"layer1.1.bn1.weight\", \"layer1.1.bn1.bias\", \"layer1.1.bn1.running_mean\", \"layer1.1.bn1.running_var\", \"layer1.1.conv2.weight\", \"layer1.1.bn2.weight\", \"layer1.1.bn2.bias\", \"layer1.1.bn2.running_mean\", \"layer1.1.bn2.running_var\", \"layer1.1.conv3.weight\", \"layer1.1.bn3.weight\", \"layer1.1.bn3.bias\", \"layer1.1.bn3.running_mean\", \"layer1.1.bn3.running_var\", \"layer1.2.conv1.weight\", \"layer1.2.bn1.weight\", \"layer1.2.bn1.bias\", \"layer1.2.bn1.running_mean\", \"layer1.2.bn1.running_var\", \"layer1.2.conv2.weight\", \"layer1.2.bn2.weight\", \"layer1.2.bn2.bias\", \"layer1.2.bn2.running_mean\", \"layer1.2.bn2.running_var\", \"layer1.2.conv3.weight\", \"layer1.2.bn3.weight\", \"layer1.2.bn3.bias\", \"layer1.2.bn3.running_mean\", \"layer1.2.bn3.running_var\", \"layer2.0.conv1.weight\", \"layer2.0.bn1.weight\", \"layer2.0.bn1.bias\", \"layer2.0.bn1.running_mean\", \"layer2.0.bn1.running_var\", \"layer2.0.conv2.weight\", \"layer2.0.bn2.weight\", \"layer2.0.bn2.bias\", \"layer2.0.bn2.running_mean\", \"layer2.0.bn2.running_var\", \"layer2.0.conv3.weight\", \"layer2.0.bn3.weight\", \"layer2.0.bn3.bias\", \"layer2.0.bn3.running_mean\", \"layer2.0.bn3.running_var\", \"layer2.0.downsample.0.weight\", \"layer2.0.downsample.1.weight\", \"layer2.0.downsample.1.bias\", \"layer2.0.downsample.1.running_mean\", \"layer2.0.downsample.1.running_var\", \"layer2.1.conv1.weight\", \"layer2.1.bn1.weight\", \"layer2.1.bn1.bias\", \"layer2.1.bn1.running_mean\", \"layer2.1.bn1.running_var\", \"layer2.1.conv2.weight\", \"layer2.1.bn2.weight\", \"layer2.1.bn2.bias\", \"layer2.1.bn2.running_mean\", \"layer2.1.bn2.running_var\", \"layer2.1.conv3.weight\", \"layer2.1.bn3.weight\", \"layer2.1.bn3.bias\", \"layer2.1.bn3.running_mean\", \"layer2.1.bn3.running_var\", \"layer2.2.conv1.weight\", \"layer2.2.bn1.weight\", \"layer2.2.bn1.bias\", \"layer2.2.bn1.running_mean\", \"layer2.2.bn1.running_var\", \"layer2.2.conv2.weight\", \"layer2.2.bn2.weight\", \"layer2.2.bn2.bias\", \"layer2.2.bn2.running_mean\", \"layer2.2.bn2.running_var\", \"layer2.2.conv3.weight\", \"layer2.2.bn3.weight\", \"layer2.2.bn3.bias\", \"layer2.2.bn3.running_mean\", \"layer2.2.bn3.running_var\", \"layer2.3.conv1.weight\", \"layer2.3.bn1.weight\", \"layer2.3.bn1.bias\", \"layer2.3.bn1.running_mean\", \"layer2.3.bn1.running_var\", \"layer2.3.conv2.weight\", \"layer2.3.bn2.weight\", \"layer2.3.bn2.bias\", \"layer2.3.bn2.running_mean\", \"layer2.3.bn2.running_var\", \"layer2.3.conv3.weight\", \"layer2.3.bn3.weight\", \"layer2.3.bn3.bias\", \"layer2.3.bn3.running_mean\", \"layer2.3.bn3.running_var\", \"layer3.0.conv1.weight\", \"layer3.0.bn1.weight\", \"layer3.0.bn1.bias\", \"layer3.0.bn1.running_mean\", \"layer3.0.bn1.running_var\", \"layer3.0.conv2.weight\", \"layer3.0.bn2.weight\", \"layer3.0.bn2.bias\", \"layer3.0.bn2.running_mean\", \"layer3.0.bn2.running_var\", \"layer3.0.conv3.weight\", \"layer3.0.bn3.weight\", \"layer3.0.bn3.bias\", \"layer3.0.bn3.running_mean\", \"layer3.0.bn3.running_var\", \"layer3.0.downsample.0.weight\", \"layer3.0.downsample.1.weight\", \"layer3.0.downsample.1.bias\", \"layer3.0.downsample.1.running_mean\", \"layer3.0.downsample.1.running_var\", \"layer3.1.conv1.weight\", \"layer3.1.bn1.weight\", \"layer3.1.bn1.bias\", \"layer3.1.bn1.running_mean\", \"layer3.1.bn1.running_var\", \"layer3.1.conv2.weight\", \"layer3.1.bn2.weight\", \"layer3.1.bn2.bias\", \"layer3.1.bn2.running_mean\", \"layer3.1.bn2.running_var\", \"layer3.1.conv3.weight\", \"layer3.1.bn3.weight\", \"layer3.1.bn3.bias\", \"layer3.1.bn3.running_mean\", \"layer3.1.bn3.running_var\", \"layer3.2.conv1.weight\", \"layer3.2.bn1.weight\", \"layer3.2.bn1.bias\", \"layer3.2.bn1.running_mean\", \"layer3.2.bn1.running_var\", \"layer3.2.conv2.weight\", \"layer3.2.bn2.weight\", \"layer3.2.bn2.bias\", \"layer3.2.bn2.running_mean\", \"layer3.2.bn2.running_var\", \"layer3.2.conv3.weight\", \"layer3.2.bn3.weight\", \"layer3.2.bn3.bias\", \"layer3.2.bn3.running_mean\", \"layer3.2.bn3.running_var\", \"layer3.3.conv1.weight\", \"layer3.3.bn1.weight\", \"layer3.3.bn1.bias\", \"layer3.3.bn1.running_mean\", \"layer3.3.bn1.running_var\", \"layer3.3.conv2.weight\", \"layer3.3.bn2.weight\", \"layer3.3.bn2.bias\", \"layer3.3.bn2.running_mean\", \"layer3.3.bn2.running_var\", \"layer3.3.conv3.weight\", \"layer3.3.bn3.weight\", \"layer3.3.bn3.bias\", \"layer3.3.bn3.running_mean\", \"layer3.3.bn3.running_var\", \"layer3.4.conv1.weight\", \"layer3.4.bn1.weight\", \"layer3.4.bn1.bias\", \"layer3.4.bn1.running_mean\", \"layer3.4.bn1.running_var\", \"layer3.4.conv2.weight\", \"layer3.4.bn2.weight\", \"layer3.4.bn2.bias\", \"layer3.4.bn2.running_mean\", \"layer3.4.bn2.running_var\", \"layer3.4.conv3.weight\", \"layer3.4.bn3.weight\", \"layer3.4.bn3.bias\", \"layer3.4.bn3.running_mean\", \"layer3.4.bn3.running_var\", \"layer3.5.conv1.weight\", \"layer3.5.bn1.weight\", \"layer3.5.bn1.bias\", \"layer3.5.bn1.running_mean\", \"layer3.5.bn1.running_var\", \"layer3.5.conv2.weight\", \"layer3.5.bn2.weight\", \"layer3.5.bn2.bias\", \"layer3.5.bn2.running_mean\", \"layer3.5.bn2.running_var\", \"layer3.5.conv3.weight\", \"layer3.5.bn3.weight\", \"layer3.5.bn3.bias\", \"layer3.5.bn3.running_mean\", \"layer3.5.bn3.running_var\", \"layer4.0.conv1.weight\", \"layer4.0.bn1.weight\", \"layer4.0.bn1.bias\", \"layer4.0.bn1.running_mean\", \"layer4.0.bn1.running_var\", \"layer4.0.conv2.weight\", \"layer4.0.bn2.weight\", \"layer4.0.bn2.bias\", \"layer4.0.bn2.running_mean\", \"layer4.0.bn2.running_var\", \"layer4.0.conv3.weight\", \"layer4.0.bn3.weight\", \"layer4.0.bn3.bias\", \"layer4.0.bn3.running_mean\", \"layer4.0.bn3.running_var\", \"layer4.0.downsample.0.weight\", \"layer4.0.downsample.1.weight\", \"layer4.0.downsample.1.bias\", \"layer4.0.downsample.1.running_mean\", \"layer4.0.downsample.1.running_var\", \"layer4.1.conv1.weight\", \"layer4.1.bn1.weight\", \"layer4.1.bn1.bias\", \"layer4.1.bn1.running_mean\", \"layer4.1.bn1.running_var\", \"layer4.1.conv2.weight\", \"layer4.1.bn2.weight\", \"layer4.1.bn2.bias\", \"layer4.1.bn2.running_mean\", \"layer4.1.bn2.running_var\", \"layer4.1.conv3.weight\", \"layer4.1.bn3.weight\", \"layer4.1.bn3.bias\", \"layer4.1.bn3.running_mean\", \"layer4.1.bn3.running_var\", \"layer4.2.conv1.weight\", \"layer4.2.bn1.weight\", \"layer4.2.bn1.bias\", \"layer4.2.bn1.running_mean\", \"layer4.2.bn1.running_var\", \"layer4.2.conv2.weight\", \"layer4.2.bn2.weight\", \"layer4.2.bn2.bias\", \"layer4.2.bn2.running_mean\", \"layer4.2.bn2.running_var\", \"layer4.2.conv3.weight\", \"layer4.2.bn3.weight\", \"layer4.2.bn3.bias\", \"layer4.2.bn3.running_mean\", \"layer4.2.bn3.running_var\", \"fc.weight\", \"fc.bias\". \n\tUnexpected key(s) in state_dict: \"phase_idx\", \"iteration\", \"criterion\", \"iteration_num\", \"train_phase_idx\", \"classy_state_dict\". ",
     "output_type": "error",
     "traceback": [
      "\u001b[0;31m---------------------------------------------------------------------------\u001b[0m",
      "\u001b[0;31mRuntimeError\u001b[0m                              Traceback (most recent call last)",
      "Cell \u001b[0;32mIn [4], line 5\u001b[0m\n\u001b[1;32m      2\u001b[0m \u001b[38;5;28;01mimport\u001b[39;00m \u001b[38;5;21;01mtorch\u001b[39;00m\n\u001b[1;32m      4\u001b[0m model \u001b[38;5;241m=\u001b[39m resnet50()\n\u001b[0;32m----> 5\u001b[0m \u001b[43mmodel\u001b[49m\u001b[38;5;241;43m.\u001b[39;49m\u001b[43mload_state_dict\u001b[49m\u001b[43m(\u001b[49m\u001b[43mtorch\u001b[49m\u001b[38;5;241;43m.\u001b[39;49m\u001b[43mload\u001b[49m\u001b[43m(\u001b[49m\u001b[38;5;124;43m'\u001b[39;49m\u001b[38;5;124;43mmodel_ph99.torch\u001b[39;49m\u001b[38;5;124;43m'\u001b[39;49m\u001b[43m)\u001b[49m\u001b[43m)\u001b[49m\n",
      "File \u001b[0;32m/usr/local/lib/python3.9/dist-packages/torch/nn/modules/module.py:1604\u001b[0m, in \u001b[0;36mModule.load_state_dict\u001b[0;34m(self, state_dict, strict)\u001b[0m\n\u001b[1;32m   1599\u001b[0m         error_msgs\u001b[38;5;241m.\u001b[39minsert(\n\u001b[1;32m   1600\u001b[0m             \u001b[38;5;241m0\u001b[39m, \u001b[38;5;124m'\u001b[39m\u001b[38;5;124mMissing key(s) in state_dict: \u001b[39m\u001b[38;5;132;01m{}\u001b[39;00m\u001b[38;5;124m. \u001b[39m\u001b[38;5;124m'\u001b[39m\u001b[38;5;241m.\u001b[39mformat(\n\u001b[1;32m   1601\u001b[0m                 \u001b[38;5;124m'\u001b[39m\u001b[38;5;124m, \u001b[39m\u001b[38;5;124m'\u001b[39m\u001b[38;5;241m.\u001b[39mjoin(\u001b[38;5;124m'\u001b[39m\u001b[38;5;124m\"\u001b[39m\u001b[38;5;132;01m{}\u001b[39;00m\u001b[38;5;124m\"\u001b[39m\u001b[38;5;124m'\u001b[39m\u001b[38;5;241m.\u001b[39mformat(k) \u001b[38;5;28;01mfor\u001b[39;00m k \u001b[38;5;129;01min\u001b[39;00m missing_keys)))\n\u001b[1;32m   1603\u001b[0m \u001b[38;5;28;01mif\u001b[39;00m \u001b[38;5;28mlen\u001b[39m(error_msgs) \u001b[38;5;241m>\u001b[39m \u001b[38;5;241m0\u001b[39m:\n\u001b[0;32m-> 1604\u001b[0m     \u001b[38;5;28;01mraise\u001b[39;00m \u001b[38;5;167;01mRuntimeError\u001b[39;00m(\u001b[38;5;124m'\u001b[39m\u001b[38;5;124mError(s) in loading state_dict for \u001b[39m\u001b[38;5;132;01m{}\u001b[39;00m\u001b[38;5;124m:\u001b[39m\u001b[38;5;130;01m\\n\u001b[39;00m\u001b[38;5;130;01m\\t\u001b[39;00m\u001b[38;5;132;01m{}\u001b[39;00m\u001b[38;5;124m'\u001b[39m\u001b[38;5;241m.\u001b[39mformat(\n\u001b[1;32m   1605\u001b[0m                        \u001b[38;5;28mself\u001b[39m\u001b[38;5;241m.\u001b[39m\u001b[38;5;18m__class__\u001b[39m\u001b[38;5;241m.\u001b[39m\u001b[38;5;18m__name__\u001b[39m, \u001b[38;5;124m\"\u001b[39m\u001b[38;5;130;01m\\n\u001b[39;00m\u001b[38;5;130;01m\\t\u001b[39;00m\u001b[38;5;124m\"\u001b[39m\u001b[38;5;241m.\u001b[39mjoin(error_msgs)))\n\u001b[1;32m   1606\u001b[0m \u001b[38;5;28;01mreturn\u001b[39;00m _IncompatibleKeys(missing_keys, unexpected_keys)\n",
      "\u001b[0;31mRuntimeError\u001b[0m: Error(s) in loading state_dict for ResNet:\n\tMissing key(s) in state_dict: \"conv1.weight\", \"bn1.weight\", \"bn1.bias\", \"bn1.running_mean\", \"bn1.running_var\", \"layer1.0.conv1.weight\", \"layer1.0.bn1.weight\", \"layer1.0.bn1.bias\", \"layer1.0.bn1.running_mean\", \"layer1.0.bn1.running_var\", \"layer1.0.conv2.weight\", \"layer1.0.bn2.weight\", \"layer1.0.bn2.bias\", \"layer1.0.bn2.running_mean\", \"layer1.0.bn2.running_var\", \"layer1.0.conv3.weight\", \"layer1.0.bn3.weight\", \"layer1.0.bn3.bias\", \"layer1.0.bn3.running_mean\", \"layer1.0.bn3.running_var\", \"layer1.0.downsample.0.weight\", \"layer1.0.downsample.1.weight\", \"layer1.0.downsample.1.bias\", \"layer1.0.downsample.1.running_mean\", \"layer1.0.downsample.1.running_var\", \"layer1.1.conv1.weight\", \"layer1.1.bn1.weight\", \"layer1.1.bn1.bias\", \"layer1.1.bn1.running_mean\", \"layer1.1.bn1.running_var\", \"layer1.1.conv2.weight\", \"layer1.1.bn2.weight\", \"layer1.1.bn2.bias\", \"layer1.1.bn2.running_mean\", \"layer1.1.bn2.running_var\", \"layer1.1.conv3.weight\", \"layer1.1.bn3.weight\", \"layer1.1.bn3.bias\", \"layer1.1.bn3.running_mean\", \"layer1.1.bn3.running_var\", \"layer1.2.conv1.weight\", \"layer1.2.bn1.weight\", \"layer1.2.bn1.bias\", \"layer1.2.bn1.running_mean\", \"layer1.2.bn1.running_var\", \"layer1.2.conv2.weight\", \"layer1.2.bn2.weight\", \"layer1.2.bn2.bias\", \"layer1.2.bn2.running_mean\", \"layer1.2.bn2.running_var\", \"layer1.2.conv3.weight\", \"layer1.2.bn3.weight\", \"layer1.2.bn3.bias\", \"layer1.2.bn3.running_mean\", \"layer1.2.bn3.running_var\", \"layer2.0.conv1.weight\", \"layer2.0.bn1.weight\", \"layer2.0.bn1.bias\", \"layer2.0.bn1.running_mean\", \"layer2.0.bn1.running_var\", \"layer2.0.conv2.weight\", \"layer2.0.bn2.weight\", \"layer2.0.bn2.bias\", \"layer2.0.bn2.running_mean\", \"layer2.0.bn2.running_var\", \"layer2.0.conv3.weight\", \"layer2.0.bn3.weight\", \"layer2.0.bn3.bias\", \"layer2.0.bn3.running_mean\", \"layer2.0.bn3.running_var\", \"layer2.0.downsample.0.weight\", \"layer2.0.downsample.1.weight\", \"layer2.0.downsample.1.bias\", \"layer2.0.downsample.1.running_mean\", \"layer2.0.downsample.1.running_var\", \"layer2.1.conv1.weight\", \"layer2.1.bn1.weight\", \"layer2.1.bn1.bias\", \"layer2.1.bn1.running_mean\", \"layer2.1.bn1.running_var\", \"layer2.1.conv2.weight\", \"layer2.1.bn2.weight\", \"layer2.1.bn2.bias\", \"layer2.1.bn2.running_mean\", \"layer2.1.bn2.running_var\", \"layer2.1.conv3.weight\", \"layer2.1.bn3.weight\", \"layer2.1.bn3.bias\", \"layer2.1.bn3.running_mean\", \"layer2.1.bn3.running_var\", \"layer2.2.conv1.weight\", \"layer2.2.bn1.weight\", \"layer2.2.bn1.bias\", \"layer2.2.bn1.running_mean\", \"layer2.2.bn1.running_var\", \"layer2.2.conv2.weight\", \"layer2.2.bn2.weight\", \"layer2.2.bn2.bias\", \"layer2.2.bn2.running_mean\", \"layer2.2.bn2.running_var\", \"layer2.2.conv3.weight\", \"layer2.2.bn3.weight\", \"layer2.2.bn3.bias\", \"layer2.2.bn3.running_mean\", \"layer2.2.bn3.running_var\", \"layer2.3.conv1.weight\", \"layer2.3.bn1.weight\", \"layer2.3.bn1.bias\", \"layer2.3.bn1.running_mean\", \"layer2.3.bn1.running_var\", \"layer2.3.conv2.weight\", \"layer2.3.bn2.weight\", \"layer2.3.bn2.bias\", \"layer2.3.bn2.running_mean\", \"layer2.3.bn2.running_var\", \"layer2.3.conv3.weight\", \"layer2.3.bn3.weight\", \"layer2.3.bn3.bias\", \"layer2.3.bn3.running_mean\", \"layer2.3.bn3.running_var\", \"layer3.0.conv1.weight\", \"layer3.0.bn1.weight\", \"layer3.0.bn1.bias\", \"layer3.0.bn1.running_mean\", \"layer3.0.bn1.running_var\", \"layer3.0.conv2.weight\", \"layer3.0.bn2.weight\", \"layer3.0.bn2.bias\", \"layer3.0.bn2.running_mean\", \"layer3.0.bn2.running_var\", \"layer3.0.conv3.weight\", \"layer3.0.bn3.weight\", \"layer3.0.bn3.bias\", \"layer3.0.bn3.running_mean\", \"layer3.0.bn3.running_var\", \"layer3.0.downsample.0.weight\", \"layer3.0.downsample.1.weight\", \"layer3.0.downsample.1.bias\", \"layer3.0.downsample.1.running_mean\", \"layer3.0.downsample.1.running_var\", \"layer3.1.conv1.weight\", \"layer3.1.bn1.weight\", \"layer3.1.bn1.bias\", \"layer3.1.bn1.running_mean\", \"layer3.1.bn1.running_var\", \"layer3.1.conv2.weight\", \"layer3.1.bn2.weight\", \"layer3.1.bn2.bias\", \"layer3.1.bn2.running_mean\", \"layer3.1.bn2.running_var\", \"layer3.1.conv3.weight\", \"layer3.1.bn3.weight\", \"layer3.1.bn3.bias\", \"layer3.1.bn3.running_mean\", \"layer3.1.bn3.running_var\", \"layer3.2.conv1.weight\", \"layer3.2.bn1.weight\", \"layer3.2.bn1.bias\", \"layer3.2.bn1.running_mean\", \"layer3.2.bn1.running_var\", \"layer3.2.conv2.weight\", \"layer3.2.bn2.weight\", \"layer3.2.bn2.bias\", \"layer3.2.bn2.running_mean\", \"layer3.2.bn2.running_var\", \"layer3.2.conv3.weight\", \"layer3.2.bn3.weight\", \"layer3.2.bn3.bias\", \"layer3.2.bn3.running_mean\", \"layer3.2.bn3.running_var\", \"layer3.3.conv1.weight\", \"layer3.3.bn1.weight\", \"layer3.3.bn1.bias\", \"layer3.3.bn1.running_mean\", \"layer3.3.bn1.running_var\", \"layer3.3.conv2.weight\", \"layer3.3.bn2.weight\", \"layer3.3.bn2.bias\", \"layer3.3.bn2.running_mean\", \"layer3.3.bn2.running_var\", \"layer3.3.conv3.weight\", \"layer3.3.bn3.weight\", \"layer3.3.bn3.bias\", \"layer3.3.bn3.running_mean\", \"layer3.3.bn3.running_var\", \"layer3.4.conv1.weight\", \"layer3.4.bn1.weight\", \"layer3.4.bn1.bias\", \"layer3.4.bn1.running_mean\", \"layer3.4.bn1.running_var\", \"layer3.4.conv2.weight\", \"layer3.4.bn2.weight\", \"layer3.4.bn2.bias\", \"layer3.4.bn2.running_mean\", \"layer3.4.bn2.running_var\", \"layer3.4.conv3.weight\", \"layer3.4.bn3.weight\", \"layer3.4.bn3.bias\", \"layer3.4.bn3.running_mean\", \"layer3.4.bn3.running_var\", \"layer3.5.conv1.weight\", \"layer3.5.bn1.weight\", \"layer3.5.bn1.bias\", \"layer3.5.bn1.running_mean\", \"layer3.5.bn1.running_var\", \"layer3.5.conv2.weight\", \"layer3.5.bn2.weight\", \"layer3.5.bn2.bias\", \"layer3.5.bn2.running_mean\", \"layer3.5.bn2.running_var\", \"layer3.5.conv3.weight\", \"layer3.5.bn3.weight\", \"layer3.5.bn3.bias\", \"layer3.5.bn3.running_mean\", \"layer3.5.bn3.running_var\", \"layer4.0.conv1.weight\", \"layer4.0.bn1.weight\", \"layer4.0.bn1.bias\", \"layer4.0.bn1.running_mean\", \"layer4.0.bn1.running_var\", \"layer4.0.conv2.weight\", \"layer4.0.bn2.weight\", \"layer4.0.bn2.bias\", \"layer4.0.bn2.running_mean\", \"layer4.0.bn2.running_var\", \"layer4.0.conv3.weight\", \"layer4.0.bn3.weight\", \"layer4.0.bn3.bias\", \"layer4.0.bn3.running_mean\", \"layer4.0.bn3.running_var\", \"layer4.0.downsample.0.weight\", \"layer4.0.downsample.1.weight\", \"layer4.0.downsample.1.bias\", \"layer4.0.downsample.1.running_mean\", \"layer4.0.downsample.1.running_var\", \"layer4.1.conv1.weight\", \"layer4.1.bn1.weight\", \"layer4.1.bn1.bias\", \"layer4.1.bn1.running_mean\", \"layer4.1.bn1.running_var\", \"layer4.1.conv2.weight\", \"layer4.1.bn2.weight\", \"layer4.1.bn2.bias\", \"layer4.1.bn2.running_mean\", \"layer4.1.bn2.running_var\", \"layer4.1.conv3.weight\", \"layer4.1.bn3.weight\", \"layer4.1.bn3.bias\", \"layer4.1.bn3.running_mean\", \"layer4.1.bn3.running_var\", \"layer4.2.conv1.weight\", \"layer4.2.bn1.weight\", \"layer4.2.bn1.bias\", \"layer4.2.bn1.running_mean\", \"layer4.2.bn1.running_var\", \"layer4.2.conv2.weight\", \"layer4.2.bn2.weight\", \"layer4.2.bn2.bias\", \"layer4.2.bn2.running_mean\", \"layer4.2.bn2.running_var\", \"layer4.2.conv3.weight\", \"layer4.2.bn3.weight\", \"layer4.2.bn3.bias\", \"layer4.2.bn3.running_mean\", \"layer4.2.bn3.running_var\", \"fc.weight\", \"fc.bias\". \n\tUnexpected key(s) in state_dict: \"phase_idx\", \"iteration\", \"criterion\", \"iteration_num\", \"train_phase_idx\", \"classy_state_dict\". "
     ]
    }
   ],
   "source": [
    "from torchvision.models import resnet50\n",
    "import torch\n",
    "\n",
    "model = resnet50()\n",
    "model.load_state_dict(torch.load('model_ph99.torch'))"
   ]
  },
  {
   "cell_type": "code",
   "execution_count": 15,
   "metadata": {
    "execution": {
     "iopub.execute_input": "2023-08-14T16:43:25.147855Z",
     "iopub.status.busy": "2023-08-14T16:43:25.147403Z",
     "iopub.status.idle": "2023-08-14T16:43:25.183453Z",
     "shell.execute_reply": "2023-08-14T16:43:25.182768Z",
     "shell.execute_reply.started": "2023-08-14T16:43:25.147830Z"
    }
   },
   "outputs": [
    {
     "name": "stdout",
     "output_type": "stream",
     "text": [
      "The autoreload extension is already loaded. To reload it, use:\n",
      "  %reload_ext autoreload\n"
     ]
    }
   ],
   "source": [
    "%load_ext autoreload\n",
    "%autoreload 2"
   ]
  },
  {
   "cell_type": "code",
   "execution_count": 16,
   "metadata": {
    "execution": {
     "iopub.execute_input": "2023-08-14T16:43:25.184974Z",
     "iopub.status.busy": "2023-08-14T16:43:25.184796Z",
     "iopub.status.idle": "2023-08-14T16:43:25.212034Z",
     "shell.execute_reply": "2023-08-14T16:43:25.211459Z",
     "shell.execute_reply.started": "2023-08-14T16:43:25.184959Z"
    },
    "id": "qX9vHI95Zgli"
   },
   "outputs": [],
   "source": [
    "import warnings\n",
    "warnings.filterwarnings(\"ignore\")"
   ]
  },
  {
   "cell_type": "code",
   "execution_count": 6,
   "metadata": {
    "execution": {
     "iopub.execute_input": "2023-08-15T08:07:04.070454Z",
     "iopub.status.busy": "2023-08-15T08:07:04.069654Z",
     "iopub.status.idle": "2023-08-15T08:07:13.214477Z",
     "shell.execute_reply": "2023-08-15T08:07:13.213369Z",
     "shell.execute_reply.started": "2023-08-15T08:07:04.070423Z"
    },
    "id": "HS8-QCmDWIXN"
   },
   "outputs": [
    {
     "name": "stdout",
     "output_type": "stream",
     "text": [
      "\u001b[31mERROR: pip's dependency resolver does not currently take into account all the packages that are installed. This behaviour is the source of the following dependency conflicts.\n",
      "spacy 3.4.1 requires pydantic!=1.8,!=1.8.1,<1.10.0,>=1.7.4, but you have pydantic 1.10.12 which is incompatible.\u001b[0m\u001b[31m\n",
      "\u001b[0m\u001b[33mWARNING: Running pip as the 'root' user can result in broken permissions and conflicting behaviour with the system package manager. It is recommended to use a virtual environment instead: https://pip.pypa.io/warnings/venv\u001b[0m\u001b[33m\n",
      "\u001b[0m"
     ]
    }
   ],
   "source": [
    "!pip install -q lightly"
   ]
  },
  {
   "cell_type": "code",
   "execution_count": 18,
   "metadata": {
    "execution": {
     "iopub.execute_input": "2023-08-14T16:43:28.210230Z",
     "iopub.status.busy": "2023-08-14T16:43:28.210075Z",
     "iopub.status.idle": "2023-08-14T16:43:28.242038Z",
     "shell.execute_reply": "2023-08-14T16:43:28.241422Z",
     "shell.execute_reply.started": "2023-08-14T16:43:28.210212Z"
    }
   },
   "outputs": [],
   "source": [
    "DATASET = 'CIFAR100' # or 'CIFAR100'\n",
    "N_EPOCHS = 20"
   ]
  },
  {
   "cell_type": "code",
   "execution_count": 7,
   "metadata": {
    "colab": {
     "base_uri": "https://localhost:8080/"
    },
    "execution": {
     "iopub.execute_input": "2023-08-15T08:07:25.153666Z",
     "iopub.status.busy": "2023-08-15T08:07:25.153315Z",
     "iopub.status.idle": "2023-08-15T08:07:26.503259Z",
     "shell.execute_reply": "2023-08-15T08:07:26.502375Z",
     "shell.execute_reply.started": "2023-08-15T08:07:25.153639Z"
    },
    "id": "ui1LUgCFZhlA",
    "outputId": "b0878b3c-3ca6-4562-a136-01233186cc56"
   },
   "outputs": [],
   "source": [
    "import numpy as np\n",
    "import pandas as pd\n",
    "import copy\n",
    "import torch\n",
    "from sklearn.model_selection import cross_val_score\n",
    "from sklearn.neighbors import KNeighborsClassifier\n",
    "from torch import nn\n",
    "import matplotlib.pyplot as plt\n",
    "from PIL import Image\n",
    "\n",
    "from tqdm import tqdm\n",
    "\n",
    "import torch\n",
    "import torchvision\n",
    "\n",
    "from torch import nn\n",
    "from torchvision import transforms\n",
    "\n",
    "from lightly.loss import NTXentLoss\n",
    "from lightly.models.modules import SimCLRProjectionHead\n",
    "from lightly.transforms.simclr_transform import SimCLRTransform\n",
    "\n",
    "from lightly.data import LightlyDataset\n",
    "from sklearn.neighbors import NearestNeighbors\n",
    "from sklearn.preprocessing import normalize"
   ]
  },
  {
   "cell_type": "code",
   "execution_count": 20,
   "metadata": {
    "execution": {
     "iopub.execute_input": "2023-08-14T16:43:28.273212Z",
     "iopub.status.busy": "2023-08-14T16:43:28.272598Z",
     "iopub.status.idle": "2023-08-14T16:43:28.299093Z",
     "shell.execute_reply": "2023-08-14T16:43:28.298493Z",
     "shell.execute_reply.started": "2023-08-14T16:43:28.273192Z"
    },
    "id": "CYu_FwP1o6rq"
   },
   "outputs": [],
   "source": [
    "from knn import KNN, reproducibility\n",
    "\n",
    "reproducibility(42)"
   ]
  },
  {
   "cell_type": "markdown",
   "metadata": {
    "id": "MLw6hsHLa9rs"
   },
   "source": [
    "#Define model"
   ]
  },
  {
   "cell_type": "code",
   "execution_count": 8,
   "metadata": {
    "execution": {
     "iopub.execute_input": "2023-08-15T08:07:30.956650Z",
     "iopub.status.busy": "2023-08-15T08:07:30.955783Z",
     "iopub.status.idle": "2023-08-15T08:07:30.961904Z",
     "shell.execute_reply": "2023-08-15T08:07:30.961188Z",
     "shell.execute_reply.started": "2023-08-15T08:07:30.956617Z"
    },
    "id": "zS4ZeVvjozob"
   },
   "outputs": [],
   "source": [
    "class SimCLR(nn.Module):\n",
    "    def __init__(self, backbone):\n",
    "        super().__init__()\n",
    "        self.backbone = backbone\n",
    "        self.projection_head = SimCLRProjectionHead(512, 512, 128)\n",
    "\n",
    "    def forward(self, x):\n",
    "        x = self.backbone(x).flatten(start_dim=1)\n",
    "        z = self.projection_head(x)\n",
    "        return z"
   ]
  },
  {
   "cell_type": "markdown",
   "metadata": {
    "id": "8Pz8GFLvpBs6"
   },
   "source": [
    "#Data (cifar10 or cifar100)"
   ]
  },
  {
   "cell_type": "code",
   "execution_count": 22,
   "metadata": {
    "execution": {
     "iopub.execute_input": "2023-08-14T16:43:28.329570Z",
     "iopub.status.busy": "2023-08-14T16:43:28.328899Z",
     "iopub.status.idle": "2023-08-14T16:43:28.357742Z",
     "shell.execute_reply": "2023-08-14T16:43:28.357183Z",
     "shell.execute_reply.started": "2023-08-14T16:43:28.329541Z"
    },
    "id": "mPjZIW-JpBL4"
   },
   "outputs": [],
   "source": [
    "def get_input_stats(dataset):\n",
    "    if DATASET == 'CIFAR10':\n",
    "        data_mean, data_std = (0.5071, 0.4865, 0.4409), (0.2673, 0.2564, 0.2762)\n",
    "    elif DATASET == 'CIFAR100':\n",
    "        data_mean, data_std = (0.4914, 0.4822, 0.4465), (0.2471, 0.2435, 0.2616)\n",
    "\n",
    "    return data_mean, data_std"
   ]
  },
  {
   "cell_type": "code",
   "execution_count": 10,
   "metadata": {
    "colab": {
     "base_uri": "https://localhost:8080/"
    },
    "execution": {
     "iopub.execute_input": "2023-08-15T08:08:13.197035Z",
     "iopub.status.busy": "2023-08-15T08:08:13.196250Z",
     "iopub.status.idle": "2023-08-15T08:08:15.015825Z",
     "shell.execute_reply": "2023-08-15T08:08:15.014315Z",
     "shell.execute_reply.started": "2023-08-15T08:08:13.196995Z"
    },
    "id": "VTmA4eCFpSRT",
    "outputId": "aedc33dc-b383-40b2-95d3-89cddcd3b6d0"
   },
   "outputs": [
    {
     "ename": "RuntimeError",
     "evalue": "Error(s) in loading state_dict for SimCLR:\n\tMissing key(s) in state_dict: \"backbone.0.weight\", \"backbone.1.weight\", \"backbone.1.bias\", \"backbone.1.running_mean\", \"backbone.1.running_var\", \"backbone.4.0.conv1.weight\", \"backbone.4.0.bn1.weight\", \"backbone.4.0.bn1.bias\", \"backbone.4.0.bn1.running_mean\", \"backbone.4.0.bn1.running_var\", \"backbone.4.0.conv2.weight\", \"backbone.4.0.bn2.weight\", \"backbone.4.0.bn2.bias\", \"backbone.4.0.bn2.running_mean\", \"backbone.4.0.bn2.running_var\", \"backbone.4.0.conv3.weight\", \"backbone.4.0.bn3.weight\", \"backbone.4.0.bn3.bias\", \"backbone.4.0.bn3.running_mean\", \"backbone.4.0.bn3.running_var\", \"backbone.4.0.downsample.0.weight\", \"backbone.4.0.downsample.1.weight\", \"backbone.4.0.downsample.1.bias\", \"backbone.4.0.downsample.1.running_mean\", \"backbone.4.0.downsample.1.running_var\", \"backbone.4.1.conv1.weight\", \"backbone.4.1.bn1.weight\", \"backbone.4.1.bn1.bias\", \"backbone.4.1.bn1.running_mean\", \"backbone.4.1.bn1.running_var\", \"backbone.4.1.conv2.weight\", \"backbone.4.1.bn2.weight\", \"backbone.4.1.bn2.bias\", \"backbone.4.1.bn2.running_mean\", \"backbone.4.1.bn2.running_var\", \"backbone.4.1.conv3.weight\", \"backbone.4.1.bn3.weight\", \"backbone.4.1.bn3.bias\", \"backbone.4.1.bn3.running_mean\", \"backbone.4.1.bn3.running_var\", \"backbone.4.2.conv1.weight\", \"backbone.4.2.bn1.weight\", \"backbone.4.2.bn1.bias\", \"backbone.4.2.bn1.running_mean\", \"backbone.4.2.bn1.running_var\", \"backbone.4.2.conv2.weight\", \"backbone.4.2.bn2.weight\", \"backbone.4.2.bn2.bias\", \"backbone.4.2.bn2.running_mean\", \"backbone.4.2.bn2.running_var\", \"backbone.4.2.conv3.weight\", \"backbone.4.2.bn3.weight\", \"backbone.4.2.bn3.bias\", \"backbone.4.2.bn3.running_mean\", \"backbone.4.2.bn3.running_var\", \"backbone.5.0.conv1.weight\", \"backbone.5.0.bn1.weight\", \"backbone.5.0.bn1.bias\", \"backbone.5.0.bn1.running_mean\", \"backbone.5.0.bn1.running_var\", \"backbone.5.0.conv2.weight\", \"backbone.5.0.bn2.weight\", \"backbone.5.0.bn2.bias\", \"backbone.5.0.bn2.running_mean\", \"backbone.5.0.bn2.running_var\", \"backbone.5.0.conv3.weight\", \"backbone.5.0.bn3.weight\", \"backbone.5.0.bn3.bias\", \"backbone.5.0.bn3.running_mean\", \"backbone.5.0.bn3.running_var\", \"backbone.5.0.downsample.0.weight\", \"backbone.5.0.downsample.1.weight\", \"backbone.5.0.downsample.1.bias\", \"backbone.5.0.downsample.1.running_mean\", \"backbone.5.0.downsample.1.running_var\", \"backbone.5.1.conv1.weight\", \"backbone.5.1.bn1.weight\", \"backbone.5.1.bn1.bias\", \"backbone.5.1.bn1.running_mean\", \"backbone.5.1.bn1.running_var\", \"backbone.5.1.conv2.weight\", \"backbone.5.1.bn2.weight\", \"backbone.5.1.bn2.bias\", \"backbone.5.1.bn2.running_mean\", \"backbone.5.1.bn2.running_var\", \"backbone.5.1.conv3.weight\", \"backbone.5.1.bn3.weight\", \"backbone.5.1.bn3.bias\", \"backbone.5.1.bn3.running_mean\", \"backbone.5.1.bn3.running_var\", \"backbone.5.2.conv1.weight\", \"backbone.5.2.bn1.weight\", \"backbone.5.2.bn1.bias\", \"backbone.5.2.bn1.running_mean\", \"backbone.5.2.bn1.running_var\", \"backbone.5.2.conv2.weight\", \"backbone.5.2.bn2.weight\", \"backbone.5.2.bn2.bias\", \"backbone.5.2.bn2.running_mean\", \"backbone.5.2.bn2.running_var\", \"backbone.5.2.conv3.weight\", \"backbone.5.2.bn3.weight\", \"backbone.5.2.bn3.bias\", \"backbone.5.2.bn3.running_mean\", \"backbone.5.2.bn3.running_var\", \"backbone.5.3.conv1.weight\", \"backbone.5.3.bn1.weight\", \"backbone.5.3.bn1.bias\", \"backbone.5.3.bn1.running_mean\", \"backbone.5.3.bn1.running_var\", \"backbone.5.3.conv2.weight\", \"backbone.5.3.bn2.weight\", \"backbone.5.3.bn2.bias\", \"backbone.5.3.bn2.running_mean\", \"backbone.5.3.bn2.running_var\", \"backbone.5.3.conv3.weight\", \"backbone.5.3.bn3.weight\", \"backbone.5.3.bn3.bias\", \"backbone.5.3.bn3.running_mean\", \"backbone.5.3.bn3.running_var\", \"backbone.6.0.conv1.weight\", \"backbone.6.0.bn1.weight\", \"backbone.6.0.bn1.bias\", \"backbone.6.0.bn1.running_mean\", \"backbone.6.0.bn1.running_var\", \"backbone.6.0.conv2.weight\", \"backbone.6.0.bn2.weight\", \"backbone.6.0.bn2.bias\", \"backbone.6.0.bn2.running_mean\", \"backbone.6.0.bn2.running_var\", \"backbone.6.0.conv3.weight\", \"backbone.6.0.bn3.weight\", \"backbone.6.0.bn3.bias\", \"backbone.6.0.bn3.running_mean\", \"backbone.6.0.bn3.running_var\", \"backbone.6.0.downsample.0.weight\", \"backbone.6.0.downsample.1.weight\", \"backbone.6.0.downsample.1.bias\", \"backbone.6.0.downsample.1.running_mean\", \"backbone.6.0.downsample.1.running_var\", \"backbone.6.1.conv1.weight\", \"backbone.6.1.bn1.weight\", \"backbone.6.1.bn1.bias\", \"backbone.6.1.bn1.running_mean\", \"backbone.6.1.bn1.running_var\", \"backbone.6.1.conv2.weight\", \"backbone.6.1.bn2.weight\", \"backbone.6.1.bn2.bias\", \"backbone.6.1.bn2.running_mean\", \"backbone.6.1.bn2.running_var\", \"backbone.6.1.conv3.weight\", \"backbone.6.1.bn3.weight\", \"backbone.6.1.bn3.bias\", \"backbone.6.1.bn3.running_mean\", \"backbone.6.1.bn3.running_var\", \"backbone.6.2.conv1.weight\", \"backbone.6.2.bn1.weight\", \"backbone.6.2.bn1.bias\", \"backbone.6.2.bn1.running_mean\", \"backbone.6.2.bn1.running_var\", \"backbone.6.2.conv2.weight\", \"backbone.6.2.bn2.weight\", \"backbone.6.2.bn2.bias\", \"backbone.6.2.bn2.running_mean\", \"backbone.6.2.bn2.running_var\", \"backbone.6.2.conv3.weight\", \"backbone.6.2.bn3.weight\", \"backbone.6.2.bn3.bias\", \"backbone.6.2.bn3.running_mean\", \"backbone.6.2.bn3.running_var\", \"backbone.6.3.conv1.weight\", \"backbone.6.3.bn1.weight\", \"backbone.6.3.bn1.bias\", \"backbone.6.3.bn1.running_mean\", \"backbone.6.3.bn1.running_var\", \"backbone.6.3.conv2.weight\", \"backbone.6.3.bn2.weight\", \"backbone.6.3.bn2.bias\", \"backbone.6.3.bn2.running_mean\", \"backbone.6.3.bn2.running_var\", \"backbone.6.3.conv3.weight\", \"backbone.6.3.bn3.weight\", \"backbone.6.3.bn3.bias\", \"backbone.6.3.bn3.running_mean\", \"backbone.6.3.bn3.running_var\", \"backbone.6.4.conv1.weight\", \"backbone.6.4.bn1.weight\", \"backbone.6.4.bn1.bias\", \"backbone.6.4.bn1.running_mean\", \"backbone.6.4.bn1.running_var\", \"backbone.6.4.conv2.weight\", \"backbone.6.4.bn2.weight\", \"backbone.6.4.bn2.bias\", \"backbone.6.4.bn2.running_mean\", \"backbone.6.4.bn2.running_var\", \"backbone.6.4.conv3.weight\", \"backbone.6.4.bn3.weight\", \"backbone.6.4.bn3.bias\", \"backbone.6.4.bn3.running_mean\", \"backbone.6.4.bn3.running_var\", \"backbone.6.5.conv1.weight\", \"backbone.6.5.bn1.weight\", \"backbone.6.5.bn1.bias\", \"backbone.6.5.bn1.running_mean\", \"backbone.6.5.bn1.running_var\", \"backbone.6.5.conv2.weight\", \"backbone.6.5.bn2.weight\", \"backbone.6.5.bn2.bias\", \"backbone.6.5.bn2.running_mean\", \"backbone.6.5.bn2.running_var\", \"backbone.6.5.conv3.weight\", \"backbone.6.5.bn3.weight\", \"backbone.6.5.bn3.bias\", \"backbone.6.5.bn3.running_mean\", \"backbone.6.5.bn3.running_var\", \"backbone.7.0.conv1.weight\", \"backbone.7.0.bn1.weight\", \"backbone.7.0.bn1.bias\", \"backbone.7.0.bn1.running_mean\", \"backbone.7.0.bn1.running_var\", \"backbone.7.0.conv2.weight\", \"backbone.7.0.bn2.weight\", \"backbone.7.0.bn2.bias\", \"backbone.7.0.bn2.running_mean\", \"backbone.7.0.bn2.running_var\", \"backbone.7.0.conv3.weight\", \"backbone.7.0.bn3.weight\", \"backbone.7.0.bn3.bias\", \"backbone.7.0.bn3.running_mean\", \"backbone.7.0.bn3.running_var\", \"backbone.7.0.downsample.0.weight\", \"backbone.7.0.downsample.1.weight\", \"backbone.7.0.downsample.1.bias\", \"backbone.7.0.downsample.1.running_mean\", \"backbone.7.0.downsample.1.running_var\", \"backbone.7.1.conv1.weight\", \"backbone.7.1.bn1.weight\", \"backbone.7.1.bn1.bias\", \"backbone.7.1.bn1.running_mean\", \"backbone.7.1.bn1.running_var\", \"backbone.7.1.conv2.weight\", \"backbone.7.1.bn2.weight\", \"backbone.7.1.bn2.bias\", \"backbone.7.1.bn2.running_mean\", \"backbone.7.1.bn2.running_var\", \"backbone.7.1.conv3.weight\", \"backbone.7.1.bn3.weight\", \"backbone.7.1.bn3.bias\", \"backbone.7.1.bn3.running_mean\", \"backbone.7.1.bn3.running_var\", \"backbone.7.2.conv1.weight\", \"backbone.7.2.bn1.weight\", \"backbone.7.2.bn1.bias\", \"backbone.7.2.bn1.running_mean\", \"backbone.7.2.bn1.running_var\", \"backbone.7.2.conv2.weight\", \"backbone.7.2.bn2.weight\", \"backbone.7.2.bn2.bias\", \"backbone.7.2.bn2.running_mean\", \"backbone.7.2.bn2.running_var\", \"backbone.7.2.conv3.weight\", \"backbone.7.2.bn3.weight\", \"backbone.7.2.bn3.bias\", \"backbone.7.2.bn3.running_mean\", \"backbone.7.2.bn3.running_var\", \"projection_head.layers.0.weight\", \"projection_head.layers.1.weight\", \"projection_head.layers.1.bias\", \"projection_head.layers.1.running_mean\", \"projection_head.layers.1.running_var\", \"projection_head.layers.3.weight\", \"projection_head.layers.4.weight\", \"projection_head.layers.4.bias\", \"projection_head.layers.4.running_mean\", \"projection_head.layers.4.running_var\". \n\tUnexpected key(s) in state_dict: \"phase_idx\", \"iteration\", \"criterion\", \"iteration_num\", \"train_phase_idx\", \"classy_state_dict\". ",
     "output_type": "error",
     "traceback": [
      "\u001b[0;31m---------------------------------------------------------------------------\u001b[0m",
      "\u001b[0;31mRuntimeError\u001b[0m                              Traceback (most recent call last)",
      "Cell \u001b[0;32mIn [10], line 4\u001b[0m\n\u001b[1;32m      2\u001b[0m backbone \u001b[38;5;241m=\u001b[39m nn\u001b[38;5;241m.\u001b[39mSequential(\u001b[38;5;241m*\u001b[39m\u001b[38;5;28mlist\u001b[39m(resnet\u001b[38;5;241m.\u001b[39mchildren())[:\u001b[38;5;241m-\u001b[39m\u001b[38;5;241m1\u001b[39m])\n\u001b[1;32m      3\u001b[0m model \u001b[38;5;241m=\u001b[39m SimCLR(backbone)\n\u001b[0;32m----> 4\u001b[0m \u001b[43mmodel\u001b[49m\u001b[38;5;241;43m.\u001b[39;49m\u001b[43mload_state_dict\u001b[49m\u001b[43m(\u001b[49m\u001b[43mtorch\u001b[49m\u001b[38;5;241;43m.\u001b[39;49m\u001b[43mload\u001b[49m\u001b[43m(\u001b[49m\u001b[38;5;124;43m'\u001b[39;49m\u001b[38;5;124;43mmodel_ph99.torch\u001b[39;49m\u001b[38;5;124;43m'\u001b[39;49m\u001b[43m)\u001b[49m\u001b[43m)\u001b[49m\n\u001b[1;32m      5\u001b[0m device \u001b[38;5;241m=\u001b[39m \u001b[38;5;124m\"\u001b[39m\u001b[38;5;124mcuda\u001b[39m\u001b[38;5;124m\"\u001b[39m \u001b[38;5;28;01mif\u001b[39;00m torch\u001b[38;5;241m.\u001b[39mcuda\u001b[38;5;241m.\u001b[39mis_available() \u001b[38;5;28;01melse\u001b[39;00m \u001b[38;5;124m\"\u001b[39m\u001b[38;5;124mcpu\u001b[39m\u001b[38;5;124m\"\u001b[39m\n\u001b[1;32m      6\u001b[0m model\u001b[38;5;241m.\u001b[39mto(device)\n",
      "File \u001b[0;32m/usr/local/lib/python3.9/dist-packages/torch/nn/modules/module.py:1604\u001b[0m, in \u001b[0;36mModule.load_state_dict\u001b[0;34m(self, state_dict, strict)\u001b[0m\n\u001b[1;32m   1599\u001b[0m         error_msgs\u001b[38;5;241m.\u001b[39minsert(\n\u001b[1;32m   1600\u001b[0m             \u001b[38;5;241m0\u001b[39m, \u001b[38;5;124m'\u001b[39m\u001b[38;5;124mMissing key(s) in state_dict: \u001b[39m\u001b[38;5;132;01m{}\u001b[39;00m\u001b[38;5;124m. \u001b[39m\u001b[38;5;124m'\u001b[39m\u001b[38;5;241m.\u001b[39mformat(\n\u001b[1;32m   1601\u001b[0m                 \u001b[38;5;124m'\u001b[39m\u001b[38;5;124m, \u001b[39m\u001b[38;5;124m'\u001b[39m\u001b[38;5;241m.\u001b[39mjoin(\u001b[38;5;124m'\u001b[39m\u001b[38;5;124m\"\u001b[39m\u001b[38;5;132;01m{}\u001b[39;00m\u001b[38;5;124m\"\u001b[39m\u001b[38;5;124m'\u001b[39m\u001b[38;5;241m.\u001b[39mformat(k) \u001b[38;5;28;01mfor\u001b[39;00m k \u001b[38;5;129;01min\u001b[39;00m missing_keys)))\n\u001b[1;32m   1603\u001b[0m \u001b[38;5;28;01mif\u001b[39;00m \u001b[38;5;28mlen\u001b[39m(error_msgs) \u001b[38;5;241m>\u001b[39m \u001b[38;5;241m0\u001b[39m:\n\u001b[0;32m-> 1604\u001b[0m     \u001b[38;5;28;01mraise\u001b[39;00m \u001b[38;5;167;01mRuntimeError\u001b[39;00m(\u001b[38;5;124m'\u001b[39m\u001b[38;5;124mError(s) in loading state_dict for \u001b[39m\u001b[38;5;132;01m{}\u001b[39;00m\u001b[38;5;124m:\u001b[39m\u001b[38;5;130;01m\\n\u001b[39;00m\u001b[38;5;130;01m\\t\u001b[39;00m\u001b[38;5;132;01m{}\u001b[39;00m\u001b[38;5;124m'\u001b[39m\u001b[38;5;241m.\u001b[39mformat(\n\u001b[1;32m   1605\u001b[0m                        \u001b[38;5;28mself\u001b[39m\u001b[38;5;241m.\u001b[39m\u001b[38;5;18m__class__\u001b[39m\u001b[38;5;241m.\u001b[39m\u001b[38;5;18m__name__\u001b[39m, \u001b[38;5;124m\"\u001b[39m\u001b[38;5;130;01m\\n\u001b[39;00m\u001b[38;5;130;01m\\t\u001b[39;00m\u001b[38;5;124m\"\u001b[39m\u001b[38;5;241m.\u001b[39mjoin(error_msgs)))\n\u001b[1;32m   1606\u001b[0m \u001b[38;5;28;01mreturn\u001b[39;00m _IncompatibleKeys(missing_keys, unexpected_keys)\n",
      "\u001b[0;31mRuntimeError\u001b[0m: Error(s) in loading state_dict for SimCLR:\n\tMissing key(s) in state_dict: \"backbone.0.weight\", \"backbone.1.weight\", \"backbone.1.bias\", \"backbone.1.running_mean\", \"backbone.1.running_var\", \"backbone.4.0.conv1.weight\", \"backbone.4.0.bn1.weight\", \"backbone.4.0.bn1.bias\", \"backbone.4.0.bn1.running_mean\", \"backbone.4.0.bn1.running_var\", \"backbone.4.0.conv2.weight\", \"backbone.4.0.bn2.weight\", \"backbone.4.0.bn2.bias\", \"backbone.4.0.bn2.running_mean\", \"backbone.4.0.bn2.running_var\", \"backbone.4.0.conv3.weight\", \"backbone.4.0.bn3.weight\", \"backbone.4.0.bn3.bias\", \"backbone.4.0.bn3.running_mean\", \"backbone.4.0.bn3.running_var\", \"backbone.4.0.downsample.0.weight\", \"backbone.4.0.downsample.1.weight\", \"backbone.4.0.downsample.1.bias\", \"backbone.4.0.downsample.1.running_mean\", \"backbone.4.0.downsample.1.running_var\", \"backbone.4.1.conv1.weight\", \"backbone.4.1.bn1.weight\", \"backbone.4.1.bn1.bias\", \"backbone.4.1.bn1.running_mean\", \"backbone.4.1.bn1.running_var\", \"backbone.4.1.conv2.weight\", \"backbone.4.1.bn2.weight\", \"backbone.4.1.bn2.bias\", \"backbone.4.1.bn2.running_mean\", \"backbone.4.1.bn2.running_var\", \"backbone.4.1.conv3.weight\", \"backbone.4.1.bn3.weight\", \"backbone.4.1.bn3.bias\", \"backbone.4.1.bn3.running_mean\", \"backbone.4.1.bn3.running_var\", \"backbone.4.2.conv1.weight\", \"backbone.4.2.bn1.weight\", \"backbone.4.2.bn1.bias\", \"backbone.4.2.bn1.running_mean\", \"backbone.4.2.bn1.running_var\", \"backbone.4.2.conv2.weight\", \"backbone.4.2.bn2.weight\", \"backbone.4.2.bn2.bias\", \"backbone.4.2.bn2.running_mean\", \"backbone.4.2.bn2.running_var\", \"backbone.4.2.conv3.weight\", \"backbone.4.2.bn3.weight\", \"backbone.4.2.bn3.bias\", \"backbone.4.2.bn3.running_mean\", \"backbone.4.2.bn3.running_var\", \"backbone.5.0.conv1.weight\", \"backbone.5.0.bn1.weight\", \"backbone.5.0.bn1.bias\", \"backbone.5.0.bn1.running_mean\", \"backbone.5.0.bn1.running_var\", \"backbone.5.0.conv2.weight\", \"backbone.5.0.bn2.weight\", \"backbone.5.0.bn2.bias\", \"backbone.5.0.bn2.running_mean\", \"backbone.5.0.bn2.running_var\", \"backbone.5.0.conv3.weight\", \"backbone.5.0.bn3.weight\", \"backbone.5.0.bn3.bias\", \"backbone.5.0.bn3.running_mean\", \"backbone.5.0.bn3.running_var\", \"backbone.5.0.downsample.0.weight\", \"backbone.5.0.downsample.1.weight\", \"backbone.5.0.downsample.1.bias\", \"backbone.5.0.downsample.1.running_mean\", \"backbone.5.0.downsample.1.running_var\", \"backbone.5.1.conv1.weight\", \"backbone.5.1.bn1.weight\", \"backbone.5.1.bn1.bias\", \"backbone.5.1.bn1.running_mean\", \"backbone.5.1.bn1.running_var\", \"backbone.5.1.conv2.weight\", \"backbone.5.1.bn2.weight\", \"backbone.5.1.bn2.bias\", \"backbone.5.1.bn2.running_mean\", \"backbone.5.1.bn2.running_var\", \"backbone.5.1.conv3.weight\", \"backbone.5.1.bn3.weight\", \"backbone.5.1.bn3.bias\", \"backbone.5.1.bn3.running_mean\", \"backbone.5.1.bn3.running_var\", \"backbone.5.2.conv1.weight\", \"backbone.5.2.bn1.weight\", \"backbone.5.2.bn1.bias\", \"backbone.5.2.bn1.running_mean\", \"backbone.5.2.bn1.running_var\", \"backbone.5.2.conv2.weight\", \"backbone.5.2.bn2.weight\", \"backbone.5.2.bn2.bias\", \"backbone.5.2.bn2.running_mean\", \"backbone.5.2.bn2.running_var\", \"backbone.5.2.conv3.weight\", \"backbone.5.2.bn3.weight\", \"backbone.5.2.bn3.bias\", \"backbone.5.2.bn3.running_mean\", \"backbone.5.2.bn3.running_var\", \"backbone.5.3.conv1.weight\", \"backbone.5.3.bn1.weight\", \"backbone.5.3.bn1.bias\", \"backbone.5.3.bn1.running_mean\", \"backbone.5.3.bn1.running_var\", \"backbone.5.3.conv2.weight\", \"backbone.5.3.bn2.weight\", \"backbone.5.3.bn2.bias\", \"backbone.5.3.bn2.running_mean\", \"backbone.5.3.bn2.running_var\", \"backbone.5.3.conv3.weight\", \"backbone.5.3.bn3.weight\", \"backbone.5.3.bn3.bias\", \"backbone.5.3.bn3.running_mean\", \"backbone.5.3.bn3.running_var\", \"backbone.6.0.conv1.weight\", \"backbone.6.0.bn1.weight\", \"backbone.6.0.bn1.bias\", \"backbone.6.0.bn1.running_mean\", \"backbone.6.0.bn1.running_var\", \"backbone.6.0.conv2.weight\", \"backbone.6.0.bn2.weight\", \"backbone.6.0.bn2.bias\", \"backbone.6.0.bn2.running_mean\", \"backbone.6.0.bn2.running_var\", \"backbone.6.0.conv3.weight\", \"backbone.6.0.bn3.weight\", \"backbone.6.0.bn3.bias\", \"backbone.6.0.bn3.running_mean\", \"backbone.6.0.bn3.running_var\", \"backbone.6.0.downsample.0.weight\", \"backbone.6.0.downsample.1.weight\", \"backbone.6.0.downsample.1.bias\", \"backbone.6.0.downsample.1.running_mean\", \"backbone.6.0.downsample.1.running_var\", \"backbone.6.1.conv1.weight\", \"backbone.6.1.bn1.weight\", \"backbone.6.1.bn1.bias\", \"backbone.6.1.bn1.running_mean\", \"backbone.6.1.bn1.running_var\", \"backbone.6.1.conv2.weight\", \"backbone.6.1.bn2.weight\", \"backbone.6.1.bn2.bias\", \"backbone.6.1.bn2.running_mean\", \"backbone.6.1.bn2.running_var\", \"backbone.6.1.conv3.weight\", \"backbone.6.1.bn3.weight\", \"backbone.6.1.bn3.bias\", \"backbone.6.1.bn3.running_mean\", \"backbone.6.1.bn3.running_var\", \"backbone.6.2.conv1.weight\", \"backbone.6.2.bn1.weight\", \"backbone.6.2.bn1.bias\", \"backbone.6.2.bn1.running_mean\", \"backbone.6.2.bn1.running_var\", \"backbone.6.2.conv2.weight\", \"backbone.6.2.bn2.weight\", \"backbone.6.2.bn2.bias\", \"backbone.6.2.bn2.running_mean\", \"backbone.6.2.bn2.running_var\", \"backbone.6.2.conv3.weight\", \"backbone.6.2.bn3.weight\", \"backbone.6.2.bn3.bias\", \"backbone.6.2.bn3.running_mean\", \"backbone.6.2.bn3.running_var\", \"backbone.6.3.conv1.weight\", \"backbone.6.3.bn1.weight\", \"backbone.6.3.bn1.bias\", \"backbone.6.3.bn1.running_mean\", \"backbone.6.3.bn1.running_var\", \"backbone.6.3.conv2.weight\", \"backbone.6.3.bn2.weight\", \"backbone.6.3.bn2.bias\", \"backbone.6.3.bn2.running_mean\", \"backbone.6.3.bn2.running_var\", \"backbone.6.3.conv3.weight\", \"backbone.6.3.bn3.weight\", \"backbone.6.3.bn3.bias\", \"backbone.6.3.bn3.running_mean\", \"backbone.6.3.bn3.running_var\", \"backbone.6.4.conv1.weight\", \"backbone.6.4.bn1.weight\", \"backbone.6.4.bn1.bias\", \"backbone.6.4.bn1.running_mean\", \"backbone.6.4.bn1.running_var\", \"backbone.6.4.conv2.weight\", \"backbone.6.4.bn2.weight\", \"backbone.6.4.bn2.bias\", \"backbone.6.4.bn2.running_mean\", \"backbone.6.4.bn2.running_var\", \"backbone.6.4.conv3.weight\", \"backbone.6.4.bn3.weight\", \"backbone.6.4.bn3.bias\", \"backbone.6.4.bn3.running_mean\", \"backbone.6.4.bn3.running_var\", \"backbone.6.5.conv1.weight\", \"backbone.6.5.bn1.weight\", \"backbone.6.5.bn1.bias\", \"backbone.6.5.bn1.running_mean\", \"backbone.6.5.bn1.running_var\", \"backbone.6.5.conv2.weight\", \"backbone.6.5.bn2.weight\", \"backbone.6.5.bn2.bias\", \"backbone.6.5.bn2.running_mean\", \"backbone.6.5.bn2.running_var\", \"backbone.6.5.conv3.weight\", \"backbone.6.5.bn3.weight\", \"backbone.6.5.bn3.bias\", \"backbone.6.5.bn3.running_mean\", \"backbone.6.5.bn3.running_var\", \"backbone.7.0.conv1.weight\", \"backbone.7.0.bn1.weight\", \"backbone.7.0.bn1.bias\", \"backbone.7.0.bn1.running_mean\", \"backbone.7.0.bn1.running_var\", \"backbone.7.0.conv2.weight\", \"backbone.7.0.bn2.weight\", \"backbone.7.0.bn2.bias\", \"backbone.7.0.bn2.running_mean\", \"backbone.7.0.bn2.running_var\", \"backbone.7.0.conv3.weight\", \"backbone.7.0.bn3.weight\", \"backbone.7.0.bn3.bias\", \"backbone.7.0.bn3.running_mean\", \"backbone.7.0.bn3.running_var\", \"backbone.7.0.downsample.0.weight\", \"backbone.7.0.downsample.1.weight\", \"backbone.7.0.downsample.1.bias\", \"backbone.7.0.downsample.1.running_mean\", \"backbone.7.0.downsample.1.running_var\", \"backbone.7.1.conv1.weight\", \"backbone.7.1.bn1.weight\", \"backbone.7.1.bn1.bias\", \"backbone.7.1.bn1.running_mean\", \"backbone.7.1.bn1.running_var\", \"backbone.7.1.conv2.weight\", \"backbone.7.1.bn2.weight\", \"backbone.7.1.bn2.bias\", \"backbone.7.1.bn2.running_mean\", \"backbone.7.1.bn2.running_var\", \"backbone.7.1.conv3.weight\", \"backbone.7.1.bn3.weight\", \"backbone.7.1.bn3.bias\", \"backbone.7.1.bn3.running_mean\", \"backbone.7.1.bn3.running_var\", \"backbone.7.2.conv1.weight\", \"backbone.7.2.bn1.weight\", \"backbone.7.2.bn1.bias\", \"backbone.7.2.bn1.running_mean\", \"backbone.7.2.bn1.running_var\", \"backbone.7.2.conv2.weight\", \"backbone.7.2.bn2.weight\", \"backbone.7.2.bn2.bias\", \"backbone.7.2.bn2.running_mean\", \"backbone.7.2.bn2.running_var\", \"backbone.7.2.conv3.weight\", \"backbone.7.2.bn3.weight\", \"backbone.7.2.bn3.bias\", \"backbone.7.2.bn3.running_mean\", \"backbone.7.2.bn3.running_var\", \"projection_head.layers.0.weight\", \"projection_head.layers.1.weight\", \"projection_head.layers.1.bias\", \"projection_head.layers.1.running_mean\", \"projection_head.layers.1.running_var\", \"projection_head.layers.3.weight\", \"projection_head.layers.4.weight\", \"projection_head.layers.4.bias\", \"projection_head.layers.4.running_mean\", \"projection_head.layers.4.running_var\". \n\tUnexpected key(s) in state_dict: \"phase_idx\", \"iteration\", \"criterion\", \"iteration_num\", \"train_phase_idx\", \"classy_state_dict\". "
     ]
    }
   ],
   "source": [
    "resnet = torchvision.models.resnet50()\n",
    "backbone = nn.Sequential(*list(resnet.children())[:-1])\n",
    "model = SimCLR(backbone)\n",
    "model.load_state_dict(torch.load('model_ph99.torch'))\n",
    "device = \"cuda\" if torch.cuda.is_available() else \"cpu\"\n",
    "model.to(device)\n",
    "print()"
   ]
  },
  {
   "cell_type": "code",
   "execution_count": 24,
   "metadata": {
    "colab": {
     "base_uri": "https://localhost:8080/"
    },
    "execution": {
     "iopub.execute_input": "2023-08-14T16:43:28.541457Z",
     "iopub.status.busy": "2023-08-14T16:43:28.540749Z",
     "iopub.status.idle": "2023-08-14T16:43:29.558406Z",
     "shell.execute_reply": "2023-08-14T16:43:29.557805Z",
     "shell.execute_reply.started": "2023-08-14T16:43:28.541417Z"
    },
    "id": "X-AHB_PdrlI_",
    "outputId": "756b40d2-e58c-4a38-a5f8-5fe29a784425"
   },
   "outputs": [
    {
     "name": "stdout",
     "output_type": "stream",
     "text": [
      "Files already downloaded and verified\n"
     ]
    }
   ],
   "source": [
    "if DATASET == 'CIFAR10':\n",
    "    cifar = torchvision.datasets.CIFAR10(\"datasets/cifar_10\", download=True)\n",
    "if DATASET == 'CIFAR100':\n",
    "    cifar = torchvision.datasets.CIFAR100(\"datasets/cifar_100\", download=True)\n",
    "    \n",
    "transform = SimCLRTransform(input_size=32, gaussian_blur=0.0)\n",
    "\n",
    "data_mean, data_std = get_input_stats('cifar_100')\n",
    "normalize_dict = {'mean': data_mean, 'std': data_std}\n",
    "\n",
    "dataset = LightlyDataset.from_torch_dataset(cifar, transform=transform)\n",
    "\n",
    "dataloader = torch.utils.data.DataLoader(\n",
    "    dataset,\n",
    "    batch_size=128,\n",
    "    shuffle=True,\n",
    "    drop_last=True,\n",
    "    num_workers=2,\n",
    "    pin_memory=True\n",
    ")"
   ]
  },
  {
   "cell_type": "markdown",
   "metadata": {
    "id": "qt_x8uWapvpz"
   },
   "source": [
    "#Optimizer and Scheduler"
   ]
  },
  {
   "cell_type": "code",
   "execution_count": 25,
   "metadata": {
    "execution": {
     "iopub.execute_input": "2023-08-14T16:43:29.559425Z",
     "iopub.status.busy": "2023-08-14T16:43:29.559239Z",
     "iopub.status.idle": "2023-08-14T16:43:29.588332Z",
     "shell.execute_reply": "2023-08-14T16:43:29.587771Z",
     "shell.execute_reply.started": "2023-08-14T16:43:29.559404Z"
    },
    "id": "eolzz2Yjpsiy"
   },
   "outputs": [],
   "source": [
    "criterion = NTXentLoss()\n",
    "optimizer = torch.optim.SGD(model.parameters(), lr=0.006)\n",
    "# scheduler = torch.optim.lr_scheduler.ExponentialLR(optimizer,gamma=0.85)\n",
    "scheduler = torch.optim.lr_scheduler.CyclicLR(optimizer,base_lr=0.006, max_lr=0.01)\n",
    "# n_epochs, max_norm = 20, 0.1"
   ]
  },
  {
   "cell_type": "markdown",
   "metadata": {
    "id": "6mWUxvzNqMhL"
   },
   "source": [
    "#KNN and dataloaders for evaluation"
   ]
  },
  {
   "cell_type": "code",
   "execution_count": 26,
   "metadata": {
    "colab": {
     "base_uri": "https://localhost:8080/"
    },
    "execution": {
     "iopub.execute_input": "2023-08-14T16:43:29.589240Z",
     "iopub.status.busy": "2023-08-14T16:43:29.589063Z",
     "iopub.status.idle": "2023-08-14T16:43:31.228735Z",
     "shell.execute_reply": "2023-08-14T16:43:31.227846Z",
     "shell.execute_reply.started": "2023-08-14T16:43:29.589224Z"
    },
    "id": "-1MgDzsMqTv3",
    "outputId": "f122769e-2ed2-4401-ef17-cad1381c9af1"
   },
   "outputs": [
    {
     "name": "stdout",
     "output_type": "stream",
     "text": [
      "Files already downloaded and verified\n",
      "Files already downloaded and verified\n"
     ]
    }
   ],
   "source": [
    "from torchvision import transforms as T\n",
    "from torch.utils.data import DataLoader\n",
    "\n",
    "BATCH_SIZE = 32\n",
    "\n",
    "test_transform = T.Compose([\n",
    "            T.ToTensor(),\n",
    "            T.Normalize(mean=[0.485, 0.456, 0.406], std=[0.229, 0.224, 0.225]) ])\n",
    "\n",
    "def get_dataloader(batch_size, train=True, transform=test_transform):\n",
    "    if DATASET == 'CIFAR10':\n",
    "        cifar = torchvision.datasets.CIFAR10(\"datasets/cifar_10\",train=train, transform=transform,download=True)\n",
    "    if DATASET == 'CIFAR100':\n",
    "        cifar = torchvision.datasets.CIFAR100(\"datasets/cifar_100\",train=train,transform=transform, download=True)\n",
    "    return DataLoader(dataset=cifar, batch_size=batch_size, num_workers=4, drop_last=True)\n",
    "\n",
    "\n",
    "loader_train_plain = get_dataloader(batch_size=BATCH_SIZE, train=True, transform=test_transform)\n",
    "loader_test = get_dataloader(batch_size=BATCH_SIZE, train=False, transform=test_transform)"
   ]
  },
  {
   "cell_type": "markdown",
   "metadata": {
    "id": "m4XouXdG-L7Q"
   },
   "source": [
    "#Make directory for saving models"
   ]
  },
  {
   "cell_type": "code",
   "execution_count": 27,
   "metadata": {
    "execution": {
     "iopub.execute_input": "2023-08-14T16:43:31.229824Z",
     "iopub.status.busy": "2023-08-14T16:43:31.229615Z",
     "iopub.status.idle": "2023-08-14T16:44:00.234277Z",
     "shell.execute_reply": "2023-08-14T16:44:00.233361Z",
     "shell.execute_reply.started": "2023-08-14T16:43:31.229801Z"
    }
   },
   "outputs": [
    {
     "data": {
      "text/plain": [
       "8.012835887097179"
      ]
     },
     "execution_count": 27,
     "metadata": {},
     "output_type": "execute_result"
    }
   ],
   "source": [
    "ssl_evaluator = KNN(model=model, k=1, device='cuda')\n",
    "train_acc, val_acc = ssl_evaluator.fit(loader_train_plain, loader_test)\n",
    "val_acc"
   ]
  },
  {
   "cell_type": "code",
   "execution_count": 28,
   "metadata": {
    "colab": {
     "base_uri": "https://localhost:8080/"
    },
    "execution": {
     "iopub.execute_input": "2023-08-14T16:44:00.237085Z",
     "iopub.status.busy": "2023-08-14T16:44:00.236426Z",
     "iopub.status.idle": "2023-08-14T16:55:12.573177Z",
     "shell.execute_reply": "2023-08-14T16:55:12.572635Z",
     "shell.execute_reply.started": "2023-08-14T16:44:00.237046Z"
    },
    "id": "yVQTGYZC-GRA",
    "outputId": "0e96ab31-a45f-4aea-80c7-0d4dfbc9900a"
   },
   "outputs": [
    {
     "name": "stdout",
     "output_type": "stream",
     "text": [
      "Starting Training\n"
     ]
    },
    {
     "name": "stderr",
     "output_type": "stream",
     "text": [
      "  0%|          | 0/20 [00:00<?, ?it/s]"
     ]
    },
    {
     "name": "stdout",
     "output_type": "stream",
     "text": [
      "\n",
      " epoch: 00, loss: 5.13577\n"
     ]
    },
    {
     "name": "stderr",
     "output_type": "stream",
     "text": [
      "  5%|▌         | 1/20 [01:01<19:22, 61.20s/it]"
     ]
    },
    {
     "name": "stdout",
     "output_type": "stream",
     "text": [
      "\n",
      " Train Accuracy:10.2%  Val Accuracy:7.3%\n"
     ]
    },
    {
     "name": "stderr",
     "output_type": "stream",
     "text": [
      " 10%|█         | 2/20 [01:31<12:58, 43.24s/it]"
     ]
    },
    {
     "name": "stdout",
     "output_type": "stream",
     "text": [
      "\n",
      " epoch: 01, loss: 4.93062\n"
     ]
    },
    {
     "name": "stderr",
     "output_type": "stream",
     "text": [
      " 15%|█▌        | 3/20 [02:01<10:32, 37.22s/it]"
     ]
    },
    {
     "name": "stdout",
     "output_type": "stream",
     "text": [
      "\n",
      " epoch: 02, loss: 4.85575\n"
     ]
    },
    {
     "name": "stderr",
     "output_type": "stream",
     "text": [
      " 20%|██        | 4/20 [02:31<09:10, 34.39s/it]"
     ]
    },
    {
     "name": "stdout",
     "output_type": "stream",
     "text": [
      "\n",
      " epoch: 03, loss: 4.80296\n"
     ]
    },
    {
     "name": "stderr",
     "output_type": "stream",
     "text": [
      " 25%|██▌       | 5/20 [03:02<08:13, 32.92s/it]"
     ]
    },
    {
     "name": "stdout",
     "output_type": "stream",
     "text": [
      "\n",
      " epoch: 04, loss: 4.76017\n"
     ]
    },
    {
     "name": "stderr",
     "output_type": "stream",
     "text": [
      " 30%|███       | 6/20 [03:32<07:27, 31.99s/it]"
     ]
    },
    {
     "name": "stdout",
     "output_type": "stream",
     "text": [
      "\n",
      " epoch: 05, loss: 4.74364\n"
     ]
    },
    {
     "name": "stderr",
     "output_type": "stream",
     "text": [
      " 35%|███▌      | 7/20 [04:02<06:48, 31.41s/it]"
     ]
    },
    {
     "name": "stdout",
     "output_type": "stream",
     "text": [
      "\n",
      " epoch: 06, loss: 4.71283\n"
     ]
    },
    {
     "name": "stderr",
     "output_type": "stream",
     "text": [
      " 40%|████      | 8/20 [04:32<06:11, 31.00s/it]"
     ]
    },
    {
     "name": "stdout",
     "output_type": "stream",
     "text": [
      "\n",
      " epoch: 07, loss: 4.69723\n"
     ]
    },
    {
     "name": "stderr",
     "output_type": "stream",
     "text": [
      " 45%|████▌     | 9/20 [05:02<05:36, 30.61s/it]"
     ]
    },
    {
     "name": "stdout",
     "output_type": "stream",
     "text": [
      "\n",
      " epoch: 08, loss: 4.68207\n"
     ]
    },
    {
     "name": "stderr",
     "output_type": "stream",
     "text": [
      " 50%|█████     | 10/20 [05:32<05:03, 30.39s/it]"
     ]
    },
    {
     "name": "stdout",
     "output_type": "stream",
     "text": [
      "\n",
      " epoch: 09, loss: 4.66888\n",
      "\n",
      " epoch: 10, loss: 4.65750\n"
     ]
    },
    {
     "name": "stderr",
     "output_type": "stream",
     "text": [
      " 55%|█████▌    | 11/20 [06:36<06:05, 40.56s/it]"
     ]
    },
    {
     "name": "stdout",
     "output_type": "stream",
     "text": [
      "\n",
      " Train Accuracy:12.0%  Val Accuracy:9.8%\n"
     ]
    },
    {
     "name": "stderr",
     "output_type": "stream",
     "text": [
      " 60%|██████    | 12/20 [07:06<05:00, 37.57s/it]"
     ]
    },
    {
     "name": "stdout",
     "output_type": "stream",
     "text": [
      "\n",
      " epoch: 11, loss: 4.64737\n"
     ]
    },
    {
     "name": "stderr",
     "output_type": "stream",
     "text": [
      " 65%|██████▌   | 13/20 [07:37<04:08, 35.51s/it]"
     ]
    },
    {
     "name": "stdout",
     "output_type": "stream",
     "text": [
      "\n",
      " epoch: 12, loss: 4.64053\n"
     ]
    },
    {
     "name": "stderr",
     "output_type": "stream",
     "text": [
      " 70%|███████   | 14/20 [08:08<03:24, 34.11s/it]"
     ]
    },
    {
     "name": "stdout",
     "output_type": "stream",
     "text": [
      "\n",
      " epoch: 13, loss: 4.64076\n"
     ]
    },
    {
     "name": "stderr",
     "output_type": "stream",
     "text": [
      " 75%|███████▌  | 15/20 [08:39<02:46, 33.23s/it]"
     ]
    },
    {
     "name": "stdout",
     "output_type": "stream",
     "text": [
      "\n",
      " epoch: 14, loss: 4.62637\n"
     ]
    },
    {
     "name": "stderr",
     "output_type": "stream",
     "text": [
      " 80%|████████  | 16/20 [09:10<02:09, 32.41s/it]"
     ]
    },
    {
     "name": "stdout",
     "output_type": "stream",
     "text": [
      "\n",
      " epoch: 15, loss: 4.61614\n"
     ]
    },
    {
     "name": "stderr",
     "output_type": "stream",
     "text": [
      " 85%|████████▌ | 17/20 [09:40<01:35, 31.88s/it]"
     ]
    },
    {
     "name": "stdout",
     "output_type": "stream",
     "text": [
      "\n",
      " epoch: 16, loss: 4.60813\n"
     ]
    },
    {
     "name": "stderr",
     "output_type": "stream",
     "text": [
      " 90%|█████████ | 18/20 [10:11<01:02, 31.43s/it]"
     ]
    },
    {
     "name": "stdout",
     "output_type": "stream",
     "text": [
      "\n",
      " epoch: 17, loss: 4.60609\n"
     ]
    },
    {
     "name": "stderr",
     "output_type": "stream",
     "text": [
      " 95%|█████████▌| 19/20 [10:41<00:31, 31.13s/it]"
     ]
    },
    {
     "name": "stdout",
     "output_type": "stream",
     "text": [
      "\n",
      " epoch: 18, loss: 4.60199\n"
     ]
    },
    {
     "name": "stderr",
     "output_type": "stream",
     "text": [
      "100%|██████████| 20/20 [11:12<00:00, 33.61s/it]"
     ]
    },
    {
     "name": "stdout",
     "output_type": "stream",
     "text": [
      "\n",
      " epoch: 19, loss: 4.59981\n"
     ]
    },
    {
     "name": "stderr",
     "output_type": "stream",
     "text": [
      "\n"
     ]
    }
   ],
   "source": [
    "best_val_acc = 15\n",
    "\n",
    "print(\"Starting Training\")\n",
    "for epoch in tqdm(range(N_EPOCHS)):\n",
    "    total_loss = 0\n",
    "    for batch in dataloader:\n",
    "        x0, x1 = batch[0]\n",
    "        x0 = x0.to(device)\n",
    "        x1 = x1.to(device)\n",
    "        z0 = model(x0)\n",
    "        z1 = model(x1)\n",
    "        loss = criterion(z0, z1)\n",
    "        total_loss += loss.detach()\n",
    "        loss.backward()\n",
    "        optimizer.step()\n",
    "        optimizer.zero_grad()\n",
    "    scheduler.step()\n",
    "    avg_loss = total_loss / len(dataloader)\n",
    "    print(f\"\\n epoch: {epoch:>02}, loss: {avg_loss:.5f}\")\n",
    "    if epoch % 10 == 0:\n",
    "        ssl_evaluator = KNN(model=model, k=1, device='cuda')\n",
    "        train_acc, val_acc = ssl_evaluator.fit(loader_train_plain, loader_test)\n",
    "        if val_acc > best_val_acc:\n",
    "            torch.save(model.state_dict(),f'SimCLR_model_acc{val_acc:.2f}_c100.pt')\n",
    "            best_val_acc = val_acc\n",
    "        print(f'\\n Train Accuracy:{train_acc:.1f}%',f' Val Accuracy:{val_acc:.1f}%')"
   ]
  },
  {
   "cell_type": "markdown",
   "metadata": {
    "id": "D7ET-5mTCNPK"
   },
   "source": [
    "#Load best model we have got"
   ]
  },
  {
   "cell_type": "code",
   "execution_count": 29,
   "metadata": {
    "colab": {
     "base_uri": "https://localhost:8080/"
    },
    "execution": {
     "iopub.execute_input": "2023-08-14T16:55:12.574631Z",
     "iopub.status.busy": "2023-08-14T16:55:12.574070Z",
     "iopub.status.idle": "2023-08-14T16:55:40.724122Z",
     "shell.execute_reply": "2023-08-14T16:55:40.723506Z",
     "shell.execute_reply.started": "2023-08-14T16:55:12.574608Z"
    },
    "id": "w-NUb_4LCR4K",
    "outputId": "418b9a69-a8e6-4afa-a755-5343ff5f3226"
   },
   "outputs": [
    {
     "data": {
      "text/plain": [
       "10.106261596804025"
      ]
     },
     "execution_count": 29,
     "metadata": {},
     "output_type": "execute_result"
    }
   ],
   "source": [
    "ssl_evaluator = KNN(model=model, k=1, device='cuda')\n",
    "train_acc, val_acc = ssl_evaluator.fit(loader_train_plain, loader_test)\n",
    "val_acc"
   ]
  },
  {
   "cell_type": "markdown",
   "metadata": {
    "id": "76Ol8vO7CYdq"
   },
   "source": [
    "#Visual evaluation"
   ]
  },
  {
   "cell_type": "markdown",
   "metadata": {
    "id": "13v4MkndDDBe"
   },
   "source": [
    "#Save backbone model"
   ]
  },
  {
   "cell_type": "code",
   "execution_count": 30,
   "metadata": {
    "execution": {
     "iopub.execute_input": "2023-08-14T16:55:40.725338Z",
     "iopub.status.busy": "2023-08-14T16:55:40.725102Z",
     "iopub.status.idle": "2023-08-14T16:55:40.813280Z",
     "shell.execute_reply": "2023-08-14T16:55:40.812554Z",
     "shell.execute_reply.started": "2023-08-14T16:55:40.725326Z"
    },
    "id": "NCMzWTgzC9iu"
   },
   "outputs": [],
   "source": [
    "backbone = model.backbone\n",
    "torch.save(backbone.state_dict(), f'SimCLR_{DATASET}_acc{val_acc:.2f}_epoch{N_EPOCHS}.pt')"
   ]
  }
 ],
 "metadata": {
  "accelerator": "GPU",
  "colab": {
   "gpuType": "T4",
   "provenance": []
  },
  "kernelspec": {
   "display_name": "Python 3 (ipykernel)",
   "language": "python",
   "name": "python3"
  },
  "language_info": {
   "codemirror_mode": {
    "name": "ipython",
    "version": 3
   },
   "file_extension": ".py",
   "mimetype": "text/x-python",
   "name": "python",
   "nbconvert_exporter": "python",
   "pygments_lexer": "ipython3",
   "version": "3.9.16"
  }
 },
 "nbformat": 4,
 "nbformat_minor": 4
}
