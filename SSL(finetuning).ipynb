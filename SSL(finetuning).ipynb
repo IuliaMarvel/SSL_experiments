{
 "cells": [
  {
   "cell_type": "code",
   "execution_count": 8,
   "metadata": {
    "execution": {
     "iopub.execute_input": "2023-08-23T14:36:21.060206Z",
     "iopub.status.busy": "2023-08-23T14:36:21.059422Z",
     "iopub.status.idle": "2023-08-23T14:36:21.072659Z",
     "shell.execute_reply": "2023-08-23T14:36:21.072217Z",
     "shell.execute_reply.started": "2023-08-23T14:36:21.060181Z"
    }
   },
   "outputs": [
    {
     "name": "stdout",
     "output_type": "stream",
     "text": [
      "The autoreload extension is already loaded. To reload it, use:\n",
      "  %reload_ext autoreload\n"
     ]
    }
   ],
   "source": [
    "%load_ext autoreload\n",
    "%autoreload 2"
   ]
  },
  {
   "cell_type": "code",
   "execution_count": 9,
   "metadata": {
    "execution": {
     "iopub.execute_input": "2023-08-23T14:36:21.074246Z",
     "iopub.status.busy": "2023-08-23T14:36:21.073562Z",
     "iopub.status.idle": "2023-08-23T14:36:55.336379Z",
     "shell.execute_reply": "2023-08-23T14:36:55.335631Z",
     "shell.execute_reply.started": "2023-08-23T14:36:21.074226Z"
    }
   },
   "outputs": [
    {
     "name": "stdout",
     "output_type": "stream",
     "text": [
      "Requirement already satisfied: openmim in /usr/local/lib/python3.9/dist-packages (0.3.9)\n",
      "Requirement already satisfied: opendatalab in /usr/local/lib/python3.9/dist-packages (from openmim) (0.0.10)\n",
      "Requirement already satisfied: requests in /usr/local/lib/python3.9/dist-packages (from openmim) (2.28.2)\n",
      "Requirement already satisfied: pandas in /usr/local/lib/python3.9/dist-packages (from openmim) (1.5.0)\n",
      "Requirement already satisfied: colorama in /usr/local/lib/python3.9/dist-packages (from openmim) (0.4.3)\n",
      "Requirement already satisfied: rich in /usr/local/lib/python3.9/dist-packages (from openmim) (13.4.2)\n",
      "Requirement already satisfied: Click in /usr/local/lib/python3.9/dist-packages (from openmim) (8.1.3)\n",
      "Requirement already satisfied: model-index in /usr/local/lib/python3.9/dist-packages (from openmim) (0.1.11)\n",
      "Requirement already satisfied: tabulate in /usr/local/lib/python3.9/dist-packages (from openmim) (0.9.0)\n",
      "Requirement already satisfied: pip>=19.3 in /usr/local/lib/python3.9/dist-packages (from openmim) (22.3.1)\n",
      "Requirement already satisfied: markdown in /usr/local/lib/python3.9/dist-packages (from model-index->openmim) (3.4.1)\n",
      "Requirement already satisfied: pyyaml in /usr/local/lib/python3.9/dist-packages (from model-index->openmim) (6.0.1)\n",
      "Requirement already satisfied: ordered-set in /usr/local/lib/python3.9/dist-packages (from model-index->openmim) (4.1.0)\n",
      "Requirement already satisfied: openxlab in /usr/local/lib/python3.9/dist-packages (from opendatalab->openmim) (0.0.19)\n",
      "Requirement already satisfied: pycryptodome in /usr/local/lib/python3.9/dist-packages (from opendatalab->openmim) (3.18.0)\n",
      "Requirement already satisfied: tqdm in /usr/local/lib/python3.9/dist-packages (from opendatalab->openmim) (4.65.2)\n",
      "Requirement already satisfied: certifi>=2017.4.17 in /usr/lib/python3/dist-packages (from requests->openmim) (2019.11.28)\n",
      "Requirement already satisfied: urllib3<1.27,>=1.21.1 in /usr/local/lib/python3.9/dist-packages (from requests->openmim) (1.26.14)\n",
      "Requirement already satisfied: charset-normalizer<4,>=2 in /usr/local/lib/python3.9/dist-packages (from requests->openmim) (2.1.1)\n",
      "Requirement already satisfied: idna<4,>=2.5 in /usr/lib/python3/dist-packages (from requests->openmim) (2.8)\n",
      "Requirement already satisfied: numpy>=1.20.3 in /usr/local/lib/python3.9/dist-packages (from pandas->openmim) (1.23.4)\n",
      "Requirement already satisfied: python-dateutil>=2.8.1 in /usr/local/lib/python3.9/dist-packages (from pandas->openmim) (2.8.2)\n",
      "Requirement already satisfied: pytz>=2020.1 in /usr/local/lib/python3.9/dist-packages (from pandas->openmim) (2023.3)\n",
      "Requirement already satisfied: pygments<3.0.0,>=2.13.0 in /usr/local/lib/python3.9/dist-packages (from rich->openmim) (2.14.0)\n",
      "Requirement already satisfied: markdown-it-py>=2.2.0 in /usr/local/lib/python3.9/dist-packages (from rich->openmim) (2.2.0)\n",
      "Requirement already satisfied: mdurl~=0.1 in /usr/local/lib/python3.9/dist-packages (from markdown-it-py>=2.2.0->rich->openmim) (0.1.2)\n",
      "Requirement already satisfied: six>=1.5 in /usr/lib/python3/dist-packages (from python-dateutil>=2.8.1->pandas->openmim) (1.14.0)\n",
      "Requirement already satisfied: importlib-metadata>=4.4 in /usr/local/lib/python3.9/dist-packages (from markdown->model-index->openmim) (6.0.0)\n",
      "Requirement already satisfied: setuptools~=60.2.0 in /usr/local/lib/python3.9/dist-packages (from openxlab->opendatalab->openmim) (60.2.0)\n",
      "Requirement already satisfied: oss2~=2.17.0 in /usr/local/lib/python3.9/dist-packages (from openxlab->opendatalab->openmim) (2.17.0)\n",
      "Requirement already satisfied: zipp>=0.5 in /usr/local/lib/python3.9/dist-packages (from importlib-metadata>=4.4->markdown->model-index->openmim) (3.11.0)\n",
      "Requirement already satisfied: crcmod>=1.7 in /usr/local/lib/python3.9/dist-packages (from oss2~=2.17.0->openxlab->opendatalab->openmim) (1.7)\n",
      "Requirement already satisfied: aliyun-python-sdk-kms>=2.4.1 in /usr/local/lib/python3.9/dist-packages (from oss2~=2.17.0->openxlab->opendatalab->openmim) (2.16.1)\n",
      "Requirement already satisfied: aliyun-python-sdk-core>=2.13.12 in /usr/local/lib/python3.9/dist-packages (from oss2~=2.17.0->openxlab->opendatalab->openmim) (2.13.36)\n",
      "Requirement already satisfied: jmespath<1.0.0,>=0.9.3 in /usr/local/lib/python3.9/dist-packages (from aliyun-python-sdk-core>=2.13.12->oss2~=2.17.0->openxlab->opendatalab->openmim) (0.10.0)\n",
      "Requirement already satisfied: cryptography>=2.6.0 in /usr/local/lib/python3.9/dist-packages (from aliyun-python-sdk-core>=2.13.12->oss2~=2.17.0->openxlab->opendatalab->openmim) (41.0.3)\n",
      "Requirement already satisfied: cffi>=1.12 in /usr/local/lib/python3.9/dist-packages (from cryptography>=2.6.0->aliyun-python-sdk-core>=2.13.12->oss2~=2.17.0->openxlab->opendatalab->openmim) (1.15.1)\n",
      "Requirement already satisfied: pycparser in /usr/local/lib/python3.9/dist-packages (from cffi>=1.12->cryptography>=2.6.0->aliyun-python-sdk-core>=2.13.12->oss2~=2.17.0->openxlab->opendatalab->openmim) (2.21)\n",
      "\u001b[33mWARNING: Running pip as the 'root' user can result in broken permissions and conflicting behaviour with the system package manager. It is recommended to use a virtual environment instead: https://pip.pypa.io/warnings/venv\u001b[0m\u001b[33m\n",
      "\u001b[0mLooking in links: https://download.openmmlab.com/mmcv/dist/cu116/torch1.12.0/index.html\n",
      "Requirement already satisfied: mmpretrain>=1.0.0rc8 in /usr/local/lib/python3.9/dist-packages (1.0.2)\n",
      "Requirement already satisfied: rich in /usr/local/lib/python3.9/dist-packages (from mmpretrain>=1.0.0rc8) (13.4.2)\n",
      "Requirement already satisfied: einops in /usr/local/lib/python3.9/dist-packages (from mmpretrain>=1.0.0rc8) (0.6.1)\n",
      "Requirement already satisfied: modelindex in /usr/local/lib/python3.9/dist-packages (from mmpretrain>=1.0.0rc8) (0.0.2)\n",
      "Requirement already satisfied: importlib-metadata in /usr/local/lib/python3.9/dist-packages (from mmpretrain>=1.0.0rc8) (6.0.0)\n",
      "Requirement already satisfied: matplotlib in /usr/local/lib/python3.9/dist-packages (from mmpretrain>=1.0.0rc8) (3.6.1)\n",
      "Requirement already satisfied: numpy in /usr/local/lib/python3.9/dist-packages (from mmpretrain>=1.0.0rc8) (1.23.4)\n",
      "Requirement already satisfied: mat4py in /usr/local/lib/python3.9/dist-packages (from mmpretrain>=1.0.0rc8) (0.5.0)\n",
      "Collecting mmengine<1.0.0,>=0.8.3\n",
      "  Downloading mmengine-0.8.4-py3-none-any.whl (437 kB)\n",
      "\u001b[2K     \u001b[90m━━━━━━━━━━━━━━━━━━━━━━━━━━━━━━━━━━━━━━\u001b[0m \u001b[32m437.5/437.5 kB\u001b[0m \u001b[31m46.5 MB/s\u001b[0m eta \u001b[36m0:00:00\u001b[0m\n",
      "\u001b[?25hCollecting mmcv<2.1.0,>=2.0.0\n",
      "  Downloading https://download.openmmlab.com/mmcv/dist/cu116/torch1.12.0/mmcv-2.0.1-cp39-cp39-manylinux1_x86_64.whl (71.2 MB)\n",
      "\u001b[2K     \u001b[90m━━━━━━━━━━━━━━━━━━━━━━━━━━━━━━━━━━━━━━━\u001b[0m \u001b[32m71.2/71.2 MB\u001b[0m \u001b[31m952.2 kB/s\u001b[0m eta \u001b[36m0:00:00\u001b[0m00:01\u001b[0m0:02\u001b[0mm\n",
      "\u001b[?25hRequirement already satisfied: packaging in /usr/local/lib/python3.9/dist-packages (from mmcv<2.1.0,>=2.0.0->mmpretrain>=1.0.0rc8) (23.0)\n",
      "Requirement already satisfied: pyyaml in /usr/local/lib/python3.9/dist-packages (from mmcv<2.1.0,>=2.0.0->mmpretrain>=1.0.0rc8) (6.0.1)\n",
      "Requirement already satisfied: opencv-python>=3 in /usr/local/lib/python3.9/dist-packages (from mmcv<2.1.0,>=2.0.0->mmpretrain>=1.0.0rc8) (4.6.0.66)\n",
      "Collecting addict\n",
      "  Downloading addict-2.4.0-py3-none-any.whl (3.8 kB)\n",
      "Requirement already satisfied: Pillow in /usr/local/lib/python3.9/dist-packages (from mmcv<2.1.0,>=2.0.0->mmpretrain>=1.0.0rc8) (9.2.0)\n",
      "Collecting yapf\n",
      "  Downloading yapf-0.40.1-py3-none-any.whl (250 kB)\n",
      "\u001b[2K     \u001b[90m━━━━━━━━━━━━━━━━━━━━━━━━━━━━━━━━━━━━━━\u001b[0m \u001b[32m250.3/250.3 kB\u001b[0m \u001b[31m54.8 MB/s\u001b[0m eta \u001b[36m0:00:00\u001b[0m\n",
      "\u001b[?25hRequirement already satisfied: termcolor in /usr/local/lib/python3.9/dist-packages (from mmengine<1.0.0,>=0.8.3->mmpretrain>=1.0.0rc8) (2.2.0)\n",
      "Requirement already satisfied: zipp>=0.5 in /usr/local/lib/python3.9/dist-packages (from importlib-metadata->mmpretrain>=1.0.0rc8) (3.11.0)\n",
      "Requirement already satisfied: contourpy>=1.0.1 in /usr/local/lib/python3.9/dist-packages (from matplotlib->mmpretrain>=1.0.0rc8) (1.0.7)\n",
      "Requirement already satisfied: python-dateutil>=2.7 in /usr/local/lib/python3.9/dist-packages (from matplotlib->mmpretrain>=1.0.0rc8) (2.8.2)\n",
      "Requirement already satisfied: fonttools>=4.22.0 in /usr/local/lib/python3.9/dist-packages (from matplotlib->mmpretrain>=1.0.0rc8) (4.38.0)\n",
      "Requirement already satisfied: kiwisolver>=1.0.1 in /usr/local/lib/python3.9/dist-packages (from matplotlib->mmpretrain>=1.0.0rc8) (1.4.4)\n",
      "Requirement already satisfied: cycler>=0.10 in /usr/local/lib/python3.9/dist-packages (from matplotlib->mmpretrain>=1.0.0rc8) (0.11.0)\n",
      "Requirement already satisfied: pyparsing>=2.2.1 in /usr/local/lib/python3.9/dist-packages (from matplotlib->mmpretrain>=1.0.0rc8) (3.0.9)\n",
      "Requirement already satisfied: model-index in /usr/local/lib/python3.9/dist-packages (from modelindex->mmpretrain>=1.0.0rc8) (0.1.11)\n",
      "Requirement already satisfied: markdown-it-py>=2.2.0 in /usr/local/lib/python3.9/dist-packages (from rich->mmpretrain>=1.0.0rc8) (2.2.0)\n",
      "Requirement already satisfied: pygments<3.0.0,>=2.13.0 in /usr/local/lib/python3.9/dist-packages (from rich->mmpretrain>=1.0.0rc8) (2.14.0)\n",
      "Requirement already satisfied: mdurl~=0.1 in /usr/local/lib/python3.9/dist-packages (from markdown-it-py>=2.2.0->rich->mmpretrain>=1.0.0rc8) (0.1.2)\n",
      "Requirement already satisfied: six>=1.5 in /usr/lib/python3/dist-packages (from python-dateutil>=2.7->matplotlib->mmpretrain>=1.0.0rc8) (1.14.0)\n",
      "Requirement already satisfied: ordered-set in /usr/local/lib/python3.9/dist-packages (from model-index->modelindex->mmpretrain>=1.0.0rc8) (4.1.0)\n",
      "Requirement already satisfied: click in /usr/local/lib/python3.9/dist-packages (from model-index->modelindex->mmpretrain>=1.0.0rc8) (8.1.3)\n",
      "Requirement already satisfied: markdown in /usr/local/lib/python3.9/dist-packages (from model-index->modelindex->mmpretrain>=1.0.0rc8) (3.4.1)\n",
      "Requirement already satisfied: tomli>=2.0.1 in /usr/local/lib/python3.9/dist-packages (from yapf->mmcv<2.1.0,>=2.0.0->mmpretrain>=1.0.0rc8) (2.0.1)\n",
      "Collecting importlib-metadata\n",
      "  Downloading importlib_metadata-6.8.0-py3-none-any.whl (22 kB)\n",
      "Collecting platformdirs>=3.5.1\n",
      "  Downloading platformdirs-3.10.0-py3-none-any.whl (17 kB)\n",
      "Installing collected packages: addict, platformdirs, importlib-metadata, yapf, mmengine, mmcv\n",
      "  Attempting uninstall: platformdirs\n",
      "    Found existing installation: platformdirs 2.6.2\n",
      "    Uninstalling platformdirs-2.6.2:\n",
      "      Successfully uninstalled platformdirs-2.6.2\n",
      "  Attempting uninstall: importlib-metadata\n",
      "    Found existing installation: importlib-metadata 6.0.0\n",
      "    Uninstalling importlib-metadata-6.0.0:\n",
      "      Successfully uninstalled importlib-metadata-6.0.0\n",
      "Successfully installed addict-2.4.0 importlib-metadata-6.8.0 mmcv-2.0.1 mmengine-0.8.4 platformdirs-3.10.0 yapf-0.40.1\n",
      "\u001b[33mWARNING: Running pip as the 'root' user can result in broken permissions and conflicting behaviour with the system package manager. It is recommended to use a virtual environment instead: https://pip.pypa.io/warnings/venv\u001b[0m\u001b[33m\n",
      "\u001b[0m\u001b[33mWARNING: Running pip as the 'root' user can result in broken permissions and conflicting behaviour with the system package manager. It is recommended to use a virtual environment instead: https://pip.pypa.io/warnings/venv\u001b[0m\u001b[33m\n",
      "\u001b[0m"
     ]
    }
   ],
   "source": [
    "!pip install -U openmim && mim install \"mmpretrain>=1.0.0rc8\" && pip install -q lightly"
   ]
  },
  {
   "cell_type": "code",
   "execution_count": 10,
   "metadata": {
    "execution": {
     "iopub.execute_input": "2023-08-23T14:36:55.337516Z",
     "iopub.status.busy": "2023-08-23T14:36:55.337339Z",
     "iopub.status.idle": "2023-08-23T14:36:55.381954Z",
     "shell.execute_reply": "2023-08-23T14:36:55.381207Z",
     "shell.execute_reply.started": "2023-08-23T14:36:55.337499Z"
    }
   },
   "outputs": [],
   "source": [
    "model_names = ['SimCLR', 'BarlowTwins', 'Dino']\n",
    "# datasets = ['TinyImageNet', 'CIFAR100', 'CIFAR10'] #, 'TinyImageNet']\n",
    "datasets = ['TinyImageNet']"
   ]
  },
  {
   "cell_type": "code",
   "execution_count": 11,
   "metadata": {
    "execution": {
     "iopub.execute_input": "2023-08-23T14:36:55.383699Z",
     "iopub.status.busy": "2023-08-23T14:36:55.383214Z",
     "iopub.status.idle": "2023-08-23T14:36:55.393724Z",
     "shell.execute_reply": "2023-08-23T14:36:55.392998Z",
     "shell.execute_reply.started": "2023-08-23T14:36:55.383681Z"
    }
   },
   "outputs": [],
   "source": [
    "# DATASET = 'CIFAR10'\n",
    "# DATASET = 'CIFAR100'\n",
    "# DATASET = 'TinyImageNet'\n",
    "N_EPOCHS = 15"
   ]
  },
  {
   "cell_type": "code",
   "execution_count": 12,
   "metadata": {
    "execution": {
     "iopub.execute_input": "2023-08-23T14:36:55.394797Z",
     "iopub.status.busy": "2023-08-23T14:36:55.394336Z",
     "iopub.status.idle": "2023-08-23T14:36:57.726552Z",
     "shell.execute_reply": "2023-08-23T14:36:57.725900Z",
     "shell.execute_reply.started": "2023-08-23T14:36:55.394781Z"
    }
   },
   "outputs": [],
   "source": [
    "from utils.model_utils import get_ssl_model\n",
    "from utils.data_utils import get_train_loader, get_train_val_loaders\n",
    "from utils.train_utils import reproducibility\n",
    "from utils.train_utils import run_training_loop\n",
    "from lightly.loss import NTXentLoss\n",
    "import torch\n",
    "from knn import KNN, knn_eval\n",
    "\n",
    "from IPython.display import clear_output"
   ]
  },
  {
   "cell_type": "code",
   "execution_count": 13,
   "metadata": {
    "colab": {
     "base_uri": "https://localhost:8080/"
    },
    "execution": {
     "iopub.execute_input": "2023-08-23T14:36:57.727773Z",
     "iopub.status.busy": "2023-08-23T14:36:57.727490Z",
     "iopub.status.idle": "2023-08-23T14:36:57.752022Z",
     "shell.execute_reply": "2023-08-23T14:36:57.751559Z",
     "shell.execute_reply.started": "2023-08-23T14:36:57.727754Z"
    },
    "id": "VTmA4eCFpSRT",
    "outputId": "aedc33dc-b383-40b2-95d3-89cddcd3b6d0"
   },
   "outputs": [],
   "source": [
    "import torch\n",
    "device = 'cuda' if torch.cuda.is_available() else 'cpu'"
   ]
  },
  {
   "cell_type": "code",
   "execution_count": 14,
   "metadata": {
    "execution": {
     "iopub.execute_input": "2023-08-23T14:36:57.753387Z",
     "iopub.status.busy": "2023-08-23T14:36:57.752790Z",
     "iopub.status.idle": "2023-08-23T14:36:57.777654Z",
     "shell.execute_reply": "2023-08-23T14:36:57.777174Z",
     "shell.execute_reply.started": "2023-08-23T14:36:57.753368Z"
    }
   },
   "outputs": [],
   "source": [
    "criterion = NTXentLoss()"
   ]
  },
  {
   "cell_type": "code",
   "execution_count": 15,
   "metadata": {
    "execution": {
     "iopub.execute_input": "2023-08-23T14:36:57.778795Z",
     "iopub.status.busy": "2023-08-23T14:36:57.778320Z",
     "iopub.status.idle": "2023-08-23T14:36:57.803356Z",
     "shell.execute_reply": "2023-08-23T14:36:57.802819Z",
     "shell.execute_reply.started": "2023-08-23T14:36:57.778774Z"
    }
   },
   "outputs": [],
   "source": [
    "# main_loader = get_train_loader(dataset)\n",
    "# train_loader, val_loader = get_train_val_loaders(dataset)\n",
    "# model = get_ssl_model(model_name).to(device)\n",
    "# knn_eval(model, train_loader, val_loader, device, transformer=model_name == 'Dino')"
   ]
  },
  {
   "cell_type": "code",
   "execution_count": 16,
   "metadata": {
    "execution": {
     "iopub.execute_input": "2023-08-23T14:36:57.806875Z",
     "iopub.status.busy": "2023-08-23T14:36:57.804146Z",
     "iopub.status.idle": "2023-08-23T14:36:57.833576Z",
     "shell.execute_reply": "2023-08-23T14:36:57.832947Z",
     "shell.execute_reply.started": "2023-08-23T14:36:57.806843Z"
    }
   },
   "outputs": [],
   "source": [
    "opt = dict()\n",
    "lr = dict()\n",
    "schedule = dict()\n",
    "\n",
    "opt['Dino'] = torch.optim.Adam\n",
    "lr['Dino'] = 3e-5\n",
    "schedule['Dino'] = None\n",
    "opt['SimCLR'] = torch.optim.SGD\n",
    "lr['SimCLR'] = 0.006\n",
    "schedule['SimCLR'] = {'scheduler':torch.optim.lr_scheduler.CyclicLR, 'base_lr':0.006, 'max_lr':0.01 }\n",
    "opt['BarlowTwins'] = torch.optim.SGD\n",
    "lr['BarlowTwins'] = 0.06\n",
    "schedule['BarlowTwins'] = {'scheduler':torch.optim.lr_scheduler.CyclicLR, 'base_lr':0.006, 'max_lr':0.01 }"
   ]
  },
  {
   "cell_type": "code",
   "execution_count": 17,
   "metadata": {
    "execution": {
     "iopub.execute_input": "2023-08-23T14:36:57.835989Z",
     "iopub.status.busy": "2023-08-23T14:36:57.835311Z",
     "iopub.status.idle": "2023-08-23T14:36:57.860472Z",
     "shell.execute_reply": "2023-08-23T14:36:57.859989Z",
     "shell.execute_reply.started": "2023-08-23T14:36:57.835963Z"
    }
   },
   "outputs": [],
   "source": [
    "def get_scheduler(schedule_dict, opt):\n",
    "    if schedule_dict is None:\n",
    "        return None\n",
    "    base_lr = schedule_dict['base_lr']\n",
    "    max_lr = schedule_dict['max_lr']\n",
    "    scheduler = schedule_dict['scheduler']\n",
    "    return scheduler(opt, base_lr=base_lr, max_lr=max_lr)"
   ]
  },
  {
   "cell_type": "code",
   "execution_count": null,
   "metadata": {},
   "outputs": [],
   "source": [
    "for model_name in model_names:\n",
    "    for dataset in datasets:\n",
    "        model = get_ssl_model(model_name).to(device)\n",
    "        optim = opt[model_name](model.parameters(), lr=lr[model_name])\n",
    "        scheduler = get_scheduler(schedule[model_name], optim)\n",
    "        # scheduler = torch.optim.lr_scheduler.ExponentialLR(optimizer,gamma=0.85)\n",
    "        # scheduler = torch.optim.lr_scheduler.CyclicLR(opt,base_lr=0.006, max_lr=0.01)\n",
    "        main_loader = get_train_loader(dataset)\n",
    "        train_loader, val_loader = get_train_val_loaders(dataset)\n",
    "        knn_eval(model, train_loader, val_loader, device, transformer=model_name == 'Dino')\n",
    "        run_training_loop(model, main_loader, criterion, optim, epochs=N_EPOCHS, device=device, scheduler=scheduler)\n",
    "        train_acc, val_acc = knn_eval(model, train_loader, val_loader, device, transformer=model_name == 'Dino')\n",
    "        torch.save(model.backbone.state_dict(), f'{model_name}_{dataset}_acc{val_acc:.2f}_epoch{N_EPOCHS}_lr{lr[model_name]}_finetune.pt')\n",
    "        clear_output(wait=True)"
   ]
  }
 ],
 "metadata": {
  "accelerator": "GPU",
  "colab": {
   "gpuType": "T4",
   "provenance": []
  },
  "kernelspec": {
   "display_name": "Python 3 (ipykernel)",
   "language": "python",
   "name": "python3"
  },
  "language_info": {
   "codemirror_mode": {
    "name": "ipython",
    "version": 3
   },
   "file_extension": ".py",
   "mimetype": "text/x-python",
   "name": "python",
   "nbconvert_exporter": "python",
   "pygments_lexer": "ipython3",
   "version": "3.9.16"
  }
 },
 "nbformat": 4,
 "nbformat_minor": 4
}
