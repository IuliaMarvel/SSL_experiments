{
 "cells": [
  {
   "cell_type": "markdown",
   "metadata": {
    "id": "OSRpwcmEa5l2"
   },
   "source": [
    "#Necessary imports"
   ]
  },
  {
   "cell_type": "code",
   "execution_count": 1,
   "metadata": {
    "execution": {
     "iopub.execute_input": "2023-08-17T17:20:10.426602Z",
     "iopub.status.busy": "2023-08-17T17:20:10.426093Z",
     "iopub.status.idle": "2023-08-17T17:20:10.447859Z",
     "shell.execute_reply": "2023-08-17T17:20:10.447243Z",
     "shell.execute_reply.started": "2023-08-17T17:20:10.426579Z"
    }
   },
   "outputs": [],
   "source": [
    "%load_ext autoreload\n",
    "%autoreload 2"
   ]
  },
  {
   "cell_type": "code",
   "execution_count": 2,
   "metadata": {
    "execution": {
     "iopub.execute_input": "2023-08-17T17:20:10.449603Z",
     "iopub.status.busy": "2023-08-17T17:20:10.449116Z",
     "iopub.status.idle": "2023-08-17T17:20:15.579826Z",
     "shell.execute_reply": "2023-08-17T17:20:15.578921Z",
     "shell.execute_reply.started": "2023-08-17T17:20:10.449581Z"
    }
   },
   "outputs": [
    {
     "name": "stdout",
     "output_type": "stream",
     "text": [
      "\u001b[33mWARNING: Running pip as the 'root' user can result in broken permissions and conflicting behaviour with the system package manager. It is recommended to use a virtual environment instead: https://pip.pypa.io/warnings/venv\u001b[0m\u001b[33m\n",
      "\u001b[0m"
     ]
    }
   ],
   "source": [
    "!pip install wandb -Uq"
   ]
  },
  {
   "cell_type": "code",
   "execution_count": 3,
   "metadata": {
    "execution": {
     "iopub.execute_input": "2023-08-17T17:20:15.581254Z",
     "iopub.status.busy": "2023-08-17T17:20:15.581037Z",
     "iopub.status.idle": "2023-08-17T17:20:37.227130Z",
     "shell.execute_reply": "2023-08-17T17:20:37.226355Z",
     "shell.execute_reply.started": "2023-08-17T17:20:15.581232Z"
    }
   },
   "outputs": [
    {
     "name": "stderr",
     "output_type": "stream",
     "text": [
      "\u001b[34m\u001b[1mwandb\u001b[0m: Logging into wandb.ai. (Learn how to deploy a W&B server locally: https://wandb.me/wandb-server)\n",
      "\u001b[34m\u001b[1mwandb\u001b[0m: You can find your API key in your browser here: https://wandb.ai/authorize\n",
      "\u001b[34m\u001b[1mwandb\u001b[0m: Paste an API key from your profile and hit enter, or press ctrl+c to quit:"
     ]
    },
    {
     "name": "stdin",
     "output_type": "stream",
     "text": [
      "  ········································\n"
     ]
    },
    {
     "name": "stderr",
     "output_type": "stream",
     "text": [
      "\u001b[34m\u001b[1mwandb\u001b[0m: Appending key for api.wandb.ai to your netrc file: /root/.netrc\n"
     ]
    },
    {
     "data": {
      "text/plain": [
       "True"
      ]
     },
     "execution_count": 3,
     "metadata": {},
     "output_type": "execute_result"
    }
   ],
   "source": [
    "import wandb\n",
    "\n",
    "wandb.login()"
   ]
  },
  {
   "cell_type": "code",
   "execution_count": 4,
   "metadata": {
    "execution": {
     "iopub.execute_input": "2023-08-17T17:20:37.229836Z",
     "iopub.status.busy": "2023-08-17T17:20:37.229241Z",
     "iopub.status.idle": "2023-08-17T17:20:37.255930Z",
     "shell.execute_reply": "2023-08-17T17:20:37.254962Z",
     "shell.execute_reply.started": "2023-08-17T17:20:37.229808Z"
    },
    "id": "qX9vHI95Zgli"
   },
   "outputs": [],
   "source": [
    "import warnings\n",
    "warnings.filterwarnings(\"ignore\")"
   ]
  },
  {
   "cell_type": "code",
   "execution_count": 5,
   "metadata": {
    "execution": {
     "iopub.execute_input": "2023-08-17T17:20:37.258406Z",
     "iopub.status.busy": "2023-08-17T17:20:37.257554Z",
     "iopub.status.idle": "2023-08-17T17:20:43.748317Z",
     "shell.execute_reply": "2023-08-17T17:20:43.747504Z",
     "shell.execute_reply.started": "2023-08-17T17:20:37.258380Z"
    },
    "id": "HS8-QCmDWIXN"
   },
   "outputs": [
    {
     "name": "stdout",
     "output_type": "stream",
     "text": [
      "\u001b[31mERROR: pip's dependency resolver does not currently take into account all the packages that are installed. This behaviour is the source of the following dependency conflicts.\n",
      "spacy 3.4.1 requires pydantic!=1.8,!=1.8.1,<1.10.0,>=1.7.4, but you have pydantic 1.10.12 which is incompatible.\u001b[0m\u001b[31m\n",
      "\u001b[0m\u001b[33mWARNING: Running pip as the 'root' user can result in broken permissions and conflicting behaviour with the system package manager. It is recommended to use a virtual environment instead: https://pip.pypa.io/warnings/venv\u001b[0m\u001b[33m\n",
      "\u001b[0m"
     ]
    }
   ],
   "source": [
    "!pip install -q lightly"
   ]
  },
  {
   "cell_type": "code",
   "execution_count": 6,
   "metadata": {
    "execution": {
     "iopub.execute_input": "2023-08-17T17:20:43.749874Z",
     "iopub.status.busy": "2023-08-17T17:20:43.749640Z",
     "iopub.status.idle": "2023-08-17T17:20:43.776655Z",
     "shell.execute_reply": "2023-08-17T17:20:43.775912Z",
     "shell.execute_reply.started": "2023-08-17T17:20:43.749852Z"
    },
    "id": "gykRpPG75N2m"
   },
   "outputs": [],
   "source": [
    "N_EPOCHS = 20"
   ]
  },
  {
   "cell_type": "code",
   "execution_count": 7,
   "metadata": {
    "execution": {
     "iopub.execute_input": "2023-08-17T17:20:43.779195Z",
     "iopub.status.busy": "2023-08-17T17:20:43.778887Z",
     "iopub.status.idle": "2023-08-17T17:20:48.246519Z",
     "shell.execute_reply": "2023-08-17T17:20:48.245678Z",
     "shell.execute_reply.started": "2023-08-17T17:20:43.779169Z"
    },
    "id": "ui1LUgCFZhlA"
   },
   "outputs": [],
   "source": [
    "import numpy as np\n",
    "import pandas as pd\n",
    "import copy\n",
    "import torch\n",
    "from torch import nn\n",
    "import matplotlib.pyplot as plt\n",
    "from PIL import Image\n",
    "\n",
    "from tqdm import tqdm\n",
    "\n",
    "import torch\n",
    "import torchvision\n",
    "\n",
    "from torch import nn\n",
    "from torchvision import transforms\n",
    "\n",
    "from lightly.loss import BarlowTwinsLoss\n",
    "from lightly.models.modules import BarlowTwinsProjectionHead\n",
    "from lightly.transforms.byol_transform import (\n",
    "    BYOLTransform,\n",
    "    BYOLView1Transform,\n",
    "    BYOLView2Transform,\n",
    ")\n",
    "\n",
    "from lightly.data import LightlyDataset\n",
    "from sklearn.neighbors import NearestNeighbors\n",
    "from sklearn.preprocessing import normalize"
   ]
  },
  {
   "cell_type": "code",
   "execution_count": 8,
   "metadata": {
    "execution": {
     "iopub.execute_input": "2023-08-17T17:20:48.247892Z",
     "iopub.status.busy": "2023-08-17T17:20:48.247545Z",
     "iopub.status.idle": "2023-08-17T17:20:48.313956Z",
     "shell.execute_reply": "2023-08-17T17:20:48.313226Z",
     "shell.execute_reply.started": "2023-08-17T17:20:48.247871Z"
    },
    "id": "CYu_FwP1o6rq"
   },
   "outputs": [],
   "source": [
    "from knn import KNN, reproducibility\n",
    "\n",
    "reproducibility(42)"
   ]
  },
  {
   "cell_type": "markdown",
   "metadata": {
    "id": "MLw6hsHLa9rs"
   },
   "source": [
    "#Define model"
   ]
  },
  {
   "cell_type": "code",
   "execution_count": 9,
   "metadata": {
    "execution": {
     "iopub.execute_input": "2023-08-17T17:20:48.315050Z",
     "iopub.status.busy": "2023-08-17T17:20:48.314852Z",
     "iopub.status.idle": "2023-08-17T17:20:48.357680Z",
     "shell.execute_reply": "2023-08-17T17:20:48.356806Z",
     "shell.execute_reply.started": "2023-08-17T17:20:48.315032Z"
    },
    "id": "zS4ZeVvjozob"
   },
   "outputs": [],
   "source": [
    "class BarlowTwins(nn.Module):\n",
    "    def __init__(self, backbone):\n",
    "        super().__init__()\n",
    "        self.backbone = backbone\n",
    "        self.projection_head = BarlowTwinsProjectionHead(512, 2048, 2048)\n",
    "\n",
    "    def forward(self, x):\n",
    "        x = self.backbone(x).flatten(start_dim=1)\n",
    "        z = self.projection_head(x)\n",
    "        return z"
   ]
  },
  {
   "cell_type": "code",
   "execution_count": 10,
   "metadata": {
    "colab": {
     "base_uri": "https://localhost:8080/"
    },
    "execution": {
     "iopub.execute_input": "2023-08-17T17:20:48.360151Z",
     "iopub.status.busy": "2023-08-17T17:20:48.359936Z",
     "iopub.status.idle": "2023-08-17T17:20:50.678663Z",
     "shell.execute_reply": "2023-08-17T17:20:50.677882Z",
     "shell.execute_reply.started": "2023-08-17T17:20:48.360128Z"
    },
    "id": "YvU6Z1jM6G6D",
    "outputId": "35a1d686-8d19-49e7-da15-a24a0445320a"
   },
   "outputs": [
    {
     "name": "stdout",
     "output_type": "stream",
     "text": [
      "\n"
     ]
    }
   ],
   "source": [
    "resnet = torchvision.models.resnet18()\n",
    "backbone = nn.Sequential(*list(resnet.children())[:-1])\n",
    "model = BarlowTwins(backbone)\n",
    "\n",
    "device = \"cuda\" if torch.cuda.is_available() else \"cpu\"\n",
    "model.to(device)\n",
    "print()"
   ]
  },
  {
   "cell_type": "markdown",
   "metadata": {
    "id": "8Pz8GFLvpBs6"
   },
   "source": [
    "#Data (TinyImageNet)"
   ]
  },
  {
   "cell_type": "code",
   "execution_count": 11,
   "metadata": {
    "execution": {
     "iopub.execute_input": "2023-08-17T17:20:50.679799Z",
     "iopub.status.busy": "2023-08-17T17:20:50.679569Z",
     "iopub.status.idle": "2023-08-17T17:20:50.724802Z",
     "shell.execute_reply": "2023-08-17T17:20:50.723922Z",
     "shell.execute_reply.started": "2023-08-17T17:20:50.679779Z"
    },
    "id": "mPjZIW-JpBL4"
   },
   "outputs": [],
   "source": [
    "def get_input_stats():\n",
    "    data_mean = (0.4802, 0.4481, 0.3975)\n",
    "    data_std = (0.2770, 0.2691, 0.2821)\n",
    "\n",
    "    return data_mean, data_std"
   ]
  },
  {
   "cell_type": "code",
   "execution_count": 12,
   "metadata": {
    "execution": {
     "iopub.execute_input": "2023-08-17T17:20:50.726471Z",
     "iopub.status.busy": "2023-08-17T17:20:50.726238Z",
     "iopub.status.idle": "2023-08-17T17:20:52.362625Z",
     "shell.execute_reply": "2023-08-17T17:20:52.361988Z",
     "shell.execute_reply.started": "2023-08-17T17:20:50.726449Z"
    },
    "id": "VTmA4eCFpSRT"
   },
   "outputs": [],
   "source": [
    "from torchvision import transforms as T\n",
    "from torchvision import datasets\n",
    "\n",
    "test_transform = T.Compose([\n",
    "            T.ToTensor(),\n",
    "            T.Normalize(mean=[0.485, 0.456, 0.406], std=[0.229, 0.224, 0.225]) ])\n",
    "\n",
    "tin_data_val = datasets.ImageFolder(root='datasets/tiny-imagenet-200/val',\n",
    "                                    transform=test_transform)\n",
    "tin_loader_val = torch.utils.data.DataLoader(tin_data_val,batch_size=32, drop_last=True)\n",
    "tin_data_train = datasets.ImageFolder(root='datasets/tiny-imagenet-200/train',\n",
    "                                    transform=test_transform)\n",
    "tin_loader_train = torch.utils.data.DataLoader(tin_data_train,batch_size=32, drop_last=True)"
   ]
  },
  {
   "cell_type": "code",
   "execution_count": 13,
   "metadata": {
    "execution": {
     "iopub.execute_input": "2023-08-17T17:20:52.363570Z",
     "iopub.status.busy": "2023-08-17T17:20:52.363380Z",
     "iopub.status.idle": "2023-08-17T17:20:52.414536Z",
     "shell.execute_reply": "2023-08-17T17:20:52.413613Z",
     "shell.execute_reply.started": "2023-08-17T17:20:52.363551Z"
    },
    "id": "X-AHB_PdrlI_"
   },
   "outputs": [],
   "source": [
    "transform = BYOLTransform(\n",
    "    view_1_transform=BYOLView1Transform(input_size=32, gaussian_blur=0.0),\n",
    "    view_2_transform=BYOLView2Transform(input_size=32, gaussian_blur=0.0),\n",
    ")\n",
    "data_mean, data_std = get_input_stats()\n",
    "normalize_dict = {'mean': data_mean, 'std': data_std}\n",
    "\n",
    "dataset = LightlyDataset.from_torch_dataset(tin_data_train, transform=transform)\n",
    "\n",
    "dataloader = torch.utils.data.DataLoader(\n",
    "    dataset,\n",
    "    batch_size=128,\n",
    "    shuffle=True,\n",
    "    drop_last=True,\n",
    "    num_workers=2,\n",
    "    pin_memory=True\n",
    ")"
   ]
  },
  {
   "cell_type": "markdown",
   "metadata": {
    "id": "qt_x8uWapvpz"
   },
   "source": [
    "#Optimizer and Scheduler"
   ]
  },
  {
   "cell_type": "code",
   "execution_count": 14,
   "metadata": {
    "execution": {
     "iopub.execute_input": "2023-08-17T17:20:52.416110Z",
     "iopub.status.busy": "2023-08-17T17:20:52.415896Z",
     "iopub.status.idle": "2023-08-17T17:20:52.459487Z",
     "shell.execute_reply": "2023-08-17T17:20:52.458470Z",
     "shell.execute_reply.started": "2023-08-17T17:20:52.416091Z"
    },
    "id": "eolzz2Yjpsiy"
   },
   "outputs": [],
   "source": [
    "criterion = BarlowTwinsLoss()\n",
    "optimizer = torch.optim.SGD(model.parameters(), lr=0.06)\n",
    "# scheduler = torch.optim.lr_scheduler.ExponentialLR(optimizer,gamma=0.95)\n",
    "# scheduler = torch.optim.lr_scheduler.CyclicLR(optimizer,base_lr=0.06, max_lr=0.1)"
   ]
  },
  {
   "cell_type": "markdown",
   "metadata": {
    "id": "6mWUxvzNqMhL"
   },
   "source": [
    "#KNN and dataloaders for evaluation"
   ]
  },
  {
   "cell_type": "code",
   "execution_count": 15,
   "metadata": {
    "execution": {
     "iopub.execute_input": "2023-08-17T17:20:52.460513Z",
     "iopub.status.busy": "2023-08-17T17:20:52.460318Z",
     "iopub.status.idle": "2023-08-17T17:20:52.507496Z",
     "shell.execute_reply": "2023-08-17T17:20:52.506628Z",
     "shell.execute_reply.started": "2023-08-17T17:20:52.460493Z"
    },
    "id": "-1MgDzsMqTv3"
   },
   "outputs": [],
   "source": [
    "from torchvision import transforms as T\n",
    "from torch.utils.data import DataLoader\n",
    "from sklearn.model_selection import train_test_split\n",
    "\n",
    "BATCH_SIZE = 32\n",
    "\n",
    "test_transform = T.Compose([\n",
    "            T.ToTensor(),\n",
    "            T.Normalize(mean=[0.485, 0.456, 0.406], std=[0.229, 0.224, 0.225]) ])\n",
    "\n",
    "# def get_loaders( batch_size, transform=test_transform,data_path='./'):\n",
    "#     dst_train = datasets.ImageFolder(root=os.path.join(data_path, 'tiny-imagenet-200/train'), transform=test_transform)\n",
    "#     dst_test = datasets.ImageFolder(root=os.path.join(data_path, 'tiny-imagenet-200/test'), transform=test_transform)\n",
    "#     train_loader = DataLoader(dataset=dst_train, batch_size=batch_size, num_workers=1, drop_last=True)\n",
    "#     test_loader = DataLoader(dataset=dst_test, batch_size=batch_size, num_workers=1, drop_last=True)\n",
    "#     return train_loader, test_loader\n",
    "\n",
    "# train_loader, test_loader = get_loaders(batch_size=BATCH_SIZE)"
   ]
  },
  {
   "cell_type": "markdown",
   "metadata": {
    "id": "m4XouXdG-L7Q"
   },
   "source": [
    "#Make directory for saving models"
   ]
  },
  {
   "cell_type": "code",
   "execution_count": 16,
   "metadata": {
    "execution": {
     "iopub.execute_input": "2023-08-17T17:20:52.508546Z",
     "iopub.status.busy": "2023-08-17T17:20:52.508352Z",
     "iopub.status.idle": "2023-08-17T17:20:52.552707Z",
     "shell.execute_reply": "2023-08-17T17:20:52.551722Z",
     "shell.execute_reply.started": "2023-08-17T17:20:52.508527Z"
    }
   },
   "outputs": [],
   "source": [
    "config = dict(\n",
    "    epochs=70,\n",
    "    classes=200,\n",
    "    learning_rate=0.006,\n",
    "    dataset=\"TinyImageNet\",\n",
    "    model=\"BarlowTwins\")"
   ]
  },
  {
   "cell_type": "code",
   "execution_count": 17,
   "metadata": {
    "execution": {
     "iopub.execute_input": "2023-08-17T17:20:52.553531Z",
     "iopub.status.busy": "2023-08-17T17:20:52.553348Z",
     "iopub.status.idle": "2023-08-17T17:20:53.366870Z",
     "shell.execute_reply": "2023-08-17T17:20:53.366201Z",
     "shell.execute_reply.started": "2023-08-17T17:20:52.553512Z"
    }
   },
   "outputs": [
    {
     "name": "stderr",
     "output_type": "stream",
     "text": [
      "\u001b[34m\u001b[1mwandb\u001b[0m: Currently logged in as: \u001b[33mivanova3581321\u001b[0m. Use \u001b[1m`wandb login --relogin`\u001b[0m to force relogin\n"
     ]
    },
    {
     "data": {
      "text/html": [
       "Tracking run with wandb version 0.15.8"
      ],
      "text/plain": [
       "<IPython.core.display.HTML object>"
      ]
     },
     "metadata": {},
     "output_type": "display_data"
    },
    {
     "data": {
      "text/html": [
       "Run data is saved locally in <code>/notebooks/wandb/run-20230817_172052-eee9utgq</code>"
      ],
      "text/plain": [
       "<IPython.core.display.HTML object>"
      ]
     },
     "metadata": {},
     "output_type": "display_data"
    },
    {
     "data": {
      "text/html": [
       "Syncing run <strong><a href='https://wandb.ai/ivanova3581321/BT_TIN_20epochs/runs/eee9utgq' target=\"_blank\">wise-dawn-1</a></strong> to <a href='https://wandb.ai/ivanova3581321/BT_TIN_20epochs' target=\"_blank\">Weights & Biases</a> (<a href='https://wandb.me/run' target=\"_blank\">docs</a>)<br/>"
      ],
      "text/plain": [
       "<IPython.core.display.HTML object>"
      ]
     },
     "metadata": {},
     "output_type": "display_data"
    },
    {
     "data": {
      "text/html": [
       " View project at <a href='https://wandb.ai/ivanova3581321/BT_TIN_20epochs' target=\"_blank\">https://wandb.ai/ivanova3581321/BT_TIN_20epochs</a>"
      ],
      "text/plain": [
       "<IPython.core.display.HTML object>"
      ]
     },
     "metadata": {},
     "output_type": "display_data"
    },
    {
     "data": {
      "text/html": [
       " View run at <a href='https://wandb.ai/ivanova3581321/BT_TIN_20epochs/runs/eee9utgq' target=\"_blank\">https://wandb.ai/ivanova3581321/BT_TIN_20epochs/runs/eee9utgq</a>"
      ],
      "text/plain": [
       "<IPython.core.display.HTML object>"
      ]
     },
     "metadata": {},
     "output_type": "display_data"
    },
    {
     "data": {
      "text/html": [
       "<button onClick=\"this.nextSibling.style.display='block';this.style.display='none';\">Display W&B run</button><iframe src='https://wandb.ai/ivanova3581321/BT_TIN_20epochs/runs/eee9utgq?jupyter=true' style='border:none;width:100%;height:420px;display:none;'></iframe>"
      ],
      "text/plain": [
       "<wandb.sdk.wandb_run.Run at 0x7f7977750eb0>"
      ]
     },
     "execution_count": 17,
     "metadata": {},
     "output_type": "execute_result"
    }
   ],
   "source": [
    "wandb.init(project=\"BT_TIN_20epochs\", config=config)"
   ]
  },
  {
   "cell_type": "code",
   "execution_count": 18,
   "metadata": {
    "execution": {
     "iopub.execute_input": "2023-08-17T17:20:53.368116Z",
     "iopub.status.busy": "2023-08-17T17:20:53.367916Z",
     "iopub.status.idle": "2023-08-17T17:20:55.177461Z",
     "shell.execute_reply": "2023-08-17T17:20:55.176827Z",
     "shell.execute_reply.started": "2023-08-17T17:20:53.368092Z"
    }
   },
   "outputs": [],
   "source": [
    "import time\n",
    "tin_data_val = datasets.ImageFolder(root='datasets/tiny-imagenet-200/val',\n",
    "                                    transform=test_transform)\n",
    "tin_loader_val = torch.utils.data.DataLoader(tin_data_val,batch_size=32, drop_last=True)\n",
    "tin_data_train = datasets.ImageFolder(root='datasets/tiny-imagenet-200/train',\n",
    "                                    transform=test_transform)\n",
    "tin_loader_train = torch.utils.data.DataLoader(tin_data_train,batch_size=32, drop_last=True)\n",
    "# start_time = time.time()\n",
    "# ssl_evaluator = KNN(model=model, k=1, device='cuda')\n",
    "# train_acc, val_acc = ssl_evaluator.fit(tin_loader_train, tin_loader_val)\n",
    "# print(train_acc, val_acc)\n",
    "# print(time.time() - start_time)"
   ]
  },
  {
   "cell_type": "code",
   "execution_count": 19,
   "metadata": {
    "execution": {
     "iopub.execute_input": "2023-08-17T17:20:55.178475Z",
     "iopub.status.busy": "2023-08-17T17:20:55.178285Z",
     "iopub.status.idle": "2023-08-17T19:09:52.959106Z",
     "shell.execute_reply": "2023-08-17T19:09:52.958413Z",
     "shell.execute_reply.started": "2023-08-17T17:20:55.178456Z"
    },
    "id": "yVQTGYZC-GRA"
   },
   "outputs": [
    {
     "name": "stdout",
     "output_type": "stream",
     "text": [
      "Starting Training\n"
     ]
    },
    {
     "name": "stderr",
     "output_type": "stream",
     "text": [
      "  5%|▌         | 1/20 [05:23<1:42:22, 323.28s/it]"
     ]
    },
    {
     "name": "stdout",
     "output_type": "stream",
     "text": [
      "\n",
      " epoch: 00, loss: 1714.14722\n"
     ]
    },
    {
     "name": "stderr",
     "output_type": "stream",
     "text": [
      " 10%|█         | 2/20 [10:41<1:36:03, 320.19s/it]"
     ]
    },
    {
     "name": "stdout",
     "output_type": "stream",
     "text": [
      "\n",
      " epoch: 01, loss: 1512.23486\n"
     ]
    },
    {
     "name": "stderr",
     "output_type": "stream",
     "text": [
      " 15%|█▌        | 3/20 [15:56<1:30:07, 318.11s/it]"
     ]
    },
    {
     "name": "stdout",
     "output_type": "stream",
     "text": [
      "\n",
      " epoch: 02, loss: 1326.31921\n"
     ]
    },
    {
     "name": "stderr",
     "output_type": "stream",
     "text": [
      " 20%|██        | 4/20 [21:06<1:23:57, 314.83s/it]"
     ]
    },
    {
     "name": "stdout",
     "output_type": "stream",
     "text": [
      "\n",
      " epoch: 03, loss: 1173.24817\n"
     ]
    },
    {
     "name": "stderr",
     "output_type": "stream",
     "text": [
      " 25%|██▌       | 5/20 [26:23<1:18:55, 315.68s/it]"
     ]
    },
    {
     "name": "stdout",
     "output_type": "stream",
     "text": [
      "\n",
      " epoch: 04, loss: 1107.15540\n"
     ]
    },
    {
     "name": "stderr",
     "output_type": "stream",
     "text": [
      " 30%|███       | 6/20 [31:41<1:13:49, 316.39s/it]"
     ]
    },
    {
     "name": "stdout",
     "output_type": "stream",
     "text": [
      "\n",
      " epoch: 05, loss: 1052.98206\n"
     ]
    },
    {
     "name": "stderr",
     "output_type": "stream",
     "text": [
      " 35%|███▌      | 7/20 [36:54<1:08:17, 315.20s/it]"
     ]
    },
    {
     "name": "stdout",
     "output_type": "stream",
     "text": [
      "\n",
      " epoch: 06, loss: 1007.82666\n"
     ]
    },
    {
     "name": "stderr",
     "output_type": "stream",
     "text": [
      " 40%|████      | 8/20 [42:08<1:02:58, 314.85s/it]"
     ]
    },
    {
     "name": "stdout",
     "output_type": "stream",
     "text": [
      "\n",
      " epoch: 07, loss: 976.74683\n"
     ]
    },
    {
     "name": "stderr",
     "output_type": "stream",
     "text": [
      " 45%|████▌     | 9/20 [47:29<58:03, 316.68s/it]  "
     ]
    },
    {
     "name": "stdout",
     "output_type": "stream",
     "text": [
      "\n",
      " epoch: 08, loss: 951.05371\n"
     ]
    },
    {
     "name": "stderr",
     "output_type": "stream",
     "text": [
      " 50%|█████     | 10/20 [52:56<53:19, 319.94s/it]"
     ]
    },
    {
     "name": "stdout",
     "output_type": "stream",
     "text": [
      "\n",
      " epoch: 09, loss: 931.95874\n"
     ]
    },
    {
     "name": "stderr",
     "output_type": "stream",
     "text": [
      " 55%|█████▌    | 11/20 [58:18<48:06, 320.68s/it]"
     ]
    },
    {
     "name": "stdout",
     "output_type": "stream",
     "text": [
      "\n",
      " epoch: 10, loss: 916.30145\n"
     ]
    },
    {
     "name": "stderr",
     "output_type": "stream",
     "text": [
      " 60%|██████    | 12/20 [1:03:51<43:15, 324.40s/it]"
     ]
    },
    {
     "name": "stdout",
     "output_type": "stream",
     "text": [
      "\n",
      " epoch: 11, loss: 898.18274\n"
     ]
    },
    {
     "name": "stderr",
     "output_type": "stream",
     "text": [
      " 65%|██████▌   | 13/20 [1:09:27<38:14, 327.76s/it]"
     ]
    },
    {
     "name": "stdout",
     "output_type": "stream",
     "text": [
      "\n",
      " epoch: 12, loss: 885.35834\n"
     ]
    },
    {
     "name": "stderr",
     "output_type": "stream",
     "text": [
      " 70%|███████   | 14/20 [1:15:00<32:56, 329.43s/it]"
     ]
    },
    {
     "name": "stdout",
     "output_type": "stream",
     "text": [
      "\n",
      " epoch: 13, loss: 875.20074\n"
     ]
    },
    {
     "name": "stderr",
     "output_type": "stream",
     "text": [
      " 75%|███████▌  | 15/20 [1:20:28<27:24, 328.96s/it]"
     ]
    },
    {
     "name": "stdout",
     "output_type": "stream",
     "text": [
      "\n",
      " epoch: 14, loss: 864.51404\n"
     ]
    },
    {
     "name": "stderr",
     "output_type": "stream",
     "text": [
      " 80%|████████  | 16/20 [1:26:14<22:16, 334.19s/it]"
     ]
    },
    {
     "name": "stdout",
     "output_type": "stream",
     "text": [
      "\n",
      " epoch: 15, loss: 859.26904\n"
     ]
    },
    {
     "name": "stderr",
     "output_type": "stream",
     "text": [
      " 85%|████████▌ | 17/20 [1:31:50<16:43, 334.63s/it]"
     ]
    },
    {
     "name": "stdout",
     "output_type": "stream",
     "text": [
      "\n",
      " epoch: 16, loss: 848.35944\n"
     ]
    },
    {
     "name": "stderr",
     "output_type": "stream",
     "text": [
      " 90%|█████████ | 18/20 [1:37:34<11:15, 337.55s/it]"
     ]
    },
    {
     "name": "stdout",
     "output_type": "stream",
     "text": [
      "\n",
      " epoch: 17, loss: 842.75092\n"
     ]
    },
    {
     "name": "stderr",
     "output_type": "stream",
     "text": [
      " 95%|█████████▌| 19/20 [1:43:15<05:38, 338.55s/it]"
     ]
    },
    {
     "name": "stdout",
     "output_type": "stream",
     "text": [
      "\n",
      " epoch: 18, loss: 835.73761\n"
     ]
    },
    {
     "name": "stderr",
     "output_type": "stream",
     "text": [
      "100%|██████████| 20/20 [1:48:57<00:00, 326.89s/it]"
     ]
    },
    {
     "name": "stdout",
     "output_type": "stream",
     "text": [
      "\n",
      " epoch: 19, loss: 829.94244\n"
     ]
    },
    {
     "name": "stderr",
     "output_type": "stream",
     "text": [
      "\n"
     ]
    }
   ],
   "source": [
    "model.to(device)\n",
    "optimizer = torch.optim.SGD(model.parameters(), lr=0.06)\n",
    "scheduler = torch.optim.lr_scheduler.CyclicLR(optimizer,base_lr=0.06, max_lr=0.1)\n",
    "\n",
    "best_val_acc = 0\n",
    "print(\"Starting Training\")\n",
    "for epoch in tqdm(range(N_EPOCHS)):\n",
    "    total_loss = 0\n",
    "    for index,batch in enumerate(dataloader):\n",
    "        x0, x1 = batch[0]\n",
    "        x0 = x0.to(device)\n",
    "        x1 = x1.to(device)\n",
    "        z0 = model(x0)\n",
    "        z1 = model(x1)\n",
    "        loss = criterion(z0, z1)\n",
    "        total_loss += loss.detach()\n",
    "        loss.backward()\n",
    "        optimizer.step()\n",
    "        optimizer.zero_grad()\n",
    "        scheduler.step()\n",
    "        # scheduler.step()\n",
    "    avg_loss = total_loss / len(dataloader)\n",
    "    print(f\"\\n epoch: {epoch:>02}, loss: {avg_loss:.5f}\")\n",
    "    wandb.log({'epoch': epoch, 'loss': avg_loss})\n",
    "    # if epoch % 10 == 0:\n",
    "    #     ssl_evaluator = KNN(model=model, k=1, device='cuda')\n",
    "    #     train_acc, _ = ssl_evaluator.fit(tin_loader_train, tin_loader_val)\n",
    "    #     if train_acc > best_val_acc:\n",
    "    #         torch.save(model.state_dict(),f'SimCLR_{val_acc:.2f}_TIN.pt')\n",
    "    #         best_val_acc = train_acc\n",
    "    #     print(f'\\n Train Accuracy:{train_acc:.1f}%')#,f' Val Accuracy:{val_acc:.1f}%')"
   ]
  },
  {
   "cell_type": "markdown",
   "metadata": {
    "id": "D7ET-5mTCNPK"
   },
   "source": [
    "#Load best model we have got"
   ]
  },
  {
   "cell_type": "code",
   "execution_count": 20,
   "metadata": {
    "execution": {
     "iopub.execute_input": "2023-08-17T19:09:52.960720Z",
     "iopub.status.busy": "2023-08-17T19:09:52.960132Z",
     "iopub.status.idle": "2023-08-17T19:09:53.013830Z",
     "shell.execute_reply": "2023-08-17T19:09:53.012535Z",
     "shell.execute_reply.started": "2023-08-17T19:09:52.960697Z"
    }
   },
   "outputs": [
    {
     "data": {
      "text/plain": [
       "19"
      ]
     },
     "execution_count": 20,
     "metadata": {},
     "output_type": "execute_result"
    }
   ],
   "source": [
    "epoch"
   ]
  },
  {
   "cell_type": "code",
   "execution_count": 21,
   "metadata": {
    "execution": {
     "iopub.execute_input": "2023-08-17T19:09:53.015267Z",
     "iopub.status.busy": "2023-08-17T19:09:53.014735Z",
     "iopub.status.idle": "2023-08-17T19:21:21.763069Z",
     "shell.execute_reply": "2023-08-17T19:21:21.762142Z",
     "shell.execute_reply.started": "2023-08-17T19:09:53.015246Z"
    },
    "id": "w-NUb_4LCR4K"
   },
   "outputs": [
    {
     "name": "stdout",
     "output_type": "stream",
     "text": [
      "Start evaluating\n",
      "Evaluate on train data...\n",
      "Evaluate on test data...\n",
      "3.656 2.9347227253706207\n"
     ]
    }
   ],
   "source": [
    "print('Start evaluating')\n",
    "ssl_evaluator = KNN(model=model, k=1, device='cuda')\n",
    "train_acc, val_acc = ssl_evaluator.fit(tin_loader_train, tin_loader_val)\n",
    "print(train_acc, val_acc)"
   ]
  },
  {
   "cell_type": "markdown",
   "metadata": {
    "id": "76Ol8vO7CYdq"
   },
   "source": [
    "#Visual evaluation"
   ]
  },
  {
   "cell_type": "markdown",
   "metadata": {
    "id": "13v4MkndDDBe"
   },
   "source": [
    "#Save backbone model"
   ]
  },
  {
   "cell_type": "code",
   "execution_count": 22,
   "metadata": {
    "execution": {
     "iopub.execute_input": "2023-08-17T19:21:21.764846Z",
     "iopub.status.busy": "2023-08-17T19:21:21.764237Z",
     "iopub.status.idle": "2023-08-17T19:21:21.894717Z",
     "shell.execute_reply": "2023-08-17T19:21:21.894060Z",
     "shell.execute_reply.started": "2023-08-17T19:21:21.764816Z"
    },
    "id": "NCMzWTgzC9iu",
    "tags": []
   },
   "outputs": [],
   "source": [
    "backbone = model.backbone\n",
    "torch.save(backbone.state_dict(), f'BT_TIN_acc{val_acc:.2f}_epoch{N_EPOCHS}.pt')"
   ]
  }
 ],
 "metadata": {
  "accelerator": "GPU",
  "colab": {
   "gpuType": "T4",
   "provenance": []
  },
  "kernelspec": {
   "display_name": "Python 3 (ipykernel)",
   "language": "python",
   "name": "python3"
  },
  "language_info": {
   "codemirror_mode": {
    "name": "ipython",
    "version": 3
   },
   "file_extension": ".py",
   "mimetype": "text/x-python",
   "name": "python",
   "nbconvert_exporter": "python",
   "pygments_lexer": "ipython3",
   "version": "3.9.16"
  }
 },
 "nbformat": 4,
 "nbformat_minor": 4
}
