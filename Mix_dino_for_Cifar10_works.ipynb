{
 "cells": [
  {
   "cell_type": "markdown",
   "metadata": {
    "id": "OSRpwcmEa5l2"
   },
   "source": [
    "#Necessary imports"
   ]
  },
  {
   "cell_type": "code",
   "execution_count": 13,
   "metadata": {
    "execution": {
     "iopub.execute_input": "2023-08-18T08:36:14.125138Z",
     "iopub.status.busy": "2023-08-18T08:36:14.124266Z",
     "iopub.status.idle": "2023-08-18T08:36:14.203465Z",
     "shell.execute_reply": "2023-08-18T08:36:14.202850Z",
     "shell.execute_reply.started": "2023-08-18T08:36:14.125111Z"
    }
   },
   "outputs": [
    {
     "name": "stdout",
     "output_type": "stream",
     "text": [
      "The autoreload extension is already loaded. To reload it, use:\n",
      "  %reload_ext autoreload\n"
     ]
    }
   ],
   "source": [
    "%load_ext autoreload\n",
    "%autoreload 2"
   ]
  },
  {
   "cell_type": "code",
   "execution_count": 14,
   "metadata": {
    "execution": {
     "iopub.execute_input": "2023-08-18T08:36:14.205350Z",
     "iopub.status.busy": "2023-08-18T08:36:14.204756Z",
     "iopub.status.idle": "2023-08-18T08:36:14.231675Z",
     "shell.execute_reply": "2023-08-18T08:36:14.230982Z",
     "shell.execute_reply.started": "2023-08-18T08:36:14.205324Z"
    },
    "id": "qX9vHI95Zgli"
   },
   "outputs": [],
   "source": [
    "import warnings\n",
    "warnings.filterwarnings(\"ignore\")"
   ]
  },
  {
   "cell_type": "code",
   "execution_count": 15,
   "metadata": {
    "execution": {
     "iopub.execute_input": "2023-08-18T08:36:14.233067Z",
     "iopub.status.busy": "2023-08-18T08:36:14.232385Z",
     "iopub.status.idle": "2023-08-18T08:36:23.049030Z",
     "shell.execute_reply": "2023-08-18T08:36:23.048260Z",
     "shell.execute_reply.started": "2023-08-18T08:36:14.233047Z"
    },
    "id": "HS8-QCmDWIXN"
   },
   "outputs": [
    {
     "name": "stdout",
     "output_type": "stream",
     "text": [
      "\u001b[33mWARNING: Running pip as the 'root' user can result in broken permissions and conflicting behaviour with the system package manager. It is recommended to use a virtual environment instead: https://pip.pypa.io/warnings/venv\u001b[0m\u001b[33m\n",
      "\u001b[0mRequirement already satisfied: openmim in /usr/local/lib/python3.9/dist-packages (0.3.9)\n",
      "Requirement already satisfied: pandas in /usr/local/lib/python3.9/dist-packages (from openmim) (1.5.0)\n",
      "Requirement already satisfied: model-index in /usr/local/lib/python3.9/dist-packages (from openmim) (0.1.11)\n",
      "Requirement already satisfied: Click in /usr/local/lib/python3.9/dist-packages (from openmim) (8.1.3)\n",
      "Requirement already satisfied: opendatalab in /usr/local/lib/python3.9/dist-packages (from openmim) (0.0.10)\n",
      "Requirement already satisfied: rich in /usr/local/lib/python3.9/dist-packages (from openmim) (13.4.2)\n",
      "Requirement already satisfied: requests in /usr/local/lib/python3.9/dist-packages (from openmim) (2.28.2)\n",
      "Requirement already satisfied: pip>=19.3 in /usr/local/lib/python3.9/dist-packages (from openmim) (22.3.1)\n",
      "Requirement already satisfied: tabulate in /usr/local/lib/python3.9/dist-packages (from openmim) (0.9.0)\n",
      "Requirement already satisfied: colorama in /usr/local/lib/python3.9/dist-packages (from openmim) (0.4.3)\n",
      "Requirement already satisfied: pyyaml in /usr/local/lib/python3.9/dist-packages (from model-index->openmim) (6.0.1)\n",
      "Requirement already satisfied: ordered-set in /usr/local/lib/python3.9/dist-packages (from model-index->openmim) (4.1.0)\n",
      "Requirement already satisfied: markdown in /usr/local/lib/python3.9/dist-packages (from model-index->openmim) (3.4.1)\n",
      "Requirement already satisfied: tqdm in /usr/local/lib/python3.9/dist-packages (from opendatalab->openmim) (4.65.2)\n",
      "Requirement already satisfied: openxlab in /usr/local/lib/python3.9/dist-packages (from opendatalab->openmim) (0.0.18)\n",
      "Requirement already satisfied: pycryptodome in /usr/local/lib/python3.9/dist-packages (from opendatalab->openmim) (3.18.0)\n",
      "Requirement already satisfied: idna<4,>=2.5 in /usr/lib/python3/dist-packages (from requests->openmim) (2.8)\n",
      "Requirement already satisfied: charset-normalizer<4,>=2 in /usr/local/lib/python3.9/dist-packages (from requests->openmim) (2.1.1)\n",
      "Requirement already satisfied: certifi>=2017.4.17 in /usr/lib/python3/dist-packages (from requests->openmim) (2019.11.28)\n",
      "Requirement already satisfied: urllib3<1.27,>=1.21.1 in /usr/local/lib/python3.9/dist-packages (from requests->openmim) (1.26.14)\n",
      "Requirement already satisfied: numpy>=1.20.3 in /usr/local/lib/python3.9/dist-packages (from pandas->openmim) (1.23.4)\n",
      "Requirement already satisfied: python-dateutil>=2.8.1 in /usr/local/lib/python3.9/dist-packages (from pandas->openmim) (2.8.2)\n",
      "Requirement already satisfied: pytz>=2020.1 in /usr/local/lib/python3.9/dist-packages (from pandas->openmim) (2023.3)\n",
      "Requirement already satisfied: markdown-it-py>=2.2.0 in /usr/local/lib/python3.9/dist-packages (from rich->openmim) (2.2.0)\n",
      "Requirement already satisfied: pygments<3.0.0,>=2.13.0 in /usr/local/lib/python3.9/dist-packages (from rich->openmim) (2.14.0)\n",
      "Requirement already satisfied: mdurl~=0.1 in /usr/local/lib/python3.9/dist-packages (from markdown-it-py>=2.2.0->rich->openmim) (0.1.2)\n",
      "Requirement already satisfied: six>=1.5 in /usr/lib/python3/dist-packages (from python-dateutil>=2.8.1->pandas->openmim) (1.14.0)\n",
      "Requirement already satisfied: importlib-metadata>=4.4 in /usr/local/lib/python3.9/dist-packages (from markdown->model-index->openmim) (6.8.0)\n",
      "Requirement already satisfied: setuptools~=60.2.0 in /usr/local/lib/python3.9/dist-packages (from openxlab->opendatalab->openmim) (60.2.0)\n",
      "Requirement already satisfied: oss2~=2.17.0 in /usr/local/lib/python3.9/dist-packages (from openxlab->opendatalab->openmim) (2.17.0)\n",
      "Requirement already satisfied: zipp>=0.5 in /usr/local/lib/python3.9/dist-packages (from importlib-metadata>=4.4->markdown->model-index->openmim) (3.11.0)\n",
      "Requirement already satisfied: aliyun-python-sdk-core>=2.13.12 in /usr/local/lib/python3.9/dist-packages (from oss2~=2.17.0->openxlab->opendatalab->openmim) (2.13.36)\n",
      "Requirement already satisfied: aliyun-python-sdk-kms>=2.4.1 in /usr/local/lib/python3.9/dist-packages (from oss2~=2.17.0->openxlab->opendatalab->openmim) (2.16.1)\n",
      "Requirement already satisfied: crcmod>=1.7 in /usr/local/lib/python3.9/dist-packages (from oss2~=2.17.0->openxlab->opendatalab->openmim) (1.7)\n",
      "Requirement already satisfied: cryptography>=2.6.0 in /usr/local/lib/python3.9/dist-packages (from aliyun-python-sdk-core>=2.13.12->oss2~=2.17.0->openxlab->opendatalab->openmim) (41.0.3)\n",
      "Requirement already satisfied: jmespath<1.0.0,>=0.9.3 in /usr/local/lib/python3.9/dist-packages (from aliyun-python-sdk-core>=2.13.12->oss2~=2.17.0->openxlab->opendatalab->openmim) (0.10.0)\n",
      "Requirement already satisfied: cffi>=1.12 in /usr/local/lib/python3.9/dist-packages (from cryptography>=2.6.0->aliyun-python-sdk-core>=2.13.12->oss2~=2.17.0->openxlab->opendatalab->openmim) (1.15.1)\n",
      "Requirement already satisfied: pycparser in /usr/local/lib/python3.9/dist-packages (from cffi>=1.12->cryptography>=2.6.0->aliyun-python-sdk-core>=2.13.12->oss2~=2.17.0->openxlab->opendatalab->openmim) (2.21)\n",
      "\u001b[33mWARNING: Running pip as the 'root' user can result in broken permissions and conflicting behaviour with the system package manager. It is recommended to use a virtual environment instead: https://pip.pypa.io/warnings/venv\u001b[0m\u001b[33m\n",
      "\u001b[0mLooking in links: https://download.openmmlab.com/mmcv/dist/cu116/torch1.12.0/index.html\n",
      "Requirement already satisfied: mmpretrain>=1.0.0rc8 in /usr/local/lib/python3.9/dist-packages (1.0.2)\n",
      "Requirement already satisfied: einops in /usr/local/lib/python3.9/dist-packages (from mmpretrain>=1.0.0rc8) (0.6.1)\n",
      "Requirement already satisfied: modelindex in /usr/local/lib/python3.9/dist-packages (from mmpretrain>=1.0.0rc8) (0.0.2)\n",
      "Requirement already satisfied: rich in /usr/local/lib/python3.9/dist-packages (from mmpretrain>=1.0.0rc8) (13.4.2)\n",
      "Requirement already satisfied: numpy in /usr/local/lib/python3.9/dist-packages (from mmpretrain>=1.0.0rc8) (1.23.4)\n",
      "Requirement already satisfied: mat4py in /usr/local/lib/python3.9/dist-packages (from mmpretrain>=1.0.0rc8) (0.5.0)\n",
      "Requirement already satisfied: matplotlib in /usr/local/lib/python3.9/dist-packages (from mmpretrain>=1.0.0rc8) (3.6.1)\n",
      "Requirement already satisfied: importlib-metadata in /usr/local/lib/python3.9/dist-packages (from mmpretrain>=1.0.0rc8) (6.8.0)\n",
      "Requirement already satisfied: mmcv<2.1.0,>=2.0.0 in /usr/local/lib/python3.9/dist-packages (from mmpretrain>=1.0.0rc8) (2.0.1)\n",
      "Requirement already satisfied: mmengine<1.0.0,>=0.8.3 in /usr/local/lib/python3.9/dist-packages (from mmpretrain>=1.0.0rc8) (0.8.4)\n",
      "Requirement already satisfied: packaging in /usr/local/lib/python3.9/dist-packages (from mmcv<2.1.0,>=2.0.0->mmpretrain>=1.0.0rc8) (23.0)\n",
      "Requirement already satisfied: pyyaml in /usr/local/lib/python3.9/dist-packages (from mmcv<2.1.0,>=2.0.0->mmpretrain>=1.0.0rc8) (6.0.1)\n",
      "Requirement already satisfied: opencv-python>=3 in /usr/local/lib/python3.9/dist-packages (from mmcv<2.1.0,>=2.0.0->mmpretrain>=1.0.0rc8) (4.6.0.66)\n",
      "Requirement already satisfied: yapf in /usr/local/lib/python3.9/dist-packages (from mmcv<2.1.0,>=2.0.0->mmpretrain>=1.0.0rc8) (0.40.1)\n",
      "Requirement already satisfied: addict in /usr/local/lib/python3.9/dist-packages (from mmcv<2.1.0,>=2.0.0->mmpretrain>=1.0.0rc8) (2.4.0)\n",
      "Requirement already satisfied: Pillow in /usr/local/lib/python3.9/dist-packages (from mmcv<2.1.0,>=2.0.0->mmpretrain>=1.0.0rc8) (9.2.0)\n",
      "Requirement already satisfied: termcolor in /usr/local/lib/python3.9/dist-packages (from mmengine<1.0.0,>=0.8.3->mmpretrain>=1.0.0rc8) (2.2.0)\n",
      "Requirement already satisfied: zipp>=0.5 in /usr/local/lib/python3.9/dist-packages (from importlib-metadata->mmpretrain>=1.0.0rc8) (3.11.0)\n",
      "Requirement already satisfied: pyparsing>=2.2.1 in /usr/local/lib/python3.9/dist-packages (from matplotlib->mmpretrain>=1.0.0rc8) (3.0.9)\n",
      "Requirement already satisfied: fonttools>=4.22.0 in /usr/local/lib/python3.9/dist-packages (from matplotlib->mmpretrain>=1.0.0rc8) (4.38.0)\n",
      "Requirement already satisfied: cycler>=0.10 in /usr/local/lib/python3.9/dist-packages (from matplotlib->mmpretrain>=1.0.0rc8) (0.11.0)\n",
      "Requirement already satisfied: python-dateutil>=2.7 in /usr/local/lib/python3.9/dist-packages (from matplotlib->mmpretrain>=1.0.0rc8) (2.8.2)\n",
      "Requirement already satisfied: kiwisolver>=1.0.1 in /usr/local/lib/python3.9/dist-packages (from matplotlib->mmpretrain>=1.0.0rc8) (1.4.4)\n",
      "Requirement already satisfied: contourpy>=1.0.1 in /usr/local/lib/python3.9/dist-packages (from matplotlib->mmpretrain>=1.0.0rc8) (1.0.7)\n",
      "Requirement already satisfied: model-index in /usr/local/lib/python3.9/dist-packages (from modelindex->mmpretrain>=1.0.0rc8) (0.1.11)\n",
      "Requirement already satisfied: markdown-it-py>=2.2.0 in /usr/local/lib/python3.9/dist-packages (from rich->mmpretrain>=1.0.0rc8) (2.2.0)\n",
      "Requirement already satisfied: pygments<3.0.0,>=2.13.0 in /usr/local/lib/python3.9/dist-packages (from rich->mmpretrain>=1.0.0rc8) (2.14.0)\n",
      "Requirement already satisfied: mdurl~=0.1 in /usr/local/lib/python3.9/dist-packages (from markdown-it-py>=2.2.0->rich->mmpretrain>=1.0.0rc8) (0.1.2)\n",
      "Requirement already satisfied: six>=1.5 in /usr/lib/python3/dist-packages (from python-dateutil>=2.7->matplotlib->mmpretrain>=1.0.0rc8) (1.14.0)\n",
      "Requirement already satisfied: markdown in /usr/local/lib/python3.9/dist-packages (from model-index->modelindex->mmpretrain>=1.0.0rc8) (3.4.1)\n",
      "Requirement already satisfied: ordered-set in /usr/local/lib/python3.9/dist-packages (from model-index->modelindex->mmpretrain>=1.0.0rc8) (4.1.0)\n",
      "Requirement already satisfied: click in /usr/local/lib/python3.9/dist-packages (from model-index->modelindex->mmpretrain>=1.0.0rc8) (8.1.3)\n",
      "Requirement already satisfied: tomli>=2.0.1 in /usr/local/lib/python3.9/dist-packages (from yapf->mmcv<2.1.0,>=2.0.0->mmpretrain>=1.0.0rc8) (2.0.1)\n",
      "Requirement already satisfied: platformdirs>=3.5.1 in /usr/local/lib/python3.9/dist-packages (from yapf->mmcv<2.1.0,>=2.0.0->mmpretrain>=1.0.0rc8) (3.10.0)\n",
      "\u001b[33mWARNING: Running pip as the 'root' user can result in broken permissions and conflicting behaviour with the system package manager. It is recommended to use a virtual environment instead: https://pip.pypa.io/warnings/venv\u001b[0m\u001b[33m\n",
      "\u001b[0m"
     ]
    }
   ],
   "source": [
    "!pip install -q lightly\n",
    "!pip install -U openmim && mim install \"mmpretrain>=1.0.0rc8\""
   ]
  },
  {
   "cell_type": "code",
   "execution_count": 16,
   "metadata": {
    "execution": {
     "iopub.execute_input": "2023-08-18T08:36:23.052064Z",
     "iopub.status.busy": "2023-08-18T08:36:23.051432Z",
     "iopub.status.idle": "2023-08-18T08:36:23.082916Z",
     "shell.execute_reply": "2023-08-18T08:36:23.082316Z",
     "shell.execute_reply.started": "2023-08-18T08:36:23.052063Z"
    }
   },
   "outputs": [],
   "source": [
    "DATASET = 'CIFAR100' # or 'CIFAR100'\n",
    "N_EPOCHS = 20"
   ]
  },
  {
   "cell_type": "code",
   "execution_count": 17,
   "metadata": {
    "colab": {
     "base_uri": "https://localhost:8080/"
    },
    "execution": {
     "iopub.execute_input": "2023-08-18T08:36:23.084449Z",
     "iopub.status.busy": "2023-08-18T08:36:23.084097Z",
     "iopub.status.idle": "2023-08-18T08:36:23.112393Z",
     "shell.execute_reply": "2023-08-18T08:36:23.111903Z",
     "shell.execute_reply.started": "2023-08-18T08:36:23.084391Z"
    },
    "id": "ui1LUgCFZhlA",
    "outputId": "c1163bbe-071c-46ce-9c4e-db9dcd20a65c"
   },
   "outputs": [
    {
     "data": {
      "text/plain": [
       "device(type='cuda', index=0)"
      ]
     },
     "execution_count": 17,
     "metadata": {},
     "output_type": "execute_result"
    }
   ],
   "source": [
    "import numpy as np\n",
    "import pandas as pd\n",
    "import copy\n",
    "import torch\n",
    "from sklearn.model_selection import cross_val_score\n",
    "from sklearn.neighbors import KNeighborsClassifier\n",
    "from torch import nn\n",
    "import matplotlib.pyplot as plt\n",
    "from PIL import Image\n",
    "\n",
    "from tqdm import tqdm\n",
    "\n",
    "import torch\n",
    "import torchvision\n",
    "\n",
    "from torch import nn\n",
    "from torchvision import transforms\n",
    "\n",
    "from lightly.loss import NTXentLoss\n",
    "from lightly.models.modules import SimCLRProjectionHead\n",
    "from lightly.transforms.simclr_transform import SimCLRTransform\n",
    "\n",
    "from lightly.data import LightlyDataset\n",
    "from sklearn.neighbors import NearestNeighbors\n",
    "from sklearn.preprocessing import normalize\n",
    "\n",
    "DEVICE = torch.device('cuda:0' if torch.cuda.is_available() else 'cpu')\n",
    "DEVICE"
   ]
  },
  {
   "cell_type": "code",
   "execution_count": 18,
   "metadata": {
    "execution": {
     "iopub.execute_input": "2023-08-18T08:36:23.113213Z",
     "iopub.status.busy": "2023-08-18T08:36:23.113099Z",
     "iopub.status.idle": "2023-08-18T08:36:23.144588Z",
     "shell.execute_reply": "2023-08-18T08:36:23.144066Z",
     "shell.execute_reply.started": "2023-08-18T08:36:23.113198Z"
    },
    "id": "CYu_FwP1o6rq"
   },
   "outputs": [],
   "source": [
    "from knn import KNN, reproducibility, get_input_stats\n",
    "reproducibility(1000)"
   ]
  },
  {
   "cell_type": "markdown",
   "metadata": {
    "id": "MLw6hsHLa9rs"
   },
   "source": [
    "#Define model"
   ]
  },
  {
   "cell_type": "code",
   "execution_count": 19,
   "metadata": {
    "colab": {
     "base_uri": "https://localhost:8080/"
    },
    "execution": {
     "iopub.execute_input": "2023-08-18T08:36:23.145721Z",
     "iopub.status.busy": "2023-08-18T08:36:23.145555Z",
     "iopub.status.idle": "2023-08-18T08:36:26.500904Z",
     "shell.execute_reply": "2023-08-18T08:36:26.500213Z",
     "shell.execute_reply.started": "2023-08-18T08:36:23.145705Z"
    },
    "id": "J80S2t2naX9Y",
    "outputId": "6ed7f543-ca53-438e-a020-8e2f8a7efcb7"
   },
   "outputs": [],
   "source": [
    "from mmpretrain import get_model\n",
    "\n",
    "model = get_model('vit-small-p14_dinov2-pre_3rdparty', pretrained=False)\n",
    "model = model.to(DEVICE)"
   ]
  },
  {
   "cell_type": "markdown",
   "metadata": {
    "id": "8Pz8GFLvpBs6"
   },
   "source": [
    "#Data (cifar10 or cifar100)"
   ]
  },
  {
   "cell_type": "code",
   "execution_count": 20,
   "metadata": {
    "execution": {
     "iopub.execute_input": "2023-08-18T08:36:26.501829Z",
     "iopub.status.busy": "2023-08-18T08:36:26.501663Z",
     "iopub.status.idle": "2023-08-18T08:36:26.531035Z",
     "shell.execute_reply": "2023-08-18T08:36:26.530412Z",
     "shell.execute_reply.started": "2023-08-18T08:36:26.501813Z"
    },
    "id": "jkPE1GwCaD1L"
   },
   "outputs": [],
   "source": [
    "from lightly.transforms.dino_transform import DINOTransform"
   ]
  },
  {
   "cell_type": "code",
   "execution_count": 21,
   "metadata": {
    "colab": {
     "base_uri": "https://localhost:8080/"
    },
    "execution": {
     "iopub.execute_input": "2023-08-18T08:36:26.532083Z",
     "iopub.status.busy": "2023-08-18T08:36:26.531747Z",
     "iopub.status.idle": "2023-08-18T08:36:31.529803Z",
     "shell.execute_reply": "2023-08-18T08:36:31.528938Z",
     "shell.execute_reply.started": "2023-08-18T08:36:26.532065Z"
    },
    "id": "X-AHB_PdrlI_",
    "outputId": "037e1315-76fb-4bba-bafe-42ddf16cab89"
   },
   "outputs": [
    {
     "name": "stdout",
     "output_type": "stream",
     "text": [
      "Downloading https://www.cs.toronto.edu/~kriz/cifar-100-python.tar.gz to datasets/cifar_100/cifar-100-python.tar.gz\n"
     ]
    },
    {
     "data": {
      "application/vnd.jupyter.widget-view+json": {
       "model_id": "5c044ee854f74154ae0dc21a89f9c52f",
       "version_major": 2,
       "version_minor": 0
      },
      "text/plain": [
       "  0%|          | 0/169001437 [00:00<?, ?it/s]"
      ]
     },
     "metadata": {},
     "output_type": "display_data"
    },
    {
     "name": "stdout",
     "output_type": "stream",
     "text": [
      "Extracting datasets/cifar_100/cifar-100-python.tar.gz to datasets/cifar_100\n"
     ]
    }
   ],
   "source": [
    "transform = SimCLRTransform(input_size=32, gaussian_blur=0.0)\n",
    "if DATASET == 'CIFAR10':\n",
    "    cifar = torchvision.datasets.CIFAR10(\"datasets/cifar_10\", download=True)\n",
    "if DATASET == 'CIFAR100':\n",
    "    cifar = torchvision.datasets.CIFAR100(\"datasets/cifar_100\", download=True)\n",
    "    \n",
    "data_mean, data_std = get_input_stats(DATASET)\n",
    "normalize_dict = {'mean': data_mean, 'std': data_std}\n",
    "\n",
    "dataset = LightlyDataset.from_torch_dataset(cifar, transform=transform)\n",
    "\n",
    "dataloader = torch.utils.data.DataLoader(\n",
    "    dataset,\n",
    "    batch_size=128,\n",
    "    shuffle=True,\n",
    "    drop_last=True,\n",
    "    num_workers=2,\n",
    "    pin_memory=True\n",
    ")"
   ]
  },
  {
   "cell_type": "markdown",
   "metadata": {
    "id": "qt_x8uWapvpz"
   },
   "source": [
    "#Optimizer and Scheduler"
   ]
  },
  {
   "cell_type": "code",
   "execution_count": 22,
   "metadata": {
    "execution": {
     "iopub.execute_input": "2023-08-18T08:36:31.533275Z",
     "iopub.status.busy": "2023-08-18T08:36:31.532148Z",
     "iopub.status.idle": "2023-08-18T08:36:31.571781Z",
     "shell.execute_reply": "2023-08-18T08:36:31.571130Z",
     "shell.execute_reply.started": "2023-08-18T08:36:31.533251Z"
    },
    "id": "eolzz2Yjpsiy"
   },
   "outputs": [],
   "source": [
    "criterion = NTXentLoss()\n",
    "optimizer = torch.optim.Adam(model.parameters(), lr=4e-4)\n",
    "scheduler = torch.optim.lr_scheduler.ExponentialLR(optimizer,gamma=0.999)\n",
    "# scheduler = torch.optim.lr_scheduler.CyclicLR(optimizer,base_lr=0.001, max_lr=0.01)\n",
    "n_epochs, max_norm = 20, 0.1"
   ]
  },
  {
   "cell_type": "markdown",
   "metadata": {
    "id": "6mWUxvzNqMhL"
   },
   "source": [
    "#KNN and dataloaders for evaluation"
   ]
  },
  {
   "cell_type": "code",
   "execution_count": 23,
   "metadata": {
    "colab": {
     "base_uri": "https://localhost:8080/"
    },
    "execution": {
     "iopub.execute_input": "2023-08-18T08:36:31.575289Z",
     "iopub.status.busy": "2023-08-18T08:36:31.574588Z",
     "iopub.status.idle": "2023-08-18T08:36:33.238852Z",
     "shell.execute_reply": "2023-08-18T08:36:33.238404Z",
     "shell.execute_reply.started": "2023-08-18T08:36:31.575266Z"
    },
    "id": "-1MgDzsMqTv3",
    "outputId": "f32ac544-c55b-4e4f-df15-a4c30e351497"
   },
   "outputs": [
    {
     "name": "stdout",
     "output_type": "stream",
     "text": [
      "Files already downloaded and verified\n",
      "Files already downloaded and verified\n"
     ]
    }
   ],
   "source": [
    "from torchvision import transforms as T\n",
    "from torch.utils.data import DataLoader\n",
    "\n",
    "BATCH_SIZE = 32\n",
    "\n",
    "test_transform = T.Compose([\n",
    "            T.ToTensor(),\n",
    "            T.Normalize(mean=[0.485, 0.456, 0.406], std=[0.229, 0.224, 0.225]) ])\n",
    "\n",
    "def get_dataloader(batch_size, train=True, transform=test_transform):\n",
    "    if DATASET == 'CIFAR10':\n",
    "        cifar = torchvision.datasets.CIFAR10(\"datasets/cifar_10\",train=train, transform=transform,download=True)\n",
    "    if DATASET == 'CIFAR100':\n",
    "        cifar = torchvision.datasets.CIFAR100(\"datasets/cifar_100\",train=train,transform=transform, download=True)\n",
    "    return DataLoader(dataset=cifar, batch_size=batch_size, num_workers=4, drop_last=True)\n",
    "\n",
    "\n",
    "loader_train_plain = get_dataloader(batch_size=BATCH_SIZE, train=True, transform=test_transform)\n",
    "loader_test = get_dataloader(batch_size=BATCH_SIZE, train=False, transform=test_transform)"
   ]
  },
  {
   "cell_type": "markdown",
   "metadata": {
    "id": "m4XouXdG-L7Q"
   },
   "source": [
    "#Make directory for saving models & Training"
   ]
  },
  {
   "cell_type": "code",
   "execution_count": 24,
   "metadata": {
    "execution": {
     "iopub.execute_input": "2023-08-18T08:36:33.241129Z",
     "iopub.status.busy": "2023-08-18T08:36:33.240668Z",
     "iopub.status.idle": "2023-08-18T08:36:33.269702Z",
     "shell.execute_reply": "2023-08-18T08:36:33.269272Z",
     "shell.execute_reply.started": "2023-08-18T08:36:33.241108Z"
    },
    "id": "qurfgzmihYwF"
   },
   "outputs": [],
   "source": [
    "device = \"cuda\" if torch.cuda.is_available() else \"cpu\""
   ]
  },
  {
   "cell_type": "code",
   "execution_count": 25,
   "metadata": {
    "execution": {
     "iopub.execute_input": "2023-08-18T08:36:33.271892Z",
     "iopub.status.busy": "2023-08-18T08:36:33.271518Z",
     "iopub.status.idle": "2023-08-18T08:37:10.627503Z",
     "shell.execute_reply": "2023-08-18T08:37:10.626961Z",
     "shell.execute_reply.started": "2023-08-18T08:36:33.271874Z"
    }
   },
   "outputs": [
    {
     "name": "stdout",
     "output_type": "stream",
     "text": [
      "Evaluate on train data...\n",
      "Evaluate on test data...\n"
     ]
    },
    {
     "data": {
      "text/plain": [
       "7.6322901185445495"
      ]
     },
     "execution_count": 25,
     "metadata": {},
     "output_type": "execute_result"
    }
   ],
   "source": [
    "ssl_evaluator = KNN(model=model, k=1, device='cuda', transformer=True)\n",
    "train_acc, val_acc = ssl_evaluator.fit(loader_train_plain, loader_test)\n",
    "val_acc"
   ]
  },
  {
   "cell_type": "code",
   "execution_count": 26,
   "metadata": {
    "colab": {
     "base_uri": "https://localhost:8080/"
    },
    "execution": {
     "iopub.execute_input": "2023-08-18T08:37:10.630049Z",
     "iopub.status.busy": "2023-08-18T08:37:10.629740Z",
     "iopub.status.idle": "2023-08-18T08:46:51.563235Z",
     "shell.execute_reply": "2023-08-18T08:46:51.562488Z",
     "shell.execute_reply.started": "2023-08-18T08:37:10.630024Z"
    },
    "id": "yVQTGYZC-GRA",
    "outputId": "c98e1f41-9011-42a9-deec-2438b55895c3"
   },
   "outputs": [
    {
     "name": "stdout",
     "output_type": "stream",
     "text": [
      "Starting Training\n"
     ]
    },
    {
     "name": "stderr",
     "output_type": "stream",
     "text": [
      "  5%|▌         | 1/20 [00:28<08:59, 28.40s/it]"
     ]
    },
    {
     "name": "stdout",
     "output_type": "stream",
     "text": [
      " epoch: 00, loss: 5.19210\n"
     ]
    },
    {
     "name": "stderr",
     "output_type": "stream",
     "text": [
      " 10%|█         | 2/20 [00:57<08:39, 28.88s/it]"
     ]
    },
    {
     "name": "stdout",
     "output_type": "stream",
     "text": [
      " epoch: 01, loss: 4.97812\n"
     ]
    },
    {
     "name": "stderr",
     "output_type": "stream",
     "text": [
      " 15%|█▌        | 3/20 [01:26<08:12, 28.95s/it]"
     ]
    },
    {
     "name": "stdout",
     "output_type": "stream",
     "text": [
      " epoch: 02, loss: 4.90572\n"
     ]
    },
    {
     "name": "stderr",
     "output_type": "stream",
     "text": [
      " 20%|██        | 4/20 [01:56<07:46, 29.14s/it]"
     ]
    },
    {
     "name": "stdout",
     "output_type": "stream",
     "text": [
      " epoch: 03, loss: 4.85625\n"
     ]
    },
    {
     "name": "stderr",
     "output_type": "stream",
     "text": [
      " 25%|██▌       | 5/20 [02:25<07:19, 29.27s/it]"
     ]
    },
    {
     "name": "stdout",
     "output_type": "stream",
     "text": [
      " epoch: 04, loss: 4.82940\n"
     ]
    },
    {
     "name": "stderr",
     "output_type": "stream",
     "text": [
      " 30%|███       | 6/20 [02:54<06:48, 29.21s/it]"
     ]
    },
    {
     "name": "stdout",
     "output_type": "stream",
     "text": [
      " epoch: 05, loss: 4.79726\n"
     ]
    },
    {
     "name": "stderr",
     "output_type": "stream",
     "text": [
      " 35%|███▌      | 7/20 [03:24<06:20, 29.27s/it]"
     ]
    },
    {
     "name": "stdout",
     "output_type": "stream",
     "text": [
      " epoch: 06, loss: 4.77958\n"
     ]
    },
    {
     "name": "stderr",
     "output_type": "stream",
     "text": [
      " 40%|████      | 8/20 [03:53<05:50, 29.24s/it]"
     ]
    },
    {
     "name": "stdout",
     "output_type": "stream",
     "text": [
      " epoch: 07, loss: 4.76120\n"
     ]
    },
    {
     "name": "stderr",
     "output_type": "stream",
     "text": [
      " 45%|████▌     | 9/20 [04:21<05:19, 29.07s/it]"
     ]
    },
    {
     "name": "stdout",
     "output_type": "stream",
     "text": [
      " epoch: 08, loss: 4.73555\n"
     ]
    },
    {
     "name": "stderr",
     "output_type": "stream",
     "text": [
      " 50%|█████     | 10/20 [04:50<04:50, 29.06s/it]"
     ]
    },
    {
     "name": "stdout",
     "output_type": "stream",
     "text": [
      " epoch: 09, loss: 4.72659\n"
     ]
    },
    {
     "name": "stderr",
     "output_type": "stream",
     "text": [
      " 55%|█████▌    | 11/20 [05:19<04:20, 28.99s/it]"
     ]
    },
    {
     "name": "stdout",
     "output_type": "stream",
     "text": [
      " epoch: 10, loss: 4.71542\n"
     ]
    },
    {
     "name": "stderr",
     "output_type": "stream",
     "text": [
      " 60%|██████    | 12/20 [05:49<03:52, 29.07s/it]"
     ]
    },
    {
     "name": "stdout",
     "output_type": "stream",
     "text": [
      " epoch: 11, loss: 4.70174\n"
     ]
    },
    {
     "name": "stderr",
     "output_type": "stream",
     "text": [
      " 65%|██████▌   | 13/20 [06:18<03:23, 29.09s/it]"
     ]
    },
    {
     "name": "stdout",
     "output_type": "stream",
     "text": [
      " epoch: 12, loss: 4.69662\n"
     ]
    },
    {
     "name": "stderr",
     "output_type": "stream",
     "text": [
      " 70%|███████   | 14/20 [06:47<02:54, 29.03s/it]"
     ]
    },
    {
     "name": "stdout",
     "output_type": "stream",
     "text": [
      " epoch: 13, loss: 4.68403\n"
     ]
    },
    {
     "name": "stderr",
     "output_type": "stream",
     "text": [
      " 75%|███████▌  | 15/20 [07:15<02:24, 28.93s/it]"
     ]
    },
    {
     "name": "stdout",
     "output_type": "stream",
     "text": [
      " epoch: 14, loss: 4.67510\n"
     ]
    },
    {
     "name": "stderr",
     "output_type": "stream",
     "text": [
      " 80%|████████  | 16/20 [07:45<01:56, 29.06s/it]"
     ]
    },
    {
     "name": "stdout",
     "output_type": "stream",
     "text": [
      " epoch: 15, loss: 4.66587\n"
     ]
    },
    {
     "name": "stderr",
     "output_type": "stream",
     "text": [
      " 85%|████████▌ | 17/20 [08:14<01:27, 29.00s/it]"
     ]
    },
    {
     "name": "stdout",
     "output_type": "stream",
     "text": [
      " epoch: 16, loss: 4.65623\n"
     ]
    },
    {
     "name": "stderr",
     "output_type": "stream",
     "text": [
      " 90%|█████████ | 18/20 [08:43<00:58, 29.12s/it]"
     ]
    },
    {
     "name": "stdout",
     "output_type": "stream",
     "text": [
      " epoch: 17, loss: 4.64905\n"
     ]
    },
    {
     "name": "stderr",
     "output_type": "stream",
     "text": [
      " 95%|█████████▌| 19/20 [09:12<00:29, 29.01s/it]"
     ]
    },
    {
     "name": "stdout",
     "output_type": "stream",
     "text": [
      " epoch: 18, loss: 4.63907\n"
     ]
    },
    {
     "name": "stderr",
     "output_type": "stream",
     "text": [
      "100%|██████████| 20/20 [09:40<00:00, 29.04s/it]"
     ]
    },
    {
     "name": "stdout",
     "output_type": "stream",
     "text": [
      " epoch: 19, loss: 4.62879\n"
     ]
    },
    {
     "name": "stderr",
     "output_type": "stream",
     "text": [
      "\n"
     ]
    }
   ],
   "source": [
    "best_val_acc = 0\n",
    "\n",
    "print(\"Starting Training\")\n",
    "for epoch in tqdm(range(N_EPOCHS)):\n",
    "    total_loss = 0\n",
    "    for batch in dataloader:\n",
    "        x0, x1 = batch[0]\n",
    "        x0 = x0.to(device)\n",
    "        x1 = x1.to(device)\n",
    "        z0 = model.extract_feat(x0)[0]\n",
    "        z1 = model.extract_feat(x1)[0]\n",
    "        loss = criterion(z0, z1)\n",
    "        total_loss += loss.detach()\n",
    "        loss.backward()\n",
    "        optimizer.step()\n",
    "        optimizer.zero_grad()\n",
    "    scheduler.step()\n",
    "    avg_loss = total_loss / len(dataloader)\n",
    "    print(f\" epoch: {epoch:>02}, loss: {avg_loss:.5f}\")\n",
    "    # if epoch % 10 == 0:\n",
    "    #     ssl_evaluator = KNN(model=model, k=1, device='cuda', transformer=True)\n",
    "    #     train_acc, val_acc = ssl_evaluator.fit(loader_train_plain, loader_test)\n",
    "    #     if val_acc > best_val_acc:\n",
    "    #         torch.save(model.state_dict(),f'dino_{DATASET}_acc{val_acc:.2f}.pt')\n",
    "    #         best_val_acc = val_acc\n",
    "    #     print(f' Train Accuracy:{train_acc:.1f}%',f' Val Accuracy:{val_acc:.1f}%')"
   ]
  },
  {
   "cell_type": "code",
   "execution_count": 27,
   "metadata": {
    "colab": {
     "base_uri": "https://localhost:8080/"
    },
    "execution": {
     "iopub.execute_input": "2023-08-18T08:46:51.565948Z",
     "iopub.status.busy": "2023-08-18T08:46:51.565801Z",
     "iopub.status.idle": "2023-08-18T08:47:27.309648Z",
     "shell.execute_reply": "2023-08-18T08:47:27.307595Z",
     "shell.execute_reply.started": "2023-08-18T08:46:51.565928Z"
    },
    "id": "w-NUb_4LCR4K",
    "outputId": "418b9a69-a8e6-4afa-a755-5343ff5f3226"
   },
   "outputs": [
    {
     "name": "stdout",
     "output_type": "stream",
     "text": [
      "Evaluate on train data...\n",
      "Evaluate on test data...\n",
      "13.274241175914197 9.785730700258805\n"
     ]
    }
   ],
   "source": [
    "ssl_evaluator = KNN(model=model, k=1, device='cuda', transformer=True)\n",
    "train_acc, val_acc = ssl_evaluator.fit(loader_train_plain, loader_test)\n",
    "print(train_acc, val_acc)"
   ]
  },
  {
   "cell_type": "markdown",
   "metadata": {
    "id": "76Ol8vO7CYdq"
   },
   "source": [
    "#Visual evaluation"
   ]
  },
  {
   "cell_type": "markdown",
   "metadata": {
    "id": "13v4MkndDDBe"
   },
   "source": [
    "#Save backbone model"
   ]
  },
  {
   "cell_type": "code",
   "execution_count": 28,
   "metadata": {
    "execution": {
     "iopub.execute_input": "2023-08-18T08:47:27.314496Z",
     "iopub.status.busy": "2023-08-18T08:47:27.313167Z",
     "iopub.status.idle": "2023-08-18T08:47:27.451841Z",
     "shell.execute_reply": "2023-08-18T08:47:27.451155Z",
     "shell.execute_reply.started": "2023-08-18T08:47:27.314474Z"
    },
    "id": "NCMzWTgzC9iu"
   },
   "outputs": [],
   "source": [
    "backbone = model.backbone\n",
    "torch.save(backbone.state_dict(), f'dino_{DATASET}_acc{val_acc:.2f}_epoch{N_EPOCHS}.pt')"
   ]
  }
 ],
 "metadata": {
  "accelerator": "GPU",
  "colab": {
   "gpuType": "T4",
   "provenance": [],
   "toc_visible": true
  },
  "kernelspec": {
   "display_name": "Python 3 (ipykernel)",
   "language": "python",
   "name": "python3"
  },
  "language_info": {
   "codemirror_mode": {
    "name": "ipython",
    "version": 3
   },
   "file_extension": ".py",
   "mimetype": "text/x-python",
   "name": "python",
   "nbconvert_exporter": "python",
   "pygments_lexer": "ipython3",
   "version": "3.9.16"
  }
 },
 "nbformat": 4,
 "nbformat_minor": 4
}
