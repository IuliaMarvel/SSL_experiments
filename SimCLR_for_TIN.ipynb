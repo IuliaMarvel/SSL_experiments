{
 "cells": [
  {
   "cell_type": "markdown",
   "metadata": {
    "id": "OSRpwcmEa5l2"
   },
   "source": [
    "#Necessary imports"
   ]
  },
  {
   "cell_type": "code",
   "execution_count": 1,
   "metadata": {
    "execution": {
     "iopub.execute_input": "2023-08-17T12:40:27.870027Z",
     "iopub.status.busy": "2023-08-17T12:40:27.869227Z",
     "iopub.status.idle": "2023-08-17T12:40:27.886653Z",
     "shell.execute_reply": "2023-08-17T12:40:27.886076Z",
     "shell.execute_reply.started": "2023-08-17T12:40:27.870003Z"
    }
   },
   "outputs": [],
   "source": [
    "%load_ext autoreload\n",
    "%autoreload 2"
   ]
  },
  {
   "cell_type": "code",
   "execution_count": 2,
   "metadata": {
    "execution": {
     "iopub.execute_input": "2023-08-17T12:40:27.887931Z",
     "iopub.status.busy": "2023-08-17T12:40:27.887740Z",
     "iopub.status.idle": "2023-08-17T12:40:30.966272Z",
     "shell.execute_reply": "2023-08-17T12:40:30.965412Z",
     "shell.execute_reply.started": "2023-08-17T12:40:27.887914Z"
    }
   },
   "outputs": [
    {
     "name": "stdout",
     "output_type": "stream",
     "text": [
      "\u001b[33mWARNING: Running pip as the 'root' user can result in broken permissions and conflicting behaviour with the system package manager. It is recommended to use a virtual environment instead: https://pip.pypa.io/warnings/venv\u001b[0m\u001b[33m\n",
      "\u001b[0m"
     ]
    }
   ],
   "source": [
    "!pip install wandb -Uq"
   ]
  },
  {
   "cell_type": "code",
   "execution_count": 3,
   "metadata": {
    "execution": {
     "iopub.execute_input": "2023-08-17T12:40:30.967612Z",
     "iopub.status.busy": "2023-08-17T12:40:30.967439Z",
     "iopub.status.idle": "2023-08-17T12:40:33.133342Z",
     "shell.execute_reply": "2023-08-17T12:40:33.132622Z",
     "shell.execute_reply.started": "2023-08-17T12:40:30.967595Z"
    }
   },
   "outputs": [
    {
     "name": "stderr",
     "output_type": "stream",
     "text": [
      "\u001b[34m\u001b[1mwandb\u001b[0m: Currently logged in as: \u001b[33mivanova3581321\u001b[0m. Use \u001b[1m`wandb login --relogin`\u001b[0m to force relogin\n"
     ]
    },
    {
     "data": {
      "text/plain": [
       "True"
      ]
     },
     "execution_count": 3,
     "metadata": {},
     "output_type": "execute_result"
    }
   ],
   "source": [
    "import wandb\n",
    "\n",
    "wandb.login()"
   ]
  },
  {
   "cell_type": "code",
   "execution_count": 4,
   "metadata": {
    "execution": {
     "iopub.execute_input": "2023-08-17T12:40:33.135729Z",
     "iopub.status.busy": "2023-08-17T12:40:33.135412Z",
     "iopub.status.idle": "2023-08-17T12:40:33.154787Z",
     "shell.execute_reply": "2023-08-17T12:40:33.154077Z",
     "shell.execute_reply.started": "2023-08-17T12:40:33.135705Z"
    },
    "id": "qX9vHI95Zgli"
   },
   "outputs": [],
   "source": [
    "import warnings\n",
    "warnings.filterwarnings(\"ignore\")"
   ]
  },
  {
   "cell_type": "code",
   "execution_count": 5,
   "metadata": {
    "execution": {
     "iopub.execute_input": "2023-08-17T12:40:33.156010Z",
     "iopub.status.busy": "2023-08-17T12:40:33.155797Z",
     "iopub.status.idle": "2023-08-17T12:40:35.879460Z",
     "shell.execute_reply": "2023-08-17T12:40:35.878688Z",
     "shell.execute_reply.started": "2023-08-17T12:40:33.155986Z"
    },
    "id": "HS8-QCmDWIXN"
   },
   "outputs": [
    {
     "name": "stdout",
     "output_type": "stream",
     "text": [
      "\u001b[33mWARNING: Running pip as the 'root' user can result in broken permissions and conflicting behaviour with the system package manager. It is recommended to use a virtual environment instead: https://pip.pypa.io/warnings/venv\u001b[0m\u001b[33m\n",
      "\u001b[0m"
     ]
    }
   ],
   "source": [
    "!pip install -q lightly"
   ]
  },
  {
   "cell_type": "code",
   "execution_count": 6,
   "metadata": {
    "execution": {
     "iopub.execute_input": "2023-08-17T12:40:35.880873Z",
     "iopub.status.busy": "2023-08-17T12:40:35.880647Z",
     "iopub.status.idle": "2023-08-17T12:40:35.901166Z",
     "shell.execute_reply": "2023-08-17T12:40:35.900516Z",
     "shell.execute_reply.started": "2023-08-17T12:40:35.880853Z"
    },
    "id": "gykRpPG75N2m"
   },
   "outputs": [],
   "source": [
    "N_EPOCHS = 20"
   ]
  },
  {
   "cell_type": "code",
   "execution_count": 7,
   "metadata": {
    "execution": {
     "iopub.execute_input": "2023-08-17T12:40:35.902629Z",
     "iopub.status.busy": "2023-08-17T12:40:35.902441Z",
     "iopub.status.idle": "2023-08-17T12:40:39.430010Z",
     "shell.execute_reply": "2023-08-17T12:40:39.429302Z",
     "shell.execute_reply.started": "2023-08-17T12:40:35.902613Z"
    },
    "id": "ui1LUgCFZhlA"
   },
   "outputs": [],
   "source": [
    "import numpy as np\n",
    "import pandas as pd\n",
    "import copy\n",
    "import torch\n",
    "from torch import nn\n",
    "import matplotlib.pyplot as plt\n",
    "from PIL import Image\n",
    "\n",
    "from tqdm import tqdm\n",
    "\n",
    "import torch\n",
    "import torchvision\n",
    "\n",
    "from torch import nn\n",
    "from torchvision import transforms\n",
    "\n",
    "from lightly.loss import NTXentLoss\n",
    "from lightly.models.modules import SimCLRProjectionHead\n",
    "from lightly.transforms.simclr_transform import SimCLRTransform\n",
    "\n",
    "\n",
    "from lightly.data import LightlyDataset\n",
    "from sklearn.neighbors import NearestNeighbors\n",
    "from sklearn.preprocessing import normalize"
   ]
  },
  {
   "cell_type": "code",
   "execution_count": 8,
   "metadata": {
    "execution": {
     "iopub.execute_input": "2023-08-17T12:40:39.431212Z",
     "iopub.status.busy": "2023-08-17T12:40:39.430903Z",
     "iopub.status.idle": "2023-08-17T12:40:39.485583Z",
     "shell.execute_reply": "2023-08-17T12:40:39.485037Z",
     "shell.execute_reply.started": "2023-08-17T12:40:39.431194Z"
    },
    "id": "CYu_FwP1o6rq"
   },
   "outputs": [],
   "source": [
    "from knn import KNN, reproducibility\n",
    "\n",
    "reproducibility(42)"
   ]
  },
  {
   "cell_type": "markdown",
   "metadata": {
    "id": "MLw6hsHLa9rs"
   },
   "source": [
    "#Define model"
   ]
  },
  {
   "cell_type": "code",
   "execution_count": 9,
   "metadata": {
    "execution": {
     "iopub.execute_input": "2023-08-17T12:40:39.486514Z",
     "iopub.status.busy": "2023-08-17T12:40:39.486342Z",
     "iopub.status.idle": "2023-08-17T12:40:39.517657Z",
     "shell.execute_reply": "2023-08-17T12:40:39.517142Z",
     "shell.execute_reply.started": "2023-08-17T12:40:39.486498Z"
    },
    "id": "zS4ZeVvjozob"
   },
   "outputs": [],
   "source": [
    "class SimCLR(nn.Module):\n",
    "    def __init__(self, backbone):\n",
    "        super().__init__()\n",
    "        self.backbone = backbone\n",
    "        self.projection_head = SimCLRProjectionHead(512, 512, 128)\n",
    "\n",
    "    def forward(self, x):\n",
    "        x = self.backbone(x).flatten(start_dim=1)\n",
    "        z = self.projection_head(x)\n",
    "        return z"
   ]
  },
  {
   "cell_type": "code",
   "execution_count": 10,
   "metadata": {
    "colab": {
     "base_uri": "https://localhost:8080/"
    },
    "execution": {
     "iopub.execute_input": "2023-08-17T12:40:39.519780Z",
     "iopub.status.busy": "2023-08-17T12:40:39.519606Z",
     "iopub.status.idle": "2023-08-17T12:40:40.998719Z",
     "shell.execute_reply": "2023-08-17T12:40:40.997911Z",
     "shell.execute_reply.started": "2023-08-17T12:40:39.519764Z"
    },
    "id": "YvU6Z1jM6G6D",
    "outputId": "35a1d686-8d19-49e7-da15-a24a0445320a"
   },
   "outputs": [
    {
     "name": "stdout",
     "output_type": "stream",
     "text": [
      "\n"
     ]
    }
   ],
   "source": [
    "resnet = torchvision.models.resnet18()\n",
    "backbone = nn.Sequential(*list(resnet.children())[:-1])\n",
    "model = SimCLR(backbone)\n",
    "\n",
    "device = \"cuda\" if torch.cuda.is_available() else \"cpu\"\n",
    "model.to(device)\n",
    "print()"
   ]
  },
  {
   "cell_type": "markdown",
   "metadata": {
    "id": "8Pz8GFLvpBs6"
   },
   "source": [
    "#Data (TinyImageNet)"
   ]
  },
  {
   "cell_type": "code",
   "execution_count": 11,
   "metadata": {
    "execution": {
     "iopub.execute_input": "2023-08-17T12:40:40.999765Z",
     "iopub.status.busy": "2023-08-17T12:40:40.999568Z",
     "iopub.status.idle": "2023-08-17T12:40:41.033509Z",
     "shell.execute_reply": "2023-08-17T12:40:41.032717Z",
     "shell.execute_reply.started": "2023-08-17T12:40:40.999745Z"
    },
    "id": "mPjZIW-JpBL4"
   },
   "outputs": [],
   "source": [
    "def get_input_stats():\n",
    "    data_mean = (0.4802, 0.4481, 0.3975)\n",
    "    data_std = (0.2770, 0.2691, 0.2821)\n",
    "\n",
    "    return data_mean, data_std"
   ]
  },
  {
   "cell_type": "code",
   "execution_count": 12,
   "metadata": {
    "execution": {
     "iopub.execute_input": "2023-08-17T12:40:41.034483Z",
     "iopub.status.busy": "2023-08-17T12:40:41.034350Z",
     "iopub.status.idle": "2023-08-17T12:40:47.259196Z",
     "shell.execute_reply": "2023-08-17T12:40:47.258695Z",
     "shell.execute_reply.started": "2023-08-17T12:40:41.034482Z"
    },
    "id": "VTmA4eCFpSRT"
   },
   "outputs": [],
   "source": [
    "from torchvision import transforms as T\n",
    "from torchvision import datasets\n",
    "\n",
    "test_transform = T.Compose([\n",
    "            T.ToTensor(),\n",
    "            T.Normalize(mean=[0.485, 0.456, 0.406], std=[0.229, 0.224, 0.225]) ])\n",
    "\n",
    "tin_data_val = datasets.ImageFolder(root='datasets/tiny-imagenet-200/val',\n",
    "                                    transform=test_transform)\n",
    "tin_loader_val = torch.utils.data.DataLoader(tin_data_val,batch_size=32, drop_last=True)\n",
    "tin_data_train = datasets.ImageFolder(root='datasets/tiny-imagenet-200/train',\n",
    "                                    transform=test_transform)\n",
    "tin_loader_train = torch.utils.data.DataLoader(tin_data_train,batch_size=32, drop_last=True)"
   ]
  },
  {
   "cell_type": "code",
   "execution_count": 13,
   "metadata": {
    "execution": {
     "iopub.execute_input": "2023-08-17T12:40:47.260416Z",
     "iopub.status.busy": "2023-08-17T12:40:47.260003Z",
     "iopub.status.idle": "2023-08-17T12:40:47.293976Z",
     "shell.execute_reply": "2023-08-17T12:40:47.293477Z",
     "shell.execute_reply.started": "2023-08-17T12:40:47.260398Z"
    },
    "id": "X-AHB_PdrlI_"
   },
   "outputs": [],
   "source": [
    "transform = SimCLRTransform(input_size=32, gaussian_blur=0.0)\n",
    "# transform = transforms.ToTensor()\n",
    "data_mean, data_std = get_input_stats()\n",
    "normalize_dict = {'mean': data_mean, 'std': data_std}\n",
    "\n",
    "dataset = LightlyDataset.from_torch_dataset(tin_data_train, transform=transform)\n",
    "\n",
    "dataloader = torch.utils.data.DataLoader(\n",
    "    dataset,\n",
    "    batch_size=128,\n",
    "    shuffle=True,\n",
    "    drop_last=True,\n",
    "    num_workers=2,\n",
    "    pin_memory=True\n",
    ")"
   ]
  },
  {
   "cell_type": "markdown",
   "metadata": {
    "id": "qt_x8uWapvpz"
   },
   "source": [
    "#Optimizer and Scheduler"
   ]
  },
  {
   "cell_type": "code",
   "execution_count": 14,
   "metadata": {
    "execution": {
     "iopub.execute_input": "2023-08-17T12:40:47.295683Z",
     "iopub.status.busy": "2023-08-17T12:40:47.295270Z",
     "iopub.status.idle": "2023-08-17T12:40:47.326904Z",
     "shell.execute_reply": "2023-08-17T12:40:47.326433Z",
     "shell.execute_reply.started": "2023-08-17T12:40:47.295662Z"
    },
    "id": "eolzz2Yjpsiy"
   },
   "outputs": [],
   "source": [
    "criterion = NTXentLoss()\n",
    "optimizer = torch.optim.SGD(model.parameters(), lr=0.06)\n",
    "# scheduler = torch.optim.lr_scheduler.ExponentialLR(optimizer,gamma=0.95)\n",
    "# scheduler = torch.optim.lr_scheduler.CyclicLR(optimizer,base_lr=0.06, max_lr=0.1)"
   ]
  },
  {
   "cell_type": "markdown",
   "metadata": {
    "id": "6mWUxvzNqMhL"
   },
   "source": [
    "#KNN and dataloaders for evaluation"
   ]
  },
  {
   "cell_type": "code",
   "execution_count": 15,
   "metadata": {
    "execution": {
     "iopub.execute_input": "2023-08-17T12:40:47.328158Z",
     "iopub.status.busy": "2023-08-17T12:40:47.327691Z",
     "iopub.status.idle": "2023-08-17T12:40:47.360217Z",
     "shell.execute_reply": "2023-08-17T12:40:47.359733Z",
     "shell.execute_reply.started": "2023-08-17T12:40:47.328138Z"
    },
    "id": "-1MgDzsMqTv3"
   },
   "outputs": [],
   "source": [
    "from torchvision import transforms as T\n",
    "from torch.utils.data import DataLoader\n",
    "from sklearn.model_selection import train_test_split\n",
    "\n",
    "BATCH_SIZE = 32\n",
    "\n",
    "test_transform = T.Compose([\n",
    "            T.ToTensor(),\n",
    "            T.Normalize(mean=[0.485, 0.456, 0.406], std=[0.229, 0.224, 0.225]) ])\n",
    "\n",
    "# def get_loaders( batch_size, transform=test_transform,data_path='./'):\n",
    "#     dst_train = datasets.ImageFolder(root=os.path.join(data_path, 'tiny-imagenet-200/train'), transform=test_transform)\n",
    "#     dst_test = datasets.ImageFolder(root=os.path.join(data_path, 'tiny-imagenet-200/test'), transform=test_transform)\n",
    "#     train_loader = DataLoader(dataset=dst_train, batch_size=batch_size, num_workers=1, drop_last=True)\n",
    "#     test_loader = DataLoader(dataset=dst_test, batch_size=batch_size, num_workers=1, drop_last=True)\n",
    "#     return train_loader, test_loader\n",
    "\n",
    "# train_loader, test_loader = get_loaders(batch_size=BATCH_SIZE)"
   ]
  },
  {
   "cell_type": "markdown",
   "metadata": {
    "id": "m4XouXdG-L7Q"
   },
   "source": [
    "#Make directory for saving models"
   ]
  },
  {
   "cell_type": "code",
   "execution_count": 16,
   "metadata": {
    "execution": {
     "iopub.execute_input": "2023-08-17T12:40:47.361397Z",
     "iopub.status.busy": "2023-08-17T12:40:47.361005Z",
     "iopub.status.idle": "2023-08-17T12:40:47.394574Z",
     "shell.execute_reply": "2023-08-17T12:40:47.393952Z",
     "shell.execute_reply.started": "2023-08-17T12:40:47.361381Z"
    }
   },
   "outputs": [],
   "source": [
    "config = dict(\n",
    "    epochs=20,\n",
    "    classes=200,\n",
    "    learning_rate=0.006,\n",
    "    dataset=\"TinyImageNet\",\n",
    "    model=\"SimCLR\")"
   ]
  },
  {
   "cell_type": "code",
   "execution_count": 17,
   "metadata": {
    "execution": {
     "iopub.execute_input": "2023-08-17T12:40:47.396333Z",
     "iopub.status.busy": "2023-08-17T12:40:47.395742Z",
     "iopub.status.idle": "2023-08-17T12:40:49.113093Z",
     "shell.execute_reply": "2023-08-17T12:40:49.108852Z",
     "shell.execute_reply.started": "2023-08-17T12:40:47.396313Z"
    }
   },
   "outputs": [
    {
     "data": {
      "text/html": [
       "Tracking run with wandb version 0.15.8"
      ],
      "text/plain": [
       "<IPython.core.display.HTML object>"
      ]
     },
     "metadata": {},
     "output_type": "display_data"
    },
    {
     "data": {
      "text/html": [
       "Run data is saved locally in <code>/notebooks/wandb/run-20230817_124047-43xp8tn9</code>"
      ],
      "text/plain": [
       "<IPython.core.display.HTML object>"
      ]
     },
     "metadata": {},
     "output_type": "display_data"
    },
    {
     "data": {
      "text/html": [
       "Syncing run <strong><a href='https://wandb.ai/ivanova3581321/SCLR_TIN_20epochs/runs/43xp8tn9' target=\"_blank\">warm-frog-1</a></strong> to <a href='https://wandb.ai/ivanova3581321/SCLR_TIN_20epochs' target=\"_blank\">Weights & Biases</a> (<a href='https://wandb.me/run' target=\"_blank\">docs</a>)<br/>"
      ],
      "text/plain": [
       "<IPython.core.display.HTML object>"
      ]
     },
     "metadata": {},
     "output_type": "display_data"
    },
    {
     "data": {
      "text/html": [
       " View project at <a href='https://wandb.ai/ivanova3581321/SCLR_TIN_20epochs' target=\"_blank\">https://wandb.ai/ivanova3581321/SCLR_TIN_20epochs</a>"
      ],
      "text/plain": [
       "<IPython.core.display.HTML object>"
      ]
     },
     "metadata": {},
     "output_type": "display_data"
    },
    {
     "data": {
      "text/html": [
       " View run at <a href='https://wandb.ai/ivanova3581321/SCLR_TIN_20epochs/runs/43xp8tn9' target=\"_blank\">https://wandb.ai/ivanova3581321/SCLR_TIN_20epochs/runs/43xp8tn9</a>"
      ],
      "text/plain": [
       "<IPython.core.display.HTML object>"
      ]
     },
     "metadata": {},
     "output_type": "display_data"
    },
    {
     "data": {
      "text/html": [
       "<button onClick=\"this.nextSibling.style.display='block';this.style.display='none';\">Display W&B run</button><iframe src='https://wandb.ai/ivanova3581321/SCLR_TIN_20epochs/runs/43xp8tn9?jupyter=true' style='border:none;width:100%;height:420px;display:none;'></iframe>"
      ],
      "text/plain": [
       "<wandb.sdk.wandb_run.Run at 0x7fa021354f70>"
      ]
     },
     "execution_count": 17,
     "metadata": {},
     "output_type": "execute_result"
    }
   ],
   "source": [
    "wandb.init(project=\"SCLR_TIN_20epochs\", config=config)"
   ]
  },
  {
   "cell_type": "code",
   "execution_count": 18,
   "metadata": {
    "execution": {
     "iopub.execute_input": "2023-08-17T12:40:49.115990Z",
     "iopub.status.busy": "2023-08-17T12:40:49.114785Z",
     "iopub.status.idle": "2023-08-17T12:50:06.335321Z",
     "shell.execute_reply": "2023-08-17T12:50:06.334533Z",
     "shell.execute_reply.started": "2023-08-17T12:40:49.115920Z"
    }
   },
   "outputs": [
    {
     "name": "stdout",
     "output_type": "stream",
     "text": [
      "Evaluate on train data...\n",
      "Evaluate on test data...\n",
      "2.311 1.6225891944128619\n"
     ]
    }
   ],
   "source": [
    "tin_data_val = datasets.ImageFolder(root='datasets/tiny-imagenet-200/val',\n",
    "                                    transform=test_transform)\n",
    "tin_loader_val = torch.utils.data.DataLoader(tin_data_val,batch_size=32, drop_last=True)\n",
    "tin_data_train = datasets.ImageFolder(root='datasets/tiny-imagenet-200/train',\n",
    "                                    transform=test_transform)\n",
    "tin_loader_train = torch.utils.data.DataLoader(tin_data_train,batch_size=32, drop_last=True)\n",
    "ssl_evaluator = KNN(model=model, k=1, device='cuda')\n",
    "train_acc, val_acc = ssl_evaluator.fit(tin_loader_train, tin_loader_val)\n",
    "print(train_acc, val_acc)"
   ]
  },
  {
   "cell_type": "code",
   "execution_count": null,
   "metadata": {
    "execution": {
     "iopub.execute_input": "2023-08-17T12:50:06.336488Z",
     "iopub.status.busy": "2023-08-17T12:50:06.336290Z"
    },
    "id": "yVQTGYZC-GRA"
   },
   "outputs": [
    {
     "name": "stdout",
     "output_type": "stream",
     "text": [
      "Starting Training\n"
     ]
    },
    {
     "name": "stderr",
     "output_type": "stream",
     "text": [
      "  5%|▌         | 1/20 [05:36<1:46:31, 336.41s/it]"
     ]
    },
    {
     "name": "stdout",
     "output_type": "stream",
     "text": [
      "\n",
      " epoch: 00, loss: 5.53936\n"
     ]
    }
   ],
   "source": [
    "model.to(device)\n",
    "optimizer = torch.optim.SGD(model.parameters(), lr=0.06)\n",
    "scheduler = torch.optim.lr_scheduler.CyclicLR(optimizer,base_lr=0.06, max_lr=0.1)\n",
    "\n",
    "best_val_acc = 1.68\n",
    "print(\"Starting Training\")\n",
    "for epoch in tqdm(range(N_EPOCHS)):\n",
    "    total_loss = 0\n",
    "    for index,batch in enumerate(dataloader):\n",
    "        x0, x1 = batch[0]\n",
    "        x0 = x0.to(device)\n",
    "        x1 = x1.to(device)\n",
    "        z0 = model(x0)\n",
    "        z1 = model(x1)\n",
    "        loss = criterion(z0, z1)\n",
    "        total_loss += loss.detach()\n",
    "        loss.backward()\n",
    "        optimizer.step()\n",
    "        optimizer.zero_grad()\n",
    "        scheduler.step()\n",
    "        # scheduler.step()\n",
    "    avg_loss = total_loss / len(dataloader)\n",
    "    print(f\"\\n epoch: {epoch:>02}, loss: {avg_loss:.5f}\")\n",
    "    wandb.log({'epoch': epoch, 'loss': avg_loss})\n",
    "    # if epoch % 10 == 0:\n",
    "    #     ssl_evaluator = KNN(model=model, k=1, device='cuda')\n",
    "    #     train_acc, _ = ssl_evaluator.fit(tin_loader_train, tin_loader_val)\n",
    "    #     if train_acc > best_val_acc:\n",
    "    #         torch.save(model.state_dict(),f'SimCLR_{val_acc:.2f}_TIN.pt')\n",
    "    #         best_val_acc = train_acc\n",
    "    #     print(f'\\n Train Accuracy:{train_acc:.1f}%')#,f' Val Accuracy:{val_acc:.1f}%')"
   ]
  },
  {
   "cell_type": "markdown",
   "metadata": {
    "id": "D7ET-5mTCNPK"
   },
   "source": [
    "#Load best model we have got"
   ]
  },
  {
   "cell_type": "code",
   "execution_count": null,
   "metadata": {},
   "outputs": [],
   "source": [
    "epoch"
   ]
  },
  {
   "cell_type": "code",
   "execution_count": null,
   "metadata": {
    "id": "w-NUb_4LCR4K"
   },
   "outputs": [],
   "source": [
    "print('Start evaluating')\n",
    "ssl_evaluator = KNN(model=model, k=1, device='cuda')\n",
    "train_acc, val_acc = ssl_evaluator.fit(tin_loader_train, tin_loader_val)\n",
    "print(train_acc, val_acc)"
   ]
  },
  {
   "cell_type": "markdown",
   "metadata": {
    "id": "76Ol8vO7CYdq"
   },
   "source": [
    "#Visual evaluation"
   ]
  },
  {
   "cell_type": "markdown",
   "metadata": {
    "id": "13v4MkndDDBe"
   },
   "source": [
    "#Save backbone model"
   ]
  },
  {
   "cell_type": "code",
   "execution_count": null,
   "metadata": {
    "id": "NCMzWTgzC9iu",
    "tags": []
   },
   "outputs": [],
   "source": [
    "backbone = model.backbone\n",
    "torch.save(backbone.state_dict(), f'SimCLR_TIN_acc{val_acc:.2f}_epoch{N_EPOCHS}.pt')"
   ]
  }
 ],
 "metadata": {
  "accelerator": "GPU",
  "colab": {
   "gpuType": "T4",
   "provenance": []
  },
  "kernelspec": {
   "display_name": "Python 3 (ipykernel)",
   "language": "python",
   "name": "python3"
  },
  "language_info": {
   "codemirror_mode": {
    "name": "ipython",
    "version": 3
   },
   "file_extension": ".py",
   "mimetype": "text/x-python",
   "name": "python",
   "nbconvert_exporter": "python",
   "pygments_lexer": "ipython3",
   "version": "3.9.16"
  }
 },
 "nbformat": 4,
 "nbformat_minor": 4
}
