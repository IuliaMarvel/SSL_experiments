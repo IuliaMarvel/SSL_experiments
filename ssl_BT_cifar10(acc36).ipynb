{
 "cells": [
  {
   "cell_type": "code",
   "execution_count": 116,
   "metadata": {
    "execution": {
     "iopub.execute_input": "2023-08-14T18:27:39.229604Z",
     "iopub.status.busy": "2023-08-14T18:27:39.229272Z",
     "iopub.status.idle": "2023-08-14T18:27:39.263369Z",
     "shell.execute_reply": "2023-08-14T18:27:39.262641Z",
     "shell.execute_reply.started": "2023-08-14T18:27:39.229579Z"
    }
   },
   "outputs": [
    {
     "name": "stdout",
     "output_type": "stream",
     "text": [
      "The autoreload extension is already loaded. To reload it, use:\n",
      "  %reload_ext autoreload\n"
     ]
    }
   ],
   "source": [
    "%load_ext autoreload\n",
    "%autoreload 2"
   ]
  },
  {
   "cell_type": "code",
   "execution_count": 117,
   "metadata": {
    "execution": {
     "iopub.execute_input": "2023-08-14T18:27:39.264703Z",
     "iopub.status.busy": "2023-08-14T18:27:39.264530Z",
     "iopub.status.idle": "2023-08-14T18:27:42.287937Z",
     "shell.execute_reply": "2023-08-14T18:27:42.287054Z",
     "shell.execute_reply.started": "2023-08-14T18:27:39.264685Z"
    },
    "id": "We_YF-2e_Dlu"
   },
   "outputs": [
    {
     "name": "stdout",
     "output_type": "stream",
     "text": [
      "\u001b[33mWARNING: Running pip as the 'root' user can result in broken permissions and conflicting behaviour with the system package manager. It is recommended to use a virtual environment instead: https://pip.pypa.io/warnings/venv\u001b[0m\u001b[33m\n",
      "\u001b[0m"
     ]
    }
   ],
   "source": [
    "!pip install -q lightly"
   ]
  },
  {
   "cell_type": "code",
   "execution_count": 118,
   "metadata": {
    "execution": {
     "iopub.execute_input": "2023-08-14T18:27:42.289939Z",
     "iopub.status.busy": "2023-08-14T18:27:42.289263Z",
     "iopub.status.idle": "2023-08-14T18:27:42.320820Z",
     "shell.execute_reply": "2023-08-14T18:27:42.320304Z",
     "shell.execute_reply.started": "2023-08-14T18:27:42.289916Z"
    }
   },
   "outputs": [],
   "source": [
    "DATASET = 'CIFAR10' # or 'CIFAR100'\n",
    "N_EPOCHS = 20"
   ]
  },
  {
   "cell_type": "code",
   "execution_count": 119,
   "metadata": {
    "colab": {
     "base_uri": "https://localhost:8080/"
    },
    "execution": {
     "iopub.execute_input": "2023-08-14T18:27:42.322730Z",
     "iopub.status.busy": "2023-08-14T18:27:42.322543Z",
     "iopub.status.idle": "2023-08-14T18:27:42.351444Z",
     "shell.execute_reply": "2023-08-14T18:27:42.350923Z",
     "shell.execute_reply.started": "2023-08-14T18:27:42.322713Z"
    },
    "id": "HJLtWGUH_Dly",
    "outputId": "6b2d42ac-40ba-4c82-b500-0688ed595c37"
   },
   "outputs": [],
   "source": [
    "import os\n",
    "import warnings\n",
    "warnings.filterwarnings(\"ignore\")\n",
    "import numpy as np\n",
    "import pandas as pd\n",
    "import copy\n",
    "\n",
    "import matplotlib.pyplot as plt\n",
    "from PIL import Image\n",
    "\n",
    "from tqdm import tqdm\n",
    "\n",
    "import torch\n",
    "import torchvision\n",
    "\n",
    "from torch import nn\n",
    "from torchvision import transforms\n",
    "\n",
    "from lightly.data import LightlyDataset\n",
    "from lightly.loss import BarlowTwinsLoss\n",
    "from lightly.models.modules import BarlowTwinsProjectionHead\n",
    "from lightly.transforms.byol_transform import (\n",
    "    BYOLTransform,\n",
    "    BYOLView1Transform,\n",
    "    BYOLView2Transform,\n",
    ")\n",
    "\n",
    "\n",
    "from sklearn.preprocessing import normalize"
   ]
  },
  {
   "cell_type": "code",
   "execution_count": 120,
   "metadata": {
    "execution": {
     "iopub.execute_input": "2023-08-14T18:27:42.352259Z",
     "iopub.status.busy": "2023-08-14T18:27:42.352084Z",
     "iopub.status.idle": "2023-08-14T18:27:42.379614Z",
     "shell.execute_reply": "2023-08-14T18:27:42.378750Z",
     "shell.execute_reply.started": "2023-08-14T18:27:42.352243Z"
    },
    "id": "s_TnDi0bNCcN"
   },
   "outputs": [],
   "source": [
    "from knn import KNN, reproducibility\n",
    "\n",
    "reproducibility(42)"
   ]
  },
  {
   "cell_type": "code",
   "execution_count": 121,
   "metadata": {
    "execution": {
     "iopub.execute_input": "2023-08-14T18:27:42.380920Z",
     "iopub.status.busy": "2023-08-14T18:27:42.380580Z",
     "iopub.status.idle": "2023-08-14T18:27:42.408276Z",
     "shell.execute_reply": "2023-08-14T18:27:42.407680Z",
     "shell.execute_reply.started": "2023-08-14T18:27:42.380898Z"
    },
    "id": "Pd4YeqLl_Dlz"
   },
   "outputs": [],
   "source": [
    "class BarlowTwins(nn.Module):\n",
    "    def __init__(self, backbone):\n",
    "        super().__init__()\n",
    "        self.backbone = backbone\n",
    "        self.projection_head = BarlowTwinsProjectionHead(512, 2048, 2048)\n",
    "\n",
    "    def forward(self, x):\n",
    "        x = self.backbone(x).flatten(start_dim=1)\n",
    "        z = self.projection_head(x)\n",
    "        return z"
   ]
  },
  {
   "cell_type": "code",
   "execution_count": 122,
   "metadata": {
    "execution": {
     "iopub.execute_input": "2023-08-14T18:27:42.409572Z",
     "iopub.status.busy": "2023-08-14T18:27:42.409399Z",
     "iopub.status.idle": "2023-08-14T18:27:42.436966Z",
     "shell.execute_reply": "2023-08-14T18:27:42.436350Z",
     "shell.execute_reply.started": "2023-08-14T18:27:42.409559Z"
    },
    "id": "2bUdldUW_Dl5"
   },
   "outputs": [],
   "source": [
    "def get_input_stats(dataset):\n",
    "    if DATASET == 'CIFAR10':\n",
    "        data_mean, data_std = (0.5071, 0.4865, 0.4409), (0.2673, 0.2564, 0.2762)\n",
    "    elif DATASET == 'CIFAR100':\n",
    "        data_mean, data_std = (0.4914, 0.4822, 0.4465), (0.2471, 0.2435, 0.2616)\n",
    "\n",
    "    return data_mean, data_std"
   ]
  },
  {
   "cell_type": "code",
   "execution_count": 123,
   "metadata": {
    "execution": {
     "iopub.execute_input": "2023-08-14T18:27:42.438364Z",
     "iopub.status.busy": "2023-08-14T18:27:42.438184Z",
     "iopub.status.idle": "2023-08-14T18:27:42.665013Z",
     "shell.execute_reply": "2023-08-14T18:27:42.664452Z",
     "shell.execute_reply.started": "2023-08-14T18:27:42.438346Z"
    }
   },
   "outputs": [
    {
     "name": "stdout",
     "output_type": "stream",
     "text": [
      "\n"
     ]
    }
   ],
   "source": [
    "resnet = torchvision.models.resnet18()\n",
    "backbone = nn.Sequential(*list(resnet.children())[:-1])\n",
    "model = BarlowTwins(backbone)\n",
    "device = \"cuda\" if torch.cuda.is_available() else \"cpu\"\n",
    "model.to(device)\n",
    "print()"
   ]
  },
  {
   "cell_type": "code",
   "execution_count": 124,
   "metadata": {
    "colab": {
     "base_uri": "https://localhost:8080/"
    },
    "execution": {
     "iopub.execute_input": "2023-08-14T18:27:42.666419Z",
     "iopub.status.busy": "2023-08-14T18:27:42.666245Z",
     "iopub.status.idle": "2023-08-14T18:27:44.912526Z",
     "shell.execute_reply": "2023-08-14T18:27:44.911837Z",
     "shell.execute_reply.started": "2023-08-14T18:27:42.666402Z"
    },
    "id": "HJc8dC9w_Dl6",
    "outputId": "c4cd44a8-64ee-417e-ddd7-0fa205bd2f94"
   },
   "outputs": [
    {
     "name": "stdout",
     "output_type": "stream",
     "text": [
      "Files already downloaded and verified\n"
     ]
    }
   ],
   "source": [
    "if DATASET == 'CIFAR10':\n",
    "    cifar = torchvision.datasets.CIFAR10(\"datasets/cifar_10\", download=True)\n",
    "if DATASET == 'CIFAR100':\n",
    "    cifar = torchvision.datasets.CIFAR100(\"datasets/cifar_100\", download=True)\n",
    "\n",
    "data_mean, data_std = get_input_stats(DATASET)\n",
    "normalize_dict = {'mean': data_mean, 'std': data_std}\n",
    "\n",
    "transform = BYOLTransform(\n",
    "    view_1_transform=BYOLView1Transform(input_size=32, gaussian_blur=0.0),\n",
    "    view_2_transform=BYOLView2Transform(input_size=32, gaussian_blur=0.0),\n",
    ")\n",
    "cifar = LightlyDataset.from_torch_dataset(cifar, transform=transform)\n",
    "\n",
    "dataloader = torch.utils.data.DataLoader(\n",
    "    cifar,\n",
    "    batch_size=256,\n",
    "    shuffle=True,\n",
    "    drop_last=True,\n",
    "    num_workers=2,\n",
    "    pin_memory=True\n",
    ")"
   ]
  },
  {
   "cell_type": "code",
   "execution_count": 125,
   "metadata": {
    "execution": {
     "iopub.execute_input": "2023-08-14T18:27:44.916998Z",
     "iopub.status.busy": "2023-08-14T18:27:44.916293Z",
     "iopub.status.idle": "2023-08-14T18:27:44.946675Z",
     "shell.execute_reply": "2023-08-14T18:27:44.945908Z",
     "shell.execute_reply.started": "2023-08-14T18:27:44.916959Z"
    },
    "id": "qTlMqTgm_Dl7"
   },
   "outputs": [],
   "source": [
    "criterion = BarlowTwinsLoss()\n",
    "optimizer = torch.optim.Adam(model.parameters(), lr=3e-4)\n",
    "# optimizer = torch.optim.Adam(model.parameters(), lr=3e-4)\n",
    "# scheduler = torch.optim.lr_scheduler.CLR(optimizer,gamma=0.85)\n",
    "# scaler = torch.cuda.amp.GradScaler()"
   ]
  },
  {
   "cell_type": "code",
   "execution_count": 129,
   "metadata": {
    "colab": {
     "base_uri": "https://localhost:8080/"
    },
    "execution": {
     "iopub.execute_input": "2023-08-14T18:29:21.230392Z",
     "iopub.status.busy": "2023-08-14T18:29:21.229622Z",
     "iopub.status.idle": "2023-08-14T18:29:22.696433Z",
     "shell.execute_reply": "2023-08-14T18:29:22.695775Z",
     "shell.execute_reply.started": "2023-08-14T18:29:21.230358Z"
    },
    "id": "wccr0NDQ_Dl8",
    "outputId": "4e777ff7-e485-47b7-e76e-d68c2ccf8203"
   },
   "outputs": [
    {
     "name": "stdout",
     "output_type": "stream",
     "text": [
      "Files already downloaded and verified\n",
      "Files already downloaded and verified\n"
     ]
    }
   ],
   "source": [
    "from torchvision import transforms as T\n",
    "from torch.utils.data import DataLoader\n",
    "\n",
    "BATCH_SIZE = 32\n",
    "\n",
    "test_transform = T.Compose([\n",
    "            T.ToTensor(),\n",
    "            # T.Normalize(mean=[0.485, 0.456, 0.406], std=[0.229, 0.224, 0.225])\n",
    "])\n",
    "\n",
    "def get_dataloader(batch_size, train=True, transform=test_transform):\n",
    "    if DATASET == 'CIFAR10':\n",
    "        cifar = torchvision.datasets.CIFAR10(\"datasets/cifar_10\",train=train, transform=transform,download=True)\n",
    "    if DATASET == 'CIFAR100':\n",
    "        cifar = torchvision.datasets.CIFAR100(\"datasets/cifar_100\",train=train,transform=transform, download=True)\n",
    "    return DataLoader(dataset=cifar, batch_size=batch_size, num_workers=4, drop_last=True)\n",
    "\n",
    "\n",
    "loader_train_plain = get_dataloader(batch_size=BATCH_SIZE, train=True, transform=test_transform)\n",
    "loader_test = get_dataloader(batch_size=BATCH_SIZE, train=False, transform=test_transform)"
   ]
  },
  {
   "cell_type": "code",
   "execution_count": 130,
   "metadata": {
    "execution": {
     "iopub.execute_input": "2023-08-14T18:29:27.235230Z",
     "iopub.status.busy": "2023-08-14T18:29:27.234729Z",
     "iopub.status.idle": "2023-08-14T18:30:31.516479Z",
     "shell.execute_reply": "2023-08-14T18:30:31.515740Z",
     "shell.execute_reply.started": "2023-08-14T18:29:27.235206Z"
    }
   },
   "outputs": [
    {
     "name": "stdout",
     "output_type": "stream",
     "text": [
      "29.335365635701116 25.0200049573358\n"
     ]
    }
   ],
   "source": [
    "ssl_evaluator = KNN(model=model, k=1, device='cuda')\n",
    "train_acc, val_acc = ssl_evaluator.fit(loader_train_plain, loader_test)\n",
    "print(train_acc, val_acc)"
   ]
  },
  {
   "cell_type": "code",
   "execution_count": 128,
   "metadata": {
    "colab": {
     "base_uri": "https://localhost:8080/"
    },
    "execution": {
     "iopub.execute_input": "2023-08-14T18:28:49.779515Z",
     "iopub.status.busy": "2023-08-14T18:28:49.779225Z",
     "iopub.status.idle": "2023-08-14T18:28:53.693603Z",
     "shell.execute_reply": "2023-08-14T18:28:53.692227Z",
     "shell.execute_reply.started": "2023-08-14T18:28:49.779485Z"
    },
    "id": "lUcm4k87_Dl9",
    "outputId": "70802dc9-8507-4998-d747-154809d4f8a5"
   },
   "outputs": [
    {
     "name": "stderr",
     "output_type": "stream",
     "text": [
      "  0%|          | 0/20 [00:03<?, ?it/s]\n"
     ]
    },
    {
     "ename": "KeyboardInterrupt",
     "evalue": "",
     "output_type": "error",
     "traceback": [
      "\u001b[0;31m---------------------------------------------------------------------------\u001b[0m",
      "\u001b[0;31mKeyboardInterrupt\u001b[0m                         Traceback (most recent call last)",
      "Cell \u001b[0;32mIn [128], line 13\u001b[0m\n\u001b[1;32m     11\u001b[0m loss \u001b[38;5;241m=\u001b[39m criterion(z0, z1)\n\u001b[1;32m     12\u001b[0m total_loss \u001b[38;5;241m+\u001b[39m\u001b[38;5;241m=\u001b[39m loss\u001b[38;5;241m.\u001b[39mdetach()\n\u001b[0;32m---> 13\u001b[0m \u001b[43mloss\u001b[49m\u001b[38;5;241;43m.\u001b[39;49m\u001b[43mbackward\u001b[49m\u001b[43m(\u001b[49m\u001b[43m)\u001b[49m\n\u001b[1;32m     14\u001b[0m optimizer\u001b[38;5;241m.\u001b[39mstep()\n\u001b[1;32m     15\u001b[0m optimizer\u001b[38;5;241m.\u001b[39mzero_grad()\n",
      "File \u001b[0;32m/usr/local/lib/python3.9/dist-packages/torch/_tensor.py:396\u001b[0m, in \u001b[0;36mTensor.backward\u001b[0;34m(self, gradient, retain_graph, create_graph, inputs)\u001b[0m\n\u001b[1;32m    387\u001b[0m \u001b[38;5;28;01mif\u001b[39;00m has_torch_function_unary(\u001b[38;5;28mself\u001b[39m):\n\u001b[1;32m    388\u001b[0m     \u001b[38;5;28;01mreturn\u001b[39;00m handle_torch_function(\n\u001b[1;32m    389\u001b[0m         Tensor\u001b[38;5;241m.\u001b[39mbackward,\n\u001b[1;32m    390\u001b[0m         (\u001b[38;5;28mself\u001b[39m,),\n\u001b[0;32m   (...)\u001b[0m\n\u001b[1;32m    394\u001b[0m         create_graph\u001b[38;5;241m=\u001b[39mcreate_graph,\n\u001b[1;32m    395\u001b[0m         inputs\u001b[38;5;241m=\u001b[39minputs)\n\u001b[0;32m--> 396\u001b[0m \u001b[43mtorch\u001b[49m\u001b[38;5;241;43m.\u001b[39;49m\u001b[43mautograd\u001b[49m\u001b[38;5;241;43m.\u001b[39;49m\u001b[43mbackward\u001b[49m\u001b[43m(\u001b[49m\u001b[38;5;28;43mself\u001b[39;49m\u001b[43m,\u001b[49m\u001b[43m \u001b[49m\u001b[43mgradient\u001b[49m\u001b[43m,\u001b[49m\u001b[43m \u001b[49m\u001b[43mretain_graph\u001b[49m\u001b[43m,\u001b[49m\u001b[43m \u001b[49m\u001b[43mcreate_graph\u001b[49m\u001b[43m,\u001b[49m\u001b[43m \u001b[49m\u001b[43minputs\u001b[49m\u001b[38;5;241;43m=\u001b[39;49m\u001b[43minputs\u001b[49m\u001b[43m)\u001b[49m\n",
      "File \u001b[0;32m/usr/local/lib/python3.9/dist-packages/torch/autograd/__init__.py:173\u001b[0m, in \u001b[0;36mbackward\u001b[0;34m(tensors, grad_tensors, retain_graph, create_graph, grad_variables, inputs)\u001b[0m\n\u001b[1;32m    168\u001b[0m     retain_graph \u001b[38;5;241m=\u001b[39m create_graph\n\u001b[1;32m    170\u001b[0m \u001b[38;5;66;03m# The reason we repeat same the comment below is that\u001b[39;00m\n\u001b[1;32m    171\u001b[0m \u001b[38;5;66;03m# some Python versions print out the first line of a multi-line function\u001b[39;00m\n\u001b[1;32m    172\u001b[0m \u001b[38;5;66;03m# calls in the traceback and some print out the last line\u001b[39;00m\n\u001b[0;32m--> 173\u001b[0m \u001b[43mVariable\u001b[49m\u001b[38;5;241;43m.\u001b[39;49m\u001b[43m_execution_engine\u001b[49m\u001b[38;5;241;43m.\u001b[39;49m\u001b[43mrun_backward\u001b[49m\u001b[43m(\u001b[49m\u001b[43m  \u001b[49m\u001b[38;5;66;43;03m# Calls into the C++ engine to run the backward pass\u001b[39;49;00m\n\u001b[1;32m    174\u001b[0m \u001b[43m    \u001b[49m\u001b[43mtensors\u001b[49m\u001b[43m,\u001b[49m\u001b[43m \u001b[49m\u001b[43mgrad_tensors_\u001b[49m\u001b[43m,\u001b[49m\u001b[43m \u001b[49m\u001b[43mretain_graph\u001b[49m\u001b[43m,\u001b[49m\u001b[43m \u001b[49m\u001b[43mcreate_graph\u001b[49m\u001b[43m,\u001b[49m\u001b[43m \u001b[49m\u001b[43minputs\u001b[49m\u001b[43m,\u001b[49m\n\u001b[1;32m    175\u001b[0m \u001b[43m    \u001b[49m\u001b[43mallow_unreachable\u001b[49m\u001b[38;5;241;43m=\u001b[39;49m\u001b[38;5;28;43;01mTrue\u001b[39;49;00m\u001b[43m,\u001b[49m\u001b[43m \u001b[49m\u001b[43maccumulate_grad\u001b[49m\u001b[38;5;241;43m=\u001b[39;49m\u001b[38;5;28;43;01mTrue\u001b[39;49;00m\u001b[43m)\u001b[49m\n",
      "\u001b[0;31mKeyboardInterrupt\u001b[0m: "
     ]
    }
   ],
   "source": [
    "best_val_acc = 0\n",
    "\n",
    "for epoch in tqdm(range(N_EPOCHS)):\n",
    "    total_loss = 0\n",
    "    for batch in dataloader:\n",
    "        x0, x1 = batch[0]\n",
    "        x0 = x0.to(device)\n",
    "        x1 = x1.to(device)\n",
    "        z0 = model(x0)\n",
    "        z1 = model(x1)\n",
    "        loss = criterion(z0, z1)\n",
    "        total_loss += loss.detach()\n",
    "        loss.backward()\n",
    "        optimizer.step()\n",
    "        optimizer.zero_grad()\n",
    "    # scheduler.step()\n",
    "\n",
    "    avg_loss = total_loss / len(dataloader)\n",
    "\n",
    "    print(f\"epoch: {epoch:>02}, loss: {avg_loss:.5f}\")\n",
    "    \n",
    "    if epoch % 10 == 0:\n",
    "        ssl_evaluator = KNN(model=model, k=1, device='cuda')\n",
    "        train_acc, val_acc = ssl_evaluator.fit(loader_train_plain, loader_test)\n",
    "        if val_acc > best_val_acc:\n",
    "            torch.save(model.state_dict(),f'BT_c100_acc{val_acc:.2f}.pt')\n",
    "            best_val_acc = val_acc\n",
    "        print(f'Train Accuracy:{train_acc:.1f}%',f' Val Accuracy:{val_acc:.1f}%')\n"
   ]
  },
  {
   "cell_type": "code",
   "execution_count": null,
   "metadata": {
    "execution": {
     "iopub.status.busy": "2023-08-14T18:28:53.694295Z",
     "iopub.status.idle": "2023-08-14T18:28:53.694625Z",
     "shell.execute_reply": "2023-08-14T18:28:53.694469Z",
     "shell.execute_reply.started": "2023-08-14T18:28:53.694457Z"
    }
   },
   "outputs": [],
   "source": [
    "# model.load_state_dict(torch.load('BT_c100_acc18.69.pt'))"
   ]
  },
  {
   "cell_type": "code",
   "execution_count": null,
   "metadata": {
    "execution": {
     "iopub.status.busy": "2023-08-14T18:28:53.695475Z",
     "iopub.status.idle": "2023-08-14T18:28:53.695670Z",
     "shell.execute_reply": "2023-08-14T18:28:53.695595Z",
     "shell.execute_reply.started": "2023-08-14T18:28:53.695595Z"
    }
   },
   "outputs": [],
   "source": [
    "ssl_evaluator = KNN(model=model, k=1, device='cuda')\n",
    "train_acc, val_acc = ssl_evaluator.fit(loader_train_plain, loader_test)\n",
    "print(train_acc, val_acc)"
   ]
  },
  {
   "cell_type": "code",
   "execution_count": null,
   "metadata": {
    "execution": {
     "iopub.status.busy": "2023-08-14T18:28:53.696601Z",
     "iopub.status.idle": "2023-08-14T18:28:53.696794Z",
     "shell.execute_reply": "2023-08-14T18:28:53.696739Z",
     "shell.execute_reply.started": "2023-08-14T18:28:53.696739Z"
    },
    "id": "fALhRiGW_DmB"
   },
   "outputs": [],
   "source": [
    "backbone = model.backbone\n",
    "torch.save(backbone.state_dict(), f'BT_{DATASET}_acc{val_acc:.2f}_epoch{N_EPOCHS}.pt')"
   ]
  }
 ],
 "metadata": {
  "accelerator": "GPU",
  "colab": {
   "gpuType": "T4",
   "provenance": []
  },
  "kernelspec": {
   "display_name": "Python 3 (ipykernel)",
   "language": "python",
   "name": "python3"
  },
  "language_info": {
   "codemirror_mode": {
    "name": "ipython",
    "version": 3
   },
   "file_extension": ".py",
   "mimetype": "text/x-python",
   "name": "python",
   "nbconvert_exporter": "python",
   "pygments_lexer": "ipython3",
   "version": "3.9.16"
  }
 },
 "nbformat": 4,
 "nbformat_minor": 4
}
